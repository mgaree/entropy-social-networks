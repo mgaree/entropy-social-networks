{
 "cells": [
  {
   "cell_type": "code",
   "execution_count": 1,
   "metadata": {},
   "outputs": [],
   "source": [
    "import numpy as np\n",
    "\n",
    "import model\n",
    "import agents\n",
    "\n",
    "from randomgen import RandomGenerator, PCG64"
   ]
  },
  {
   "cell_type": "code",
   "execution_count": 2,
   "metadata": {},
   "outputs": [],
   "source": [
    " m = model.build_test_model()"
   ]
  },
  {
   "cell_type": "code",
   "execution_count": 3,
   "metadata": {
    "scrolled": true
   },
   "outputs": [
    {
     "name": "stdout",
     "output_type": "stream",
     "text": [
      " "
     ]
    }
   ],
   "source": [
    "%prun m.run_model()"
   ]
  },
  {
   "cell_type": "code",
   "execution_count": 39,
   "metadata": {},
   "outputs": [],
   "source": [
    "import matplotlib.pyplot as plt\n",
    "\n",
    "import networkx as nx"
   ]
  },
  {
   "cell_type": "code",
   "execution_count": 40,
   "metadata": {},
   "outputs": [],
   "source": [
    "from model import Model\n",
    "import agents, activation_regimes"
   ]
  },
  {
   "cell_type": "code",
   "execution_count": null,
   "metadata": {},
   "outputs": [],
   "source": []
  },
  {
   "cell_type": "code",
   "execution_count": 41,
   "metadata": {},
   "outputs": [],
   "source": [
    "raw_data = m.raw_data\n",
    "raw_data = raw_data[:100, :]"
   ]
  },
  {
   "cell_type": "code",
   "execution_count": 4,
   "metadata": {},
   "outputs": [],
   "source": [
    "import entropy"
   ]
  },
  {
   "cell_type": "code",
   "execution_count": 15,
   "metadata": {},
   "outputs": [
    {
     "data": {
      "text/plain": [
       "430.95275813919085"
      ]
     },
     "execution_count": 15,
     "metadata": {},
     "output_type": "execute_result"
    }
   ],
   "source": [
    "entropy.relative_entropy(raw_data[0,:].reshape(1, -1), 1/50)"
   ]
  },
  {
   "cell_type": "code",
   "execution_count": 21,
   "metadata": {},
   "outputs": [
    {
     "data": {
      "text/plain": [
       "nan"
      ]
     },
     "execution_count": 21,
     "metadata": {},
     "output_type": "execute_result"
    }
   ],
   "source": [
    "entropy.relative_entropy(raw_data, 1/50)"
   ]
  },
  {
   "cell_type": "code",
   "execution_count": 33,
   "metadata": {},
   "outputs": [],
   "source": [
    "raw_data -= np.min(raw_data)"
   ]
  },
  {
   "cell_type": "code",
   "execution_count": 3,
   "metadata": {},
   "outputs": [],
   "source": [
    "# G = nx.erdos_renyi_graph(50, .5, 1234, directed=True)\n",
    "# G = nx.barbell_graph(10, 10, )\n",
    "\n",
    "# G = nx.path_graph(500, create_using=nx.DiGraph)\n",
    "# G = nx.complete_graph(100, create_using=nx.DiGraph)\n",
    "\n",
    "G = nx.barabasi_albert_graph(100, 1)\n",
    "G = nx.to_directed(G)\n",
    "# from networks import to_directed_modified\n",
    "# G = to_directed_modified(G, np.random)\n",
    "\n",
    "# G = nx.complete_graph(2)\n",
    "# G = nx.to_directed(G)\n",
    "# G.remove_edge(0, 1)"
   ]
  },
  {
   "cell_type": "code",
   "execution_count": 31,
   "metadata": {},
   "outputs": [
    {
     "data": {
      "text/plain": [
       "32.52777777777778"
      ]
     },
     "execution_count": 31,
     "metadata": {},
     "output_type": "execute_result"
    }
   ],
   "source": [
    "(16 + 300 + 14.25*60) * 100 / 60 / 60  # hrs per trial"
   ]
  },
  {
   "cell_type": "code",
   "execution_count": 33,
   "metadata": {},
   "outputs": [
    {
     "data": {
      "text/plain": [
       "3.2943055555555554"
      ]
     },
     "execution_count": 33,
     "metadata": {},
     "output_type": "execute_result"
    }
   ],
   "source": [
    "(.595 + 20 + 98) * 100 /60/60  # hrs per trial"
   ]
  },
  {
   "cell_type": "code",
   "execution_count": 6,
   "metadata": {
    "scrolled": true
   },
   "outputs": [
    {
     "data": {
      "text/plain": [
       "2.2800000000000002"
      ]
     },
     "execution_count": 6,
     "metadata": {},
     "output_type": "execute_result"
    }
   ],
   "source": [
    "8208/60/60"
   ]
  },
  {
   "cell_type": "code",
   "execution_count": 8,
   "metadata": {},
   "outputs": [],
   "source": [
    "import numpy as np\n",
    "qq = np.load('results/trial_results_3.npy')"
   ]
  },
  {
   "cell_type": "code",
   "execution_count": 10,
   "metadata": {},
   "outputs": [
    {
     "data": {
      "text/plain": [
       "(array([[[5.64385619e+00, 8.88178420e-15],\n",
       "         [0.00000000e+00, 0.00000000e+00],\n",
       "         [0.00000000e+00, 0.00000000e+00],\n",
       "         [2.58496250e+00, 7.10542736e-15],\n",
       "         [0.00000000e+00, 0.00000000e+00],\n",
       "         [0.00000000e+00, 0.00000000e+00]],\n",
       " \n",
       "        [[4.73742819e+00, 3.01586074e-03],\n",
       "         [3.65285095e-01, 6.07406114e-03],\n",
       "         [2.63730912e-02, 1.18118694e-03],\n",
       "         [1.75020050e+00, 4.04491730e-03],\n",
       "         [6.98710864e-01, 6.85310823e-03],\n",
       "         [8.63017366e-02, 2.06565292e-03]],\n",
       " \n",
       "        [[4.37733946e+00, 4.49569365e-03],\n",
       "         [3.35382624e-01, 5.47143697e-03],\n",
       "         [3.65931682e-02, 1.24070315e-03],\n",
       "         [1.33542596e+00, 4.94903021e-03],\n",
       "         [9.83939455e-01, 8.00003673e-03],\n",
       "         [1.63004245e-01, 2.42079974e-03]],\n",
       " \n",
       "        ...,\n",
       " \n",
       "        [[5.60380243e+00, 2.55746187e-04],\n",
       "         [8.04721280e-03, 1.32230711e-04],\n",
       "         [7.61771507e-04, 2.92385951e-05],\n",
       "         [2.29053116e+00, 2.04974048e-01],\n",
       "         [0.00000000e+00, 0.00000000e+00],\n",
       "         [0.00000000e+00, 0.00000000e+00]],\n",
       " \n",
       "        [[5.60387124e+00, 2.55310975e-04],\n",
       "         [8.03343627e-03, 1.32004666e-04],\n",
       "         [7.60432084e-04, 2.91878979e-05],\n",
       "         [0.00000000e+00, 0.00000000e+00],\n",
       "         [0.00000000e+00, 0.00000000e+00],\n",
       "         [0.00000000e+00, 0.00000000e+00]],\n",
       " \n",
       "        [[5.60393980e+00, 2.54877349e-04],\n",
       "         [0.00000000e+00, 0.00000000e+00],\n",
       "         [0.00000000e+00, 0.00000000e+00],\n",
       "         [0.00000000e+00, 0.00000000e+00],\n",
       "         [0.00000000e+00, 0.00000000e+00],\n",
       "         [0.00000000e+00, 0.00000000e+00]]]), (501, 6, 2))"
      ]
     },
     "execution_count": 10,
     "metadata": {},
     "output_type": "execute_result"
    }
   ],
   "source": [
    "qq, qq.shape"
   ]
  },
  {
   "cell_type": "markdown",
   "metadata": {},
   "source": [
    "this speedup is significant. not only is it (very nearly) an order of magnitude improvement, it also puts it well under 4hrs, so it \"should\" fit on a single standby core"
   ]
  },
  {
   "cell_type": "code",
   "execution_count": 1,
   "metadata": {},
   "outputs": [],
   "source": [
    "import data_processors\n",
    "import networkx as nx\n",
    "import numpy as np\n"
   ]
  },
  {
   "cell_type": "code",
   "execution_count": null,
   "metadata": {},
   "outputs": [],
   "source": [
    "x = data_processors.process_raw_data_into_entropy_timeseries(\n",
    "    np.random.uniform(-1, 1, (100, 500)),\n",
    "    nx.to_directed(nx.barabasi_albert_graph(100, 1))\n",
    ")\n"
   ]
  },
  {
   "cell_type": "code",
   "execution_count": 1,
   "metadata": {},
   "outputs": [
    {
     "data": {
      "text/plain": [
       "995"
      ]
     },
     "execution_count": 1,
     "metadata": {},
     "output_type": "execute_result"
    }
   ],
   "source": [
    "16*60+35"
   ]
  },
  {
   "cell_type": "code",
   "execution_count": 5,
   "metadata": {},
   "outputs": [
    {
     "data": {
      "text/plain": [
       "2.444444444444444"
      ]
     },
     "execution_count": 5,
     "metadata": {},
     "output_type": "execute_result"
    }
   ],
   "source": [
    "88*100/60/60"
   ]
  },
  {
   "cell_type": "code",
   "execution_count": 3,
   "metadata": {},
   "outputs": [
    {
     "data": {
      "text/plain": [
       "0.9115577889447236"
      ]
     },
     "execution_count": 3,
     "metadata": {},
     "output_type": "execute_result"
    }
   ],
   "source": [
    "(995-88)/995"
   ]
  },
  {
   "cell_type": "code",
   "execution_count": 1,
   "metadata": {},
   "outputs": [
    {
     "data": {
      "text/plain": [
       "array([0.5, 1.5, 2.5, 3.5, 4.5, 5.5, 6.5])"
      ]
     },
     "execution_count": 1,
     "metadata": {},
     "output_type": "execute_result"
    }
   ],
   "source": [
    "import entropy\n",
    "entropy.bins_map['symbolic']"
   ]
  },
  {
   "cell_type": "code",
   "execution_count": 47,
   "metadata": {},
   "outputs": [],
   "source": [
    "raw_data = np.random.uniform(-1, 1, (10000, 500))"
   ]
  },
  {
   "cell_type": "code",
   "execution_count": 48,
   "metadata": {
    "scrolled": false
   },
   "outputs": [
    {
     "name": "stdout",
     "output_type": "stream",
     "text": [
      "114 ms ± 247 µs per loop (mean ± std. dev. of 7 runs, 10 loops each)\n"
     ]
    }
   ],
   "source": [
    "%timeit np.digitize(raw_data, bins)"
   ]
  },
  {
   "cell_type": "code",
   "execution_count": 17,
   "metadata": {
    "scrolled": true
   },
   "outputs": [
    {
     "data": {
      "text/plain": [
       "OutDegreeView({0: 22, 1: 9, 2: 2, 3: 4, 4: 6, 5: 1, 6: 2, 7: 7, 8: 1, 9: 6, 10: 2, 11: 3, 12: 2, 13: 5, 14: 2, 15: 5, 16: 1, 17: 1, 18: 6, 19: 2, 20: 1, 21: 3, 22: 3, 23: 2, 24: 3, 25: 2, 26: 1, 27: 1, 28: 1, 29: 4, 30: 3, 31: 1, 32: 1, 33: 1, 34: 1, 35: 2, 36: 1, 37: 1, 38: 1, 39: 2, 40: 1, 41: 1, 42: 1, 43: 1, 44: 5, 45: 1, 46: 1, 47: 1, 48: 1, 49: 1, 50: 1, 51: 1, 52: 1, 53: 1, 54: 1, 55: 1, 56: 1, 57: 1, 58: 2, 59: 2, 60: 1, 61: 1, 62: 2, 63: 2, 64: 1, 65: 1, 66: 2, 67: 1, 68: 1, 69: 1, 70: 1, 71: 1, 72: 1, 73: 1, 74: 1, 75: 1, 76: 1, 77: 2, 78: 2, 79: 1, 80: 1, 81: 1, 82: 1, 83: 2, 84: 1, 85: 2, 86: 1, 87: 2, 88: 1, 89: 1, 90: 1, 91: 1, 92: 1, 93: 1, 94: 1, 95: 1, 96: 1, 97: 1, 98: 1, 99: 1})"
      ]
     },
     "execution_count": 17,
     "metadata": {},
     "output_type": "execute_result"
    }
   ],
   "source": [
    "(G.out_degree)"
   ]
  },
  {
   "cell_type": "code",
   "execution_count": 11,
   "metadata": {},
   "outputs": [
    {
     "data": {
      "text/plain": [
       "(198, 2)"
      ]
     },
     "execution_count": 11,
     "metadata": {},
     "output_type": "execute_result"
    }
   ],
   "source": [
    "np.array(G.edges).shape"
   ]
  },
  {
   "cell_type": "code",
   "execution_count": 229,
   "metadata": {},
   "outputs": [
    {
     "data": {
      "text/plain": [
       "(False, 1)"
      ]
     },
     "execution_count": 229,
     "metadata": {},
     "output_type": "execute_result"
    }
   ],
   "source": [
    "nx.is_aperiodic(G), nx.number_strongly_connected_components(G)"
   ]
  },
  {
   "cell_type": "code",
   "execution_count": 239,
   "metadata": {},
   "outputs": [],
   "source": [
    "m = Model(1234, 50000, 0, agents.DeGrootAgent,\n",
    "activation_regimes.Synchronous, None, network_digraph=G)"
   ]
  },
  {
   "cell_type": "code",
   "execution_count": 236,
   "metadata": {},
   "outputs": [],
   "source": [
    "m.run_model()"
   ]
  },
  {
   "cell_type": "code",
   "execution_count": 237,
   "metadata": {
    "scrolled": true
   },
   "outputs": [
    {
     "data": {
      "image/png": "[encoded data removed]",
      "text/plain": [
       "<Figure size 432x288 with 1 Axes>"
      ]
     },
     "metadata": {
      "needs_background": "light"
     },
     "output_type": "display_data"
    }
   ],
   "source": [
    "plt.plot(m.raw_data[:, :].T);"
   ]
  },
  {
   "cell_type": "code",
   "execution_count": 233,
   "metadata": {},
   "outputs": [
    {
     "name": "stdout",
     "output_type": "stream",
     "text": [
      "0.4479694242297008 -0.5599683778260691 1.0079378020557699\n"
     ]
    }
   ],
   "source": [
    "final=m.raw_data[:,-1]\n",
    "print(np.max(final), np.min(final),  np.ptp(final))"
   ]
  },
  {
   "cell_type": "code",
   "execution_count": 238,
   "metadata": {
    "scrolled": false
   },
   "outputs": [
    {
     "data": {
      "text/plain": [
       "[<matplotlib.lines.Line2D at 0x1cace0f7dd8>]"
      ]
     },
     "execution_count": 238,
     "metadata": {},
     "output_type": "execute_result"
    },
    {
     "data": {
      "image/png": "[encoded data removed]",
      "text/plain": [
       "<Figure size 432x288 with 1 Axes>"
      ]
     },
     "metadata": {
      "needs_background": "light"
     },
     "output_type": "display_data"
    }
   ],
   "source": [
    "plt.plot(np.mean(m.raw_data, axis=0))"
   ]
  },
  {
   "cell_type": "code",
   "execution_count": 72,
   "metadata": {},
   "outputs": [],
   "source": [
    "def build_weights_matrix(m):\n",
    "    weights = np.zeros((m.N, m.N))\n",
    "    for agent in m.agents:\n",
    "        weights[agent.unique_id, agent.neighbor_ids] = agent.w_j\n",
    "    return weights"
   ]
  },
  {
   "cell_type": "code",
   "execution_count": 73,
   "metadata": {},
   "outputs": [],
   "source": [
    "weights = build_weights_matrix(m)"
   ]
  },
  {
   "cell_type": "code",
   "execution_count": 188,
   "metadata": {},
   "outputs": [
    {
     "data": {
      "text/plain": [
       "(500,)"
      ]
     },
     "execution_count": 188,
     "metadata": {},
     "output_type": "execute_result"
    }
   ],
   "source": [
    "np.mean(m.raw_data, axis=1).shape"
   ]
  },
  {
   "cell_type": "code",
   "execution_count": 83,
   "metadata": {},
   "outputs": [
    {
     "data": {
      "text/plain": [
       "array([0.62027169, 0.26674687])"
      ]
     },
     "execution_count": 83,
     "metadata": {},
     "output_type": "execute_result"
    }
   ],
   "source": [
    "np.dot(weights, m.agent_initial_opinions)"
   ]
  },
  {
   "cell_type": "code",
   "execution_count": 84,
   "metadata": {},
   "outputs": [
    {
     "data": {
      "text/plain": [
       "array([0.26674687, 0.62027169])"
      ]
     },
     "execution_count": 84,
     "metadata": {},
     "output_type": "execute_result"
    }
   ],
   "source": [
    "m.agent_initial_opinions"
   ]
  },
  {
   "cell_type": "code",
   "execution_count": 40,
   "metadata": {},
   "outputs": [],
   "source": [
    "m.run()"
   ]
  },
  {
   "cell_type": "code",
   "execution_count": 46,
   "metadata": {
    "scrolled": true
   },
   "outputs": [
    {
     "data": {
      "text/plain": [
       "[<matplotlib.lines.Line2D at 0x20ca8d61cc0>,\n",
       " <matplotlib.lines.Line2D at 0x20ca8d61e10>,\n",
       " <matplotlib.lines.Line2D at 0x20ca8d61f60>,\n",
       " <matplotlib.lines.Line2D at 0x20ca8d6b0f0>]"
      ]
     },
     "execution_count": 46,
     "metadata": {},
     "output_type": "execute_result"
    },
    {
     "data": {
      "image/png": "[encoded data removed]",
      "text/plain": [
       "<Figure size 432x288 with 1 Axes>"
      ]
     },
     "metadata": {
      "needs_background": "light"
     },
     "output_type": "display_data"
    }
   ],
   "source": [
    "plt.plot(np.arange(501), m.raw_data[[1, 3, 5, 7], :].T)"
   ]
  },
  {
   "cell_type": "code",
   "execution_count": 8,
   "metadata": {},
   "outputs": [],
   "source": [
    "import networkx as nx\n",
    "scc = list(nx.strongly_connected_component_subgraphs(m.G))"
   ]
  },
  {
   "cell_type": "code",
   "execution_count": 48,
   "metadata": {
    "scrolled": true
   },
   "outputs": [
    {
     "name": "stdout",
     "output_type": "stream",
     "text": [
      "[0, 1, 2, 3, 4, 5, 6, 7, 8, 9, 10, 11, 12, 13, 14, 15, 16, 17, 18, 19, 20, 21, 22, 23, 24, 25, 26, 27, 28, 29, 30, 31, 32, 33, 34, 35, 36, 37, 38, 39, 40, 41, 42, 43, 44, 45, 46, 47, 48, 49, 50, 51, 52, 53, 54, 55, 56, 57, 58, 59, 60, 61, 62, 63, 64, 65, 66, 67, 68, 69, 70, 71, 72, 73, 74, 75, 76, 77, 78, 79, 80, 81, 82, 83, 84, 85, 86, 87, 88, 89, 90, 91, 92, 93, 94, 95, 96, 97, 98, 99] 100\n"
     ]
    },
    {
     "data": {
      "text/plain": [
       "True"
      ]
     },
     "execution_count": 48,
     "metadata": {},
     "output_type": "execute_result"
    }
   ],
   "source": [
    "for c in scc:\n",
    "    print((c.nodes), len(c))\n",
    "isinstance(m.G, nx.DiGraph)"
   ]
  },
  {
   "cell_type": "code",
   "execution_count": 11,
   "metadata": {},
   "outputs": [
    {
     "data": {
      "text/plain": [
       "True"
      ]
     },
     "execution_count": 11,
     "metadata": {},
     "output_type": "execute_result"
    }
   ],
   "source": [
    "nx.has_path(m.G, 1, 25)\n"
   ]
  },
  {
   "cell_type": "code",
   "execution_count": 245,
   "metadata": {},
   "outputs": [],
   "source": [
    "import experimental_design\n",
    "\n",
    "def f():\n",
    "    des = experimental_design.load_design_file()\n",
    "    experimental_design.get_trial_settings(1, des)"
   ]
  },
  {
   "cell_type": "code",
   "execution_count": 247,
   "metadata": {},
   "outputs": [
    {
     "name": "stdout",
     "output_type": "stream",
     "text": [
      "5.38 ms ± 16.4 µs per loop (mean ± std. dev. of 7 runs, 100 loops each)\n"
     ]
    }
   ],
   "source": [
    "%timeit f()"
   ]
  },
  {
   "cell_type": "code",
   "execution_count": 10,
   "metadata": {},
   "outputs": [],
   "source": [
    "\n",
    "\n",
    "ag = [agents.StandardModelAgent(i, m) for i in range(1000)]"
   ]
  },
  {
   "cell_type": "code",
   "execution_count": 4,
   "metadata": {},
   "outputs": [],
   "source": [
    "\n",
    "\n",
    "rg = RandomGenerator(PCG64(1234, 1))\n",
    "\n",
    "# comparison of shuffle to choice\n",
    "\n",
    "def f():\n",
    "    rg.choice(ag, size=len(ag), replace=False)\n",
    "\n",
    "def g():\n",
    "    rg.shuffle(ag)  # shuffles in-place"
   ]
  },
  {
   "cell_type": "code",
   "execution_count": 21,
   "metadata": {},
   "outputs": [
    {
     "name": "stdout",
     "output_type": "stream",
     "text": [
      "125 µs ± 983 ns per loop (mean ± std. dev. of 7 runs, 10000 loops each)\n"
     ]
    }
   ],
   "source": [
    "%timeit f()"
   ]
  },
  {
   "cell_type": "code",
   "execution_count": 22,
   "metadata": {},
   "outputs": [
    {
     "name": "stdout",
     "output_type": "stream",
     "text": [
      "2.28 µs ± 31 ns per loop (mean ± std. dev. of 7 runs, 100000 loops each)\n"
     ]
    }
   ],
   "source": [
    "%timeit g()"
   ]
  },
  {
   "cell_type": "code",
   "execution_count": 28,
   "metadata": {},
   "outputs": [],
   "source": [
    "# comparison of choice with replacement to ... maybe build a random list of indexes and enumerate?\n",
    "\n",
    "def h():\n",
    "    rg.choice(ag, size=len(ag), replace=True)\n",
    "    for agent in ag:  # needed to add this to compare looping efficiencies\n",
    "        qq = agent.unique_id\n",
    "    \n",
    "def i():\n",
    "    indices = rg.randint(0, len(ag), len(ag))\n",
    "    \n",
    "    for ind in indices:\n",
    "        qq = ag[ind].unique_id    "
   ]
  },
  {
   "cell_type": "code",
   "execution_count": 29,
   "metadata": {},
   "outputs": [
    {
     "name": "stdout",
     "output_type": "stream",
     "text": [
      "145 µs ± 5.75 µs per loop (mean ± std. dev. of 7 runs, 10000 loops each)\n"
     ]
    }
   ],
   "source": [
    "%timeit h()"
   ]
  },
  {
   "cell_type": "code",
   "execution_count": 30,
   "metadata": {},
   "outputs": [
    {
     "name": "stdout",
     "output_type": "stream",
     "text": [
      "30.5 µs ± 212 ns per loop (mean ± std. dev. of 7 runs, 10000 loops each)\n"
     ]
    }
   ],
   "source": [
    "%timeit i()"
   ]
  },
  {
   "cell_type": "code",
   "execution_count": 43,
   "metadata": {},
   "outputs": [],
   "source": [
    "# comparing manual clip to interval to np.clip\n",
    "\n",
    "opinions = rg.uniform(-1.5, 1.5, 100)  # about 1/3 of values will be affected\n",
    "\n",
    "lower = -1\n",
    "upper = 1\n",
    "\n",
    "def old_clip():\n",
    "    data = list(opinions)\n",
    "    for x in data:\n",
    "        if x > upper:\n",
    "            x = upper\n",
    "        elif x < lower:\n",
    "            x = lower\n",
    "            \n",
    "def new_clip():\n",
    "    data = list(opinions)\n",
    "    for x in data:\n",
    "        x = np.clip(x, lower, upper)\n",
    "\n",
    "def new_clip2():\n",
    "    data = list(opinions)\n",
    "    for x in data:\n",
    "        x = (lower if x < lower else (upper if x > upper else x))\n",
    "        \n",
    "def new_clip3():\n",
    "    data = list(opinions)\n",
    "    for x in data:\n",
    "        x = max(lower, min(x, upper))"
   ]
  },
  {
   "cell_type": "code",
   "execution_count": 46,
   "metadata": {},
   "outputs": [
    {
     "name": "stdout",
     "output_type": "stream",
     "text": [
      "48.8 µs ± 413 ns per loop (mean ± std. dev. of 7 runs, 10000 loops each)\n"
     ]
    }
   ],
   "source": [
    "%timeit old_clip()"
   ]
  },
  {
   "cell_type": "code",
   "execution_count": 47,
   "metadata": {},
   "outputs": [
    {
     "name": "stdout",
     "output_type": "stream",
     "text": [
      "187 µs ± 354 ns per loop (mean ± std. dev. of 7 runs, 10000 loops each)\n"
     ]
    }
   ],
   "source": [
    "%timeit new_clip()"
   ]
  },
  {
   "cell_type": "code",
   "execution_count": 48,
   "metadata": {},
   "outputs": [
    {
     "name": "stdout",
     "output_type": "stream",
     "text": [
      "52.1 µs ± 390 ns per loop (mean ± std. dev. of 7 runs, 10000 loops each)\n"
     ]
    }
   ],
   "source": [
    "%timeit new_clip2()"
   ]
  },
  {
   "cell_type": "code",
   "execution_count": 49,
   "metadata": {},
   "outputs": [
    {
     "name": "stdout",
     "output_type": "stream",
     "text": [
      "78.7 µs ± 275 ns per loop (mean ± std. dev. of 7 runs, 10000 loops each)\n"
     ]
    }
   ],
   "source": [
    "%timeit new_clip3()"
   ]
  },
  {
   "cell_type": "code",
   "execution_count": 16,
   "metadata": {},
   "outputs": [],
   "source": [
    "import numpy as np"
   ]
  },
  {
   "cell_type": "code",
   "execution_count": 12,
   "metadata": {},
   "outputs": [],
   "source": [
    "# comparing dot product to other ways for getting the sum-product of two vectors\n",
    "\n",
    "x = rg.randn(100)\n",
    "y = rg.randn(100)\n",
    "\n",
    "def one():\n",
    "    sum = 0\n",
    "    for i in range(len(x)):\n",
    "        sum = sum + x[i] * y[i]\n",
    "\n",
    "        \n",
    "def two():\n",
    "    sum = 0\n",
    "    for i, j in zip(x, y):\n",
    "        sum += i * j\n",
    "        \n",
    "def three():\n",
    "    sum = np.sum(x*y)\n",
    "    \n",
    "def four():\n",
    "    sum = np.dot(x, y)\n",
    "    \n"
   ]
  },
  {
   "cell_type": "code",
   "execution_count": 13,
   "metadata": {},
   "outputs": [
    {
     "name": "stdout",
     "output_type": "stream",
     "text": [
      "52 µs ± 225 ns per loop (mean ± std. dev. of 7 runs, 10000 loops each)\n"
     ]
    }
   ],
   "source": [
    "%timeit one()"
   ]
  },
  {
   "cell_type": "code",
   "execution_count": 14,
   "metadata": {},
   "outputs": [
    {
     "name": "stdout",
     "output_type": "stream",
     "text": [
      "45.6 µs ± 218 ns per loop (mean ± std. dev. of 7 runs, 10000 loops each)\n"
     ]
    }
   ],
   "source": [
    "%timeit two()"
   ]
  },
  {
   "cell_type": "code",
   "execution_count": 17,
   "metadata": {},
   "outputs": [
    {
     "name": "stdout",
     "output_type": "stream",
     "text": [
      "3.41 µs ± 23.4 ns per loop (mean ± std. dev. of 7 runs, 100000 loops each)\n"
     ]
    }
   ],
   "source": [
    "%timeit three()"
   ]
  },
  {
   "cell_type": "code",
   "execution_count": 18,
   "metadata": {},
   "outputs": [
    {
     "name": "stdout",
     "output_type": "stream",
     "text": [
      "742 ns ± 4.16 ns per loop (mean ± std. dev. of 7 runs, 1000000 loops each)\n"
     ]
    }
   ],
   "source": [
    "%timeit four()"
   ]
  },
  {
   "cell_type": "markdown",
   "metadata": {},
   "source": [
    "dot product is fastest!"
   ]
  },
  {
   "cell_type": "code",
   "execution_count": 1,
   "metadata": {},
   "outputs": [],
   "source": [
    "import run_trial\n"
   ]
  },
  {
   "cell_type": "code",
   "execution_count": 2,
   "metadata": {},
   "outputs": [
    {
     "name": "stdout",
     "output_type": "stream",
     "text": [
      "19.7 s ± 137 ms per loop (mean ± std. dev. of 7 runs, 1 loop each)\n"
     ]
    }
   ],
   "source": [
    "%timeit run_trial.run_trial(1)"
   ]
  },
  {
   "cell_type": "code",
   "execution_count": 2,
   "metadata": {},
   "outputs": [
    {
     "name": "stdout",
     "output_type": "stream",
     "text": [
      " "
     ]
    }
   ],
   "source": [
    "%prun run_trial.run_trial(1800, None, num_replications=1)"
   ]
  },
  {
   "cell_type": "code",
   "execution_count": null,
   "metadata": {},
   "outputs": [],
   "source": [
    "\n",
    "\n",
    "\n",
    "\n",
    "\n"
   ]
  },
  {
   "cell_type": "code",
   "execution_count": 2,
   "metadata": {},
   "outputs": [],
   "source": [
    "import networkx as nx\n",
    "\n",
    "from experimental_design import load_design_file, get_trial_settings\n",
    "from model import Model\n",
    "import constants\n",
    "import randomness\n",
    "design = load_design_file()"
   ]
  },
  {
   "cell_type": "code",
   "execution_count": 3,
   "metadata": {},
   "outputs": [
    {
     "name": "stdout",
     "output_type": "stream",
     "text": [
      "Wall time: 1.89 s\n"
     ]
    }
   ],
   "source": [
    "%%time\n",
    "trial_num = 3  # 10K agents, ER-Random graph\n",
    "trial_settings = get_trial_settings(trial_num, design)\n",
    "model = Model(\n",
    "            iseed=randomness.REPLICATION_ISEED_STREAM_ARRAY[0],\n",
    "            max_steps=constants.MAX_TIME_STEPS,\n",
    "            network_parameters=trial_settings['network_parameters'],\n",
    "            agent_class=trial_settings['agent_class'],\n",
    "            scheduler_class=trial_settings['activation_regime'],\n",
    "            error_distribution=trial_settings['influence_error_distribution'],\n",
    "        )"
   ]
  },
  {
   "cell_type": "code",
   "execution_count": 4,
   "metadata": {},
   "outputs": [
    {
     "name": "stdout",
     "output_type": "stream",
     "text": [
      "Wall time: 15.7 s\n"
     ]
    }
   ],
   "source": [
    "%time model.run_model()"
   ]
  },
  {
   "cell_type": "code",
   "execution_count": null,
   "metadata": {},
   "outputs": [],
   "source": []
  },
  {
   "cell_type": "code",
   "execution_count": 35,
   "metadata": {},
   "outputs": [],
   "source": [
    "from randomness import RNGStream, RandomGenRandomInterface\n",
    "import networks\n",
    "\n",
    "# here, we're rebuilding the network graph by the same approach as the model init\n",
    "network_parameters = trial_settings['network_parameters']\n",
    "rg = RandomGenerator(PCG64(randomness.REPLICATION_ISEED_STREAM_ARRAY[0], RNGStream.GRAPH_GENERATOR + 1))\n",
    "network_rg = RandomGenRandomInterface(rg)"
   ]
  },
  {
   "cell_type": "code",
   "execution_count": 27,
   "metadata": {},
   "outputs": [
    {
     "name": "stdout",
     "output_type": "stream",
     "text": [
      "Wall time: 5min 47s\n"
     ]
    }
   ],
   "source": [
    "%time G = getattr(networks, network_parameters[0])(*network_parameters[1], network_rg)"
   ]
  },
  {
   "cell_type": "code",
   "execution_count": 28,
   "metadata": {},
   "outputs": [
    {
     "name": "stdout",
     "output_type": "stream",
     "text": [
      "Wall time: 605 ms\n"
     ]
    }
   ],
   "source": [
    "%time G = networks.prepare_graph_for_trial(G, network_rg)  # make directed, connected, & free of self-loops"
   ]
  },
  {
   "cell_type": "code",
   "execution_count": null,
   "metadata": {},
   "outputs": [],
   "source": []
  },
  {
   "cell_type": "code",
   "execution_count": 32,
   "metadata": {},
   "outputs": [
    {
     "data": {
      "text/plain": [
       "array([0.0460517 , 0.00690776, 0.00092103])"
      ]
     },
     "execution_count": 32,
     "metadata": {},
     "output_type": "execute_result"
    }
   ],
   "source": [
    "import numpy as np\n",
    "N = np.array([100, 1000, 10000])\n",
    "np.log(N) / N"
   ]
  },
  {
   "cell_type": "code",
   "execution_count": 37,
   "metadata": {},
   "outputs": [
    {
     "data": {
      "text/plain": [
       "0.00102166"
      ]
     },
     "execution_count": 37,
     "metadata": {},
     "output_type": "execute_result"
    }
   ],
   "source": [
    "(10000+92166) / (10000**2)"
   ]
  },
  {
   "cell_type": "code",
   "execution_count": null,
   "metadata": {},
   "outputs": [],
   "source": []
  },
  {
   "cell_type": "code",
   "execution_count": 51,
   "metadata": {},
   "outputs": [],
   "source": [
    "n = 1000\n",
    "p = np.log(n) / n"
   ]
  },
  {
   "cell_type": "code",
   "execution_count": 52,
   "metadata": {},
   "outputs": [
    {
     "name": "stdout",
     "output_type": "stream",
     "text": [
      "0.007068068068068068 7061\n",
      "Wall time: 48.9 ms\n"
     ]
    }
   ],
   "source": [
    "%%time\n",
    "Gfast = nx.fast_gnp_random_graph(n, p, network_rg, directed=True)\n",
    "print(nx.density(Gfast), len(Gfast.edges))"
   ]
  },
  {
   "cell_type": "code",
   "execution_count": 53,
   "metadata": {},
   "outputs": [
    {
     "name": "stdout",
     "output_type": "stream",
     "text": [
      "0.007068068068068068 7061\n",
      "Wall time: 3.42 s\n"
     ]
    }
   ],
   "source": [
    "%%time\n",
    "Gslow = nx.erdos_renyi_graph(n, p, network_rg, directed=True)\n",
    "print(nx.density(Gfast), len(Gfast.edges))"
   ]
  },
  {
   "cell_type": "code",
   "execution_count": 22,
   "metadata": {},
   "outputs": [],
   "source": [
    "from importlib import reload"
   ]
  },
  {
   "cell_type": "code",
   "execution_count": 1,
   "metadata": {},
   "outputs": [],
   "source": [
    "import run_trial, analyze_trial"
   ]
  },
  {
   "cell_type": "code",
   "execution_count": 4,
   "metadata": {
    "scrolled": true
   },
   "outputs": [
    {
     "name": "stdout",
     "output_type": "stream",
     "text": [
      "Trial 2 complete after 2 replications.\n",
      "\n",
      "Time elapsed: 3.279296875 sec; per replication: 1.6396484375 +/- 0.0087890625.\n",
      "Wall time: 3.29 s\n"
     ]
    }
   ],
   "source": [
    "%time run_trial.run_trial(2)"
   ]
  },
  {
   "cell_type": "code",
   "execution_count": 5,
   "metadata": {
    "scrolled": true
   },
   "outputs": [
    {
     "name": "stdout",
     "output_type": "stream",
     "text": [
      "Analysis of Trial 2 complete (2 replications).\n",
      "\n",
      "Time elapsed: 576.5 sec; per replication: 288.25 +/- 1.0.\n",
      "Wall time: 9min 36s\n"
     ]
    }
   ],
   "source": [
    "\n",
    "%time analyze_trial.analyze_trial(2)  ## this was for 1K agents"
   ]
  },
  {
   "cell_type": "code",
   "execution_count": null,
   "metadata": {},
   "outputs": [],
   "source": []
  },
  {
   "cell_type": "code",
   "execution_count": 6,
   "metadata": {
    "scrolled": false
   },
   "outputs": [
    {
     "name": "stdout",
     "output_type": "stream",
     "text": [
      "Trial 1 complete after 2 replications.\n",
      "\n",
      "Time elapsed: 0.34521484375 sec; per replication: 0.172607421875 +/- 0.00201416015625.\n",
      "Wall time: 354 ms\n"
     ]
    }
   ],
   "source": [
    "%time run_trial.run_trial(1)"
   ]
  },
  {
   "cell_type": "code",
   "execution_count": 7,
   "metadata": {
    "scrolled": false
   },
   "outputs": [
    {
     "name": "stdout",
     "output_type": "stream",
     "text": [
      "Analysis of Trial 1 complete (2 replications).\n",
      "\n",
      "Time elapsed: 39.4375 sec; per replication: 19.71875 +/- 0.4765625.\n",
      "Wall time: 39.5 s\n"
     ]
    }
   ],
   "source": [
    "\n",
    "%time analyze_trial.analyze_trial(1)"
   ]
  },
  {
   "cell_type": "code",
   "execution_count": null,
   "metadata": {},
   "outputs": [],
   "source": []
  },
  {
   "cell_type": "code",
   "execution_count": 23,
   "metadata": {},
   "outputs": [
    {
     "data": {
      "text/plain": [
       "<module 'analyze_trial' from 'C:\\\\Users\\\\Mike\\\\Dropbox\\\\01 Purdue Thesis work\\\\04 Experimental Study for Paper 2\\\\code\\\\analyze_trial.py'>"
      ]
     },
     "execution_count": 23,
     "metadata": {},
     "output_type": "execute_result"
    }
   ],
   "source": [
    "reload(analyze_trial)"
   ]
  },
  {
   "cell_type": "code",
   "execution_count": 20,
   "metadata": {
    "scrolled": false
   },
   "outputs": [
    {
     "name": "stdout",
     "output_type": "stream",
     "text": [
      "Analysis of Trial 1 complete (2 replications).\n",
      "\n",
      "Time elapsed: 44.125 sec; per replication: 22.0625 +/- 0.5390625.\n",
      " "
     ]
    }
   ],
   "source": [
    "%prun analyze_trial.analyze_trial(1)"
   ]
  },
  {
   "cell_type": "code",
   "execution_count": 25,
   "metadata": {},
   "outputs": [
    {
     "data": {
      "text/plain": [
       "<ctypes.LibraryLoader at 0x1c994716828>"
      ]
     },
     "execution_count": 25,
     "metadata": {},
     "output_type": "execute_result"
    }
   ],
   "source": [
    "from ctypes import *\n",
    "cdll"
   ]
  },
  {
   "cell_type": "code",
   "execution_count": 30,
   "metadata": {},
   "outputs": [],
   "source": [
    "np.nansum?"
   ]
  },
  {
   "cell_type": "code",
   "execution_count": 31,
   "metadata": {},
   "outputs": [],
   "source": [
    "np.roll?"
   ]
  },
  {
   "cell_type": "code",
   "execution_count": null,
   "metadata": {},
   "outputs": [],
   "source": []
  },
  {
   "cell_type": "code",
   "execution_count": null,
   "metadata": {},
   "outputs": [],
   "source": []
  },
  {
   "cell_type": "code",
   "execution_count": null,
   "metadata": {},
   "outputs": [],
   "source": []
  },
  {
   "cell_type": "code",
   "execution_count": 5,
   "metadata": {},
   "outputs": [],
   "source": [
    "import numpy as np"
   ]
  },
  {
   "cell_type": "code",
   "execution_count": 6,
   "metadata": {},
   "outputs": [],
   "source": [
    "data = np.random.uniform(-1, 1, 10000*500).reshape((10000, -1))"
   ]
  },
  {
   "cell_type": "code",
   "execution_count": 7,
   "metadata": {},
   "outputs": [],
   "source": [
    "import entropy\n",
    "bins = entropy.bins_map['transfer entropy']\n",
    "bins[-1] += 0.0000001"
   ]
  },
  {
   "cell_type": "code",
   "execution_count": 8,
   "metadata": {},
   "outputs": [],
   "source": [
    "digdata = np.digitize(data, bins)\n",
    "digdata -= 1"
   ]
  },
  {
   "cell_type": "code",
   "execution_count": 126,
   "metadata": {},
   "outputs": [],
   "source": [
    "def f(vec1, vec2, bins):\n",
    "    # accumulate counts, then do 1 array division at end\n",
    "    n = vec1.size\n",
    "    p = np.zeros((len(bins)-1, len(bins)-1))\n",
    "    \n",
    "    for i in range(n):\n",
    "        p[vec1[i], vec2[i]] += 1\n",
    "        \n",
    "    p /= n\n",
    "    return p\n",
    "    \n",
    "    \n",
    "def g(vec1, vec2, bins):\n",
    "    # accumulate probabliities as we go\n",
    "    n = vec1.size\n",
    "    p = np.zeros((len(bins)-1, len(bins)-1))\n",
    "        \n",
    "    for i in range(n):\n",
    "        p[vec1[i], vec2[i]] += 1/n\n",
    "    \n",
    "    return p\n",
    "\n",
    "### g is faster than f by 9%\n",
    "\n",
    "\n",
    "def h(vec1, vec2, bins):\n",
    "    # same as g, but save the 1/n term as a variable\n",
    "    n = vec1.size\n",
    "    inc = 1/n\n",
    "    p = np.zeros((len(bins)-1, len(bins)-1))\n",
    "        \n",
    "    for i in range(n):\n",
    "        p[vec1[i], vec2[i]] += inc\n",
    "    \n",
    "    return p\n",
    "\n",
    "### h is faster than g by 10%  (than h 16%)\n",
    "\n",
    "\n",
    "def i(vec1, vec2, bins):\n",
    "    # same as h, but use a zip to iterate over vectors\n",
    "    n = vec1.size\n",
    "    inc = 1.0/n\n",
    "    p = np.zeros((len(bins)-1, len(bins)-1))\n",
    "        \n",
    "    for i, j in zip(vec1, vec2):\n",
    "        p[i, j] += inc\n",
    "    \n",
    "    return p\n",
    "\n",
    "### i is faster than h by 5% (than h by 21%)\n",
    "\n",
    "from collections import defaultdict\n",
    "\n",
    "def j(vec1, vec2, bins):\n",
    "    # use a default dict to accumulate probabilities, with conversion to 2d array\n",
    "    n = vec1.size\n",
    "    inc = 1/n\n",
    "\n",
    "    p = defaultdict(lambda: defaultdict(float))\n",
    "        \n",
    "    for i, j in zip(vec1, vec2):\n",
    "        p[i][j] += inc\n",
    "    \n",
    "    # convert nested dict to 2d pmf (testing shows this adds only ~10% to total time)\n",
    "    res = np.zeros((len(bins)-1, len(bins)-1))\n",
    "    for ix, kj in p.items():\n",
    "        for jx, v in kj.items():\n",
    "            res[ix, jx] = v    \n",
    "\n",
    "    return res\n",
    "\n",
    "### j is faster than i by 36%  !! (than f by 49%)\n",
    "\n",
    "\n",
    "from fast_histogram._histogram_core import _histogram2d\n",
    "\n",
    "def k(raw_vec1, raw_vec2, bins):\n",
    "    # use fast_histogram on the raw data\n",
    "    n = raw_vec1.size\n",
    "    num_bins = len(bins) - 1\n",
    "    range_min = bins[0]\n",
    "    range_max = bins[-1] + 0.00001\n",
    "\n",
    "    p = _histogram2d(raw_vec1, raw_vec2, num_bins, range_min, range_max, num_bins, range_min, range_max)\n",
    "    p /= n\n",
    "    \n",
    "    return p\n",
    "\n",
    "\n",
    "### k is faster than j by 97% (faster than h by 98.5%)\n",
    "# note that this is for a single instance of building the pdf; my real problem is progressively building\n",
    "# the pdf over a range of subslices of the data.\n",
    "\n",
    "# time to profile j vs. k in the incremental case.\n",
    "\n",
    "\n",
    "\n",
    "vec1 = digdata[0]\n",
    "vec2 = digdata[1]\n",
    "\n",
    "rawvec1 = data[0]\n",
    "rawvec2 = data[1]\n",
    "        "
   ]
  },
  {
   "cell_type": "code",
   "execution_count": 62,
   "metadata": {},
   "outputs": [
    {
     "name": "stdout",
     "output_type": "stream",
     "text": [
      "413 µs ± 1.98 µs per loop (mean ± std. dev. of 7 runs, 1000 loops each)\n"
     ]
    }
   ],
   "source": [
    "%timeit f(vec1, vec2, bins)"
   ]
  },
  {
   "cell_type": "code",
   "execution_count": 63,
   "metadata": {},
   "outputs": [
    {
     "name": "stdout",
     "output_type": "stream",
     "text": [
      "382 µs ± 1.73 µs per loop (mean ± std. dev. of 7 runs, 1000 loops each)\n"
     ]
    }
   ],
   "source": [
    "%timeit g(vec1, vec2, bins)"
   ]
  },
  {
   "cell_type": "code",
   "execution_count": 71,
   "metadata": {},
   "outputs": [
    {
     "name": "stdout",
     "output_type": "stream",
     "text": [
      "342 µs ± 1.44 µs per loop (mean ± std. dev. of 7 runs, 1000 loops each)\n"
     ]
    }
   ],
   "source": [
    "%timeit h(vec1, vec2, bins)"
   ]
  },
  {
   "cell_type": "code",
   "execution_count": 118,
   "metadata": {},
   "outputs": [
    {
     "name": "stdout",
     "output_type": "stream",
     "text": [
      "326 µs ± 2.46 µs per loop (mean ± std. dev. of 7 runs, 1000 loops each)\n"
     ]
    }
   ],
   "source": [
    "%timeit i(vec1, vec2, bins)"
   ]
  },
  {
   "cell_type": "code",
   "execution_count": 119,
   "metadata": {},
   "outputs": [
    {
     "name": "stdout",
     "output_type": "stream",
     "text": [
      "208 µs ± 756 ns per loop (mean ± std. dev. of 7 runs, 1000 loops each)\n"
     ]
    }
   ],
   "source": [
    "%timeit j(vec1, vec2, bins)"
   ]
  },
  {
   "cell_type": "code",
   "execution_count": 123,
   "metadata": {},
   "outputs": [
    {
     "name": "stdout",
     "output_type": "stream",
     "text": [
      "6 µs ± 21.3 ns per loop (mean ± std. dev. of 7 runs, 100000 loops each)\n"
     ]
    }
   ],
   "source": [
    "%timeit k(rawvec1, rawvec2, bins)"
   ]
  },
  {
   "cell_type": "code",
   "execution_count": 132,
   "metadata": {},
   "outputs": [
    {
     "data": {
      "text/plain": [
       "0.9854721549636803"
      ]
     },
     "execution_count": 132,
     "metadata": {},
     "output_type": "execute_result"
    }
   ],
   "source": [
    "(413-6)/413"
   ]
  },
  {
   "cell_type": "code",
   "execution_count": 130,
   "metadata": {},
   "outputs": [
    {
     "data": {
      "text/plain": [
       "True"
      ]
     },
     "execution_count": 130,
     "metadata": {},
     "output_type": "execute_result"
    }
   ],
   "source": [
    "np.isclose(f(vec1, vec2, bins), k(rawvec1, rawvec2, bins)).all()"
   ]
  },
  {
   "cell_type": "code",
   "execution_count": 111,
   "metadata": {},
   "outputs": [
    {
     "data": {
      "text/plain": [
       "True"
      ]
     },
     "execution_count": 111,
     "metadata": {},
     "output_type": "execute_result"
    }
   ],
   "source": [
    "np.isclose(f(vec1, vec2, bins), p).all()"
   ]
  },
  {
   "cell_type": "code",
   "execution_count": 129,
   "metadata": {},
   "outputs": [
    {
     "data": {
      "text/plain": [
       "array([[0.024, 0.028, 0.028, 0.02 , 0.032, 0.042],\n",
       "       [0.03 , 0.028, 0.02 , 0.026, 0.036, 0.04 ],\n",
       "       [0.026, 0.026, 0.022, 0.034, 0.018, 0.022],\n",
       "       [0.038, 0.022, 0.034, 0.034, 0.022, 0.028],\n",
       "       [0.03 , 0.032, 0.036, 0.024, 0.028, 0.028],\n",
       "       [0.028, 0.03 , 0.024, 0.026, 0.016, 0.018]])"
      ]
     },
     "execution_count": 129,
     "metadata": {},
     "output_type": "execute_result"
    }
   ],
   "source": [
    "k(rawvec1, rawvec2, bins)"
   ]
  },
  {
   "cell_type": "code",
   "execution_count": null,
   "metadata": {},
   "outputs": [],
   "source": [
    "\n",
    "\n",
    "\n",
    "\n",
    "\n",
    "\n",
    "\n",
    "\n",
    "\n",
    "\n",
    "\n",
    "\n",
    "\n",
    "...\n"
   ]
  },
  {
   "cell_type": "code",
   "execution_count": 11,
   "metadata": {},
   "outputs": [],
   "source": [
    "data = np.random.uniform(-1, 1, 10000*500).reshape((10000, -1))"
   ]
  },
  {
   "cell_type": "code",
   "execution_count": 43,
   "metadata": {},
   "outputs": [],
   "source": [
    "import entropy\n",
    "bins = entropy.bins_map['transfer entropy']\n",
    "bins[-1] += 0.0000001"
   ]
  },
  {
   "cell_type": "code",
   "execution_count": 13,
   "metadata": {},
   "outputs": [],
   "source": [
    "digdata = np.digitize(data, bins)\n",
    "digdata -= 1\n",
    "\n",
    "\n",
    "vec1 = digdata[0]\n",
    "vec2 = digdata[1]\n",
    "\n",
    "rawvec1 = data[0]\n",
    "rawvec2 = data[1]"
   ]
  },
  {
   "cell_type": "code",
   "execution_count": 8,
   "metadata": {},
   "outputs": [],
   "source": [
    "from collections import defaultdict\n",
    "\n",
    "def jj(vec1, vec2, bins):\n",
    "    # use a default dict to accumulate probabilities, with conversion to 2d array\n",
    "    n = vec1.size\n",
    "\n",
    "    res = np.zeros((n, len(bins)-1, len(bins)-1))\n",
    "\n",
    "    for t in range(n):\n",
    "        p = defaultdict(lambda: defaultdict(float))\n",
    "        inc = 1/(t+1)\n",
    "        \n",
    "        for i, j in zip(vec1, vec2):\n",
    "            p[i][j] += inc\n",
    "    \n",
    "        # convert nested dict to 2d pmf\n",
    "        for ix, kj in p.items():\n",
    "            for jx, v in kj.items():\n",
    "                res[t, ix, jx] = v    \n",
    "\n",
    "    return res\n",
    "\n",
    "\n",
    "\n",
    "\n",
    "from fast_histogram._histogram_core import _histogram2d\n",
    "\n",
    "def kk(raw_vec1, raw_vec2, bins):\n",
    "    # use fast_histogram on the raw data\n",
    "    n = raw_vec1.size\n",
    "    num_bins = len(bins) - 1\n",
    "    range_min = bins[0]\n",
    "    range_max = bins[-1] + 0.00001\n",
    "\n",
    "    \n",
    "    res = np.zeros((n, len(bins)-1, len(bins)-1))\n",
    "\n",
    "    for t in range(n):\n",
    "        p = _histogram2d(raw_vec1, raw_vec2, num_bins, range_min, range_max, num_bins, range_min, range_max)\n",
    "        p /= (t+1)\n",
    "        res[t] = p\n",
    "    \n",
    "    return res\n",
    "\n",
    "\n",
    "### here, kk is 97% faster than jj. note that we're still just creating and returning an array of 2d pmfs\n",
    "# which is still not quite the final problem. but, it does suggests my mutual information approach has \n",
    "# room for improvement by reverting to _histogram2d"
   ]
  },
  {
   "cell_type": "code",
   "execution_count": 11,
   "metadata": {},
   "outputs": [
    {
     "name": "stdout",
     "output_type": "stream",
     "text": [
      "102 ms ± 1.64 ms per loop (mean ± std. dev. of 7 runs, 10 loops each)\n"
     ]
    }
   ],
   "source": [
    "%timeit jj(vec1, vec2, bins)"
   ]
  },
  {
   "cell_type": "code",
   "execution_count": 10,
   "metadata": {},
   "outputs": [
    {
     "name": "stdout",
     "output_type": "stream",
     "text": [
      "3.08 ms ± 94.2 µs per loop (mean ± std. dev. of 7 runs, 100 loops each)\n"
     ]
    }
   ],
   "source": [
    "%timeit kk(rawvec1, rawvec2, bins)"
   ]
  },
  {
   "cell_type": "code",
   "execution_count": 57,
   "metadata": {},
   "outputs": [
    {
     "data": {
      "text/plain": [
       "True"
      ]
     },
     "execution_count": 57,
     "metadata": {},
     "output_type": "execute_result"
    }
   ],
   "source": [
    "np.isclose(jj(vec1, vec2, bins), kk(rawvec1, rawvec2, bins)).all()"
   ]
  },
  {
   "cell_type": "code",
   "execution_count": null,
   "metadata": {},
   "outputs": [],
   "source": [
    "\n",
    "\n",
    "\n",
    "\n"
   ]
  },
  {
   "cell_type": "code",
   "execution_count": 78,
   "metadata": {},
   "outputs": [],
   "source": [
    "from collections import defaultdict\n",
    "from numpy import log2, nansum\n",
    "\n",
    "# now we compute the log of the pmf and return the sum-product; i.e. compute the joint entropy time series\n",
    "\n",
    "def jjj(vec1, vec2, bins):\n",
    "    n = vec1.size  ### == t_max\n",
    "\n",
    "    res = np.zeros(n)\n",
    "\n",
    "    for t in range(n):\n",
    "        p = defaultdict(lambda: defaultdict(float))\n",
    "        inc = 1/(t+1)\n",
    "        \n",
    "        for i, j in zip(vec1[:t+1], vec2[:t+1]):  ### this version O(t^2)\n",
    "            p[i][j] += inc\n",
    "    \n",
    "        # convert nested dict to 2d pmf\n",
    "        for kj in p.values():\n",
    "            for v in kj.values():\n",
    "                if v > 0:\n",
    "                    res[t] += (v * log2(v))\n",
    "                \n",
    "    return res\n",
    "\n",
    "# def jjj2(vec1, vec2, bins):\n",
    "#     n = vec1.size  ### == t_max\n",
    "\n",
    "#     res = np.zeros(n)\n",
    "\n",
    "#     for t in range(n):\n",
    "#         p = defaultdict(lambda: defaultdict(float))\n",
    "#         inc = (t+1)\n",
    "        \n",
    "#         for i, j in zip(vec1[:t], vec2[:t]):  ### this version O(t^2)\n",
    "#             p[i][j] += 1\n",
    "    \n",
    "#         # convert nested dict to 2d pmf\n",
    "#         for kj in p.values():\n",
    "#             for v in kj.values():\n",
    "#                 if v > 0:\n",
    "#                     pv =v/inc\n",
    "#                     res[t] += (pv * log2(pv))\n",
    "                \n",
    "#     return res\n",
    "\n",
    "\n",
    "\n",
    "from fast_histogram._histogram_core import _histogram2d\n",
    "\n",
    "def kkk(raw_vec1, raw_vec2, bins):\n",
    "    # use fast_histogram on the raw data\n",
    "    n = raw_vec1.size\n",
    "    num_bins = len(bins) - 1\n",
    "    range_min = bins[0]\n",
    "    range_max = bins[-1] + 0.00001\n",
    "\n",
    "    res = np.zeros(n)\n",
    "\n",
    "    for t in range(n):        \n",
    "        p = _histogram2d(raw_vec1[:t+1], raw_vec2[:t+1], num_bins, range_min, range_max, num_bins, range_min, range_max)\n",
    "        p = p[p > 0] / (t+1)\n",
    "        res[t] = (p * log2(p)).sum()\n",
    "                \n",
    "    return res\n",
    "\n",
    "### here, kkk is 93% faster than jjj\n",
    "# but, they have an O(t^2) term in them. will an O(t) approach work better?\n",
    "\n"
   ]
  },
  {
   "cell_type": "code",
   "execution_count": 101,
   "metadata": {
    "scrolled": true
   },
   "outputs": [
    {
     "name": "stdout",
     "output_type": "stream",
     "text": [
      "76.3 ms ± 1.33 ms per loop (mean ± std. dev. of 7 runs, 10 loops each)\n"
     ]
    }
   ],
   "source": [
    "%timeit jjj(vec1, vec2, bins)"
   ]
  },
  {
   "cell_type": "code",
   "execution_count": 102,
   "metadata": {},
   "outputs": [
    {
     "name": "stdout",
     "output_type": "stream",
     "text": [
      "5.15 ms ± 110 µs per loop (mean ± std. dev. of 7 runs, 100 loops each)\n"
     ]
    }
   ],
   "source": [
    "%timeit kkk(rawvec1, rawvec2, bins)"
   ]
  },
  {
   "cell_type": "code",
   "execution_count": 174,
   "metadata": {},
   "outputs": [
    {
     "data": {
      "text/plain": [
       "0.9328571428571428"
      ]
     },
     "execution_count": 174,
     "metadata": {},
     "output_type": "execute_result"
    }
   ],
   "source": [
    "(77-5.17)/77"
   ]
  },
  {
   "cell_type": "code",
   "execution_count": 54,
   "metadata": {
    "scrolled": false
   },
   "outputs": [
    {
     "data": {
      "text/plain": [
       "True"
      ]
     },
     "execution_count": 54,
     "metadata": {},
     "output_type": "execute_result"
    }
   ],
   "source": [
    "np.isclose(jjj(vec1, vec2, bins), kkk(rawvec1, rawvec2, bins)).all()"
   ]
  },
  {
   "cell_type": "code",
   "execution_count": 65,
   "metadata": {},
   "outputs": [
    {
     "data": {
      "text/plain": [
       "True"
      ]
     },
     "execution_count": 65,
     "metadata": {},
     "output_type": "execute_result"
    }
   ],
   "source": [
    "np.isclose(jjj(vec1, vec2, bins), jjj2(vec1, vec2, bins)).all()"
   ]
  },
  {
   "cell_type": "code",
   "execution_count": 72,
   "metadata": {},
   "outputs": [],
   "source": [
    "from collections import defaultdict\n",
    "from numpy import log2, nansum\n",
    "\n",
    "def jjjj(vec1, vec2, bins):\n",
    "    n = vec1.size  ### == t_max\n",
    "    num_bins = len(bins) - 1\n",
    "\n",
    "    res = np.zeros(n)\n",
    "    counts = defaultdict(lambda: defaultdict(float))\n",
    "            \n",
    "#     for t, (i, j) in enumerate(zip(vec1, vec2)):\n",
    "    for t in range(n):\n",
    "        i, j = vec1[t], vec2[t]##\n",
    "        \n",
    "        inc = 1/(t+1)\n",
    "        \n",
    "        counts[i][j] += 1\n",
    "    \n",
    "        for kj in counts.values():\n",
    "            for v in kj.values():                \n",
    "                if v > 0:\n",
    "                    p = v * inc\n",
    "                    res[t] += (p * log2(p))\n",
    "                \n",
    "    return res\n",
    "\n",
    "### here, jjjj is 68% faster than jjj (the O(t^2) version) \n",
    "\n",
    "\n",
    "\n",
    "from fast_histogram._histogram_core import _histogram2d\n",
    "\n",
    "def kkkk(raw_vec1, raw_vec2, bins):\n",
    "    # use fast_histogram on the raw data\n",
    "    n = raw_vec1.size\n",
    "    num_bins = len(bins) - 1\n",
    "    range_min = bins[0]\n",
    "    range_max = bins[-1] + 0.00001\n",
    "\n",
    "    res = np.zeros(n)\n",
    "    counts = np.zeros((num_bins, num_bins))\n",
    "\n",
    "    for t in range(n):        \n",
    "        counts += _histogram2d(raw_vec1[t].reshape(1, -1), raw_vec2[t].reshape(1, -1), num_bins, range_min, range_max, num_bins, range_min, range_max)\n",
    "        p = counts[counts > 0] / (t+1)\n",
    "        res[t] = (p * log2(p)).sum()\n",
    "                \n",
    "    return res\n",
    "\n",
    "### here, kkkk is 36% slower than kkk (the O(t^2) version), though passing a single value into histogram2d is absurd\n",
    "\n",
    "\n",
    "### also here, kkkk is 70% faster than jjjj\n",
    "\n",
    "\n"
   ]
  },
  {
   "cell_type": "code",
   "execution_count": 103,
   "metadata": {},
   "outputs": [
    {
     "name": "stdout",
     "output_type": "stream",
     "text": [
      "23.9 ms ± 123 µs per loop (mean ± std. dev. of 7 runs, 10 loops each)\n"
     ]
    }
   ],
   "source": [
    "%timeit jjjj(vec1, vec2, bins)"
   ]
  },
  {
   "cell_type": "code",
   "execution_count": 104,
   "metadata": {},
   "outputs": [
    {
     "name": "stdout",
     "output_type": "stream",
     "text": [
      "6.66 ms ± 253 µs per loop (mean ± std. dev. of 7 runs, 100 loops each)\n"
     ]
    }
   ],
   "source": [
    "%timeit kkkk(rawvec1, rawvec2, bins)"
   ]
  },
  {
   "cell_type": "code",
   "execution_count": 33,
   "metadata": {},
   "outputs": [
    {
     "data": {
      "text/plain": [
       "0.7029535864978903"
      ]
     },
     "execution_count": 33,
     "metadata": {},
     "output_type": "execute_result"
    }
   ],
   "source": [
    "(23.7-7.04)/23.7"
   ]
  },
  {
   "cell_type": "code",
   "execution_count": 36,
   "metadata": {},
   "outputs": [
    {
     "data": {
      "text/plain": [
       "0.68"
      ]
     },
     "execution_count": 36,
     "metadata": {},
     "output_type": "execute_result"
    }
   ],
   "source": [
    "(75-24)/75"
   ]
  },
  {
   "cell_type": "code",
   "execution_count": null,
   "metadata": {},
   "outputs": [],
   "source": []
  },
  {
   "cell_type": "code",
   "execution_count": 105,
   "metadata": {
    "scrolled": true
   },
   "outputs": [
    {
     "data": {
      "text/plain": [
       "True"
      ]
     },
     "execution_count": 105,
     "metadata": {},
     "output_type": "execute_result"
    }
   ],
   "source": [
    "np.isclose(jjjj(vec1, vec2, bins), kkkk(rawvec1, rawvec2, bins)).all()"
   ]
  },
  {
   "cell_type": "code",
   "execution_count": null,
   "metadata": {},
   "outputs": [],
   "source": []
  },
  {
   "cell_type": "code",
   "execution_count": null,
   "metadata": {},
   "outputs": [],
   "source": []
  },
  {
   "cell_type": "code",
   "execution_count": null,
   "metadata": {},
   "outputs": [],
   "source": []
  },
  {
   "cell_type": "code",
   "execution_count": null,
   "metadata": {},
   "outputs": [],
   "source": []
  },
  {
   "cell_type": "code",
   "execution_count": null,
   "metadata": {},
   "outputs": [],
   "source": []
  },
  {
   "cell_type": "code",
   "execution_count": 1,
   "metadata": {},
   "outputs": [],
   "source": [
    "import numpy as np"
   ]
  },
  {
   "cell_type": "code",
   "execution_count": 16,
   "metadata": {},
   "outputs": [],
   "source": [
    "data = np.random.uniform(-1, 1, (10000, 500)).reshape((10000, -1))"
   ]
  },
  {
   "cell_type": "code",
   "execution_count": 3,
   "metadata": {},
   "outputs": [],
   "source": [
    "import entropy\n",
    "bins = entropy.bins_map['transfer entropy']\n",
    "bins[-1] += 0.0000001\n",
    "num_bins = len(bins) - 1"
   ]
  },
  {
   "cell_type": "code",
   "execution_count": 12,
   "metadata": {},
   "outputs": [],
   "source": [
    "digdata = np.digitize(data, bins)\n",
    "digdata -= 1"
   ]
  },
  {
   "cell_type": "code",
   "execution_count": 7,
   "metadata": {},
   "outputs": [],
   "source": [
    "from numpy import log2\n",
    "\n",
    "def jjjj2(vec1, vec2, bins):\n",
    "    n = vec1.size  ### == t_max\n",
    "    num_bins = len(bins) - 1\n",
    "\n",
    "    res = np.zeros(n)\n",
    "    counts = np.zeros((num_bins, num_bins))\n",
    "\n",
    "        \n",
    "    # equivalent is ...\n",
    "    #     for t in range(n):\n",
    "    #         i, j = vec1[t], vec2[t]   # just noting this for attempt at C\n",
    "\n",
    "    for t, (i, j) in enumerate(zip(vec1, vec2)):       \n",
    "        counts[i, j] += 1\n",
    "        p = counts[counts > 0] / (t+1)\n",
    "        res[t] = (p * log2(p)).sum()\n",
    "                \n",
    "    return res\n",
    "\n",
    "# this is best I've come up with now. on data.shape=(10,000 x 500), timeit= 4.2 ms vs. 74 ms (~95% speedup over jjj), O(t)\n",
    "\n",
    "vec1 = digdata[0]\n",
    "vec2 = digdata[1]\n",
    "\n",
    "rawvec1 = data[0]\n",
    "rawvec2 = data[1]"
   ]
  },
  {
   "cell_type": "code",
   "execution_count": 18,
   "metadata": {},
   "outputs": [
    {
     "name": "stdout",
     "output_type": "stream",
     "text": [
      "3.67 ms ± 13.6 µs per loop (mean ± std. dev. of 7 runs, 100 loops each)\n"
     ]
    }
   ],
   "source": [
    "%timeit jjjj2(digdata[0], digdata[1], bins)"
   ]
  },
  {
   "cell_type": "code",
   "execution_count": 107,
   "metadata": {
    "scrolled": true
   },
   "outputs": [
    {
     "data": {
      "text/plain": [
       "True"
      ]
     },
     "execution_count": 107,
     "metadata": {},
     "output_type": "execute_result"
    }
   ],
   "source": [
    "# np.isclose(jjj(vec1, vec2, bins), jjjj(vec1, vec2, bins)).all()"
   ]
  },
  {
   "cell_type": "markdown",
   "metadata": {},
   "source": [
    "now i'd like to make a C extension for jjjj2"
   ]
  },
  {
   "cell_type": "code",
   "execution_count": 9,
   "metadata": {},
   "outputs": [],
   "source": [
    "import _histogram_core as hc\n",
    "hcx = hc._histoxx"
   ]
  },
  {
   "cell_type": "code",
   "execution_count": 15,
   "metadata": {},
   "outputs": [
    {
     "name": "stdout",
     "output_type": "stream",
     "text": [
      "359 ms ± 2.76 ms per loop (mean ± std. dev. of 7 runs, 1 loop each)\n"
     ]
    }
   ],
   "source": [
    "%timeit hc._histoxx(digdata[0], digdata[1], num_bins)"
   ]
  },
  {
   "cell_type": "code",
   "execution_count": 11,
   "metadata": {},
   "outputs": [
    {
     "data": {
      "text/plain": [
       "True"
      ]
     },
     "execution_count": 11,
     "metadata": {},
     "output_type": "execute_result"
    }
   ],
   "source": [
    "np.isclose(jjjj2(vec1, vec2, bins), hc._histoxx(vec1, vec2, len(bins-1))).all()"
   ]
  },
  {
   "cell_type": "code",
   "execution_count": null,
   "metadata": {},
   "outputs": [],
   "source": []
  },
  {
   "cell_type": "code",
   "execution_count": null,
   "metadata": {},
   "outputs": [],
   "source": []
  },
  {
   "cell_type": "code",
   "execution_count": null,
   "metadata": {},
   "outputs": [],
   "source": []
  },
  {
   "cell_type": "code",
   "execution_count": 29,
   "metadata": {},
   "outputs": [],
   "source": [
    "sh2d = hc._histogram2d"
   ]
  },
  {
   "cell_type": "code",
   "execution_count": 22,
   "metadata": {},
   "outputs": [],
   "source": [
    "h1 = hc._histogram2d(rawvec1, rawvec2, num_bins, -1, 1.0001, num_bins, -1, 1.0001)"
   ]
  },
  {
   "cell_type": "code",
   "execution_count": 23,
   "metadata": {
    "scrolled": true
   },
   "outputs": [
    {
     "data": {
      "text/plain": [
       "array([[11., 14.,  6., 10.,  9., 15.],\n",
       "       [ 8., 18., 18., 19., 15.,  8.],\n",
       "       [14., 21., 13., 18., 14.,  8.],\n",
       "       [17., 14., 14., 19., 20., 11.],\n",
       "       [16., 10., 14., 20., 14., 21.],\n",
       "       [ 6.,  9., 14., 13., 16., 13.]])"
      ]
     },
     "execution_count": 23,
     "metadata": {},
     "output_type": "execute_result"
    }
   ],
   "source": [
    "\n",
    "h1"
   ]
  },
  {
   "cell_type": "code",
   "execution_count": 26,
   "metadata": {
    "scrolled": false
   },
   "outputs": [
    {
     "data": {
      "text/plain": [
       "array([[11., 14.,  6., 10.,  9., 15.],\n",
       "       [ 8., 18., 18., 19., 15.,  8.],\n",
       "       [14., 21., 13., 18., 14.,  8.],\n",
       "       [17., 14., 14., 19., 20., 11.],\n",
       "       [16., 10., 14., 20., 14., 21.],\n",
       "       [ 6.,  9., 14., 13., 16., 13.]])"
      ]
     },
     "execution_count": 26,
     "metadata": {},
     "output_type": "execute_result"
    }
   ],
   "source": [
    "\n",
    "from fast_histogram._histogram_core import _histogram2d as fh2d\n",
    "h2 = fh2d(rawvec1, rawvec2, num_bins, -1, 1.0001, num_bins, -1, 1.0001)\n"
   ]
  },
  {
   "cell_type": "code",
   "execution_count": 30,
   "metadata": {},
   "outputs": [
    {
     "name": "stdout",
     "output_type": "stream",
     "text": [
      "3.02 µs ± 12.7 ns per loop (mean ± std. dev. of 7 runs, 100000 loops each)\n"
     ]
    }
   ],
   "source": [
    "%timeit sh2d(rawvec1, rawvec2, num_bins, -1, 1.0001, num_bins, -1, 1.0001)"
   ]
  },
  {
   "cell_type": "code",
   "execution_count": 31,
   "metadata": {
    "scrolled": false
   },
   "outputs": [
    {
     "name": "stdout",
     "output_type": "stream",
     "text": [
      "2.82 µs ± 89.6 ns per loop (mean ± std. dev. of 7 runs, 100000 loops each)\n"
     ]
    }
   ],
   "source": [
    "%timeit fh2d(rawvec1, rawvec2, num_bins, -1, 1.0001, num_bins, -1, 1.0001)\n"
   ]
  },
  {
   "cell_type": "code",
   "execution_count": null,
   "metadata": {},
   "outputs": [],
   "source": [
    "bb"
   ]
  },
  {
   "cell_type": "code",
   "execution_count": null,
   "metadata": {},
   "outputs": [],
   "source": []
  },
  {
   "cell_type": "code",
   "execution_count": null,
   "metadata": {},
   "outputs": [],
   "source": []
  },
  {
   "cell_type": "code",
   "execution_count": 3,
   "metadata": {},
   "outputs": [
    {
     "data": {
      "text/plain": [
       "True"
      ]
     },
     "execution_count": 3,
     "metadata": {},
     "output_type": "execute_result"
    }
   ],
   "source": [
    "import numpy as np\n",
    "\n",
    "data = np.random.uniform(-1, 1, (10000, 500)).reshape((10000, -1))\n",
    "\n",
    "# import entropy\n",
    "# bins = entropy.bins_map['transfer entropy']\n",
    "# bins[-1] += 0.0000001\n",
    "# num_bins = len(bins) - 1\n",
    "\n",
    "bins = np.array([-1.        , -0.66666667, -0.33333333,  0.        ,  0.33333333, 0.66666667,  1.0000003 ])\n",
    "num_bins = len(bins) - 1\n",
    "\n",
    "bins[-1] += 0.0000001\n",
    "\n",
    "digdata = np.digitize(data, bins)\n",
    "digdata -= 1\n",
    "\n",
    "from numpy import log2\n",
    "\n",
    "def jjjj2(vec1, vec2, bins):\n",
    "    n = vec1.size  ### == t_max\n",
    "    num_bins = len(bins) - 1\n",
    "\n",
    "    res = np.zeros(n)\n",
    "    counts = np.zeros((num_bins, num_bins))\n",
    "\n",
    "        \n",
    "    # equivalent is ...\n",
    "    #     for t in range(n):\n",
    "    #         i, j = vec1[t], vec2[t]   # just noting this for attempt at C\n",
    "\n",
    "    for t, (i, j) in enumerate(zip(vec1, vec2)):       \n",
    "        counts[i, j] += 1\n",
    "        p = counts[counts > 0] / (t+1)\n",
    "        res[t] = (p * log2(p)).sum()\n",
    "                \n",
    "    return res\n",
    "\n",
    "# this is best I've come up with now. on data.shape=(10,000 x 500), timeit= 4.2 ms vs. 74 ms (~95% speedup over jjj), O(t)\n",
    "\n",
    "vec1 = digdata[0]\n",
    "vec2 = digdata[1]\n",
    "\n",
    "rawvec1 = data[0]\n",
    "rawvec2 = data[1]\n",
    "\n",
    "# np.isclose(jjj(vec1, vec2, bins), jjjj(vec1, vec2, bins)).all()\n",
    "\n",
    "from mycfun import cdataproc as hc\n",
    "\n",
    "np.isclose(jjjj2(vec1, vec2, bins), hc.joint_entropy(vec1, vec2, len(bins-1))).all()"
   ]
  },
  {
   "cell_type": "code",
   "execution_count": 4,
   "metadata": {},
   "outputs": [
    {
     "name": "stdout",
     "output_type": "stream",
     "text": [
      "323 µs ± 7.12 µs per loop (mean ± std. dev. of 7 runs, 1000 loops each)\n"
     ]
    }
   ],
   "source": [
    "%timeit hc.joint_entropy(digdata[0], digdata[1], num_bins)"
   ]
  },
  {
   "cell_type": "code",
   "execution_count": 5,
   "metadata": {},
   "outputs": [
    {
     "name": "stdout",
     "output_type": "stream",
     "text": [
      "3.74 ms ± 87 µs per loop (mean ± std. dev. of 7 runs, 100 loops each)\n"
     ]
    }
   ],
   "source": [
    "%timeit jjjj2(digdata[0], digdata[1], bins)"
   ]
  },
  {
   "cell_type": "code",
   "execution_count": 10,
   "metadata": {},
   "outputs": [],
   "source": [
    "from mycfun import cdataproc as hc"
   ]
  },
  {
   "cell_type": "code",
   "execution_count": 17,
   "metadata": {},
   "outputs": [],
   "source": [
    "digdata = np.digitize(data, bins)\n",
    "digdata -= 1"
   ]
  },
  {
   "cell_type": "code",
   "execution_count": 13,
   "metadata": {},
   "outputs": [
    {
     "data": {
      "text/plain": [
       "(500,)"
      ]
     },
     "execution_count": 13,
     "metadata": {},
     "output_type": "execute_result"
    }
   ],
   "source": [
    "hc.joint_entropy(digdata[0], digdata[1], num_bins).shape"
   ]
  },
  {
   "cell_type": "code",
   "execution_count": null,
   "metadata": {},
   "outputs": [],
   "source": []
  },
  {
   "cell_type": "code",
   "execution_count": 6,
   "metadata": {},
   "outputs": [],
   "source": [
    "from data_processors import get_marginal_pmf_array"
   ]
  },
  {
   "cell_type": "code",
   "execution_count": 7,
   "metadata": {},
   "outputs": [
    {
     "name": "stdout",
     "output_type": "stream",
     "text": [
      "14.9 s ± 82 ms per loop (mean ± std. dev. of 7 runs, 1 loop each)\n"
     ]
    }
   ],
   "source": [
    "%timeit get_marginal_pmf_array(data, data.shape[0], data.shape[1], num_bins, (-1, 1))"
   ]
  },
  {
   "cell_type": "code",
   "execution_count": 18,
   "metadata": {},
   "outputs": [],
   "source": [
    "import numpy as np\n",
    "\n",
    "bins = np.array([-1.        , -0.66666667, -0.33333333,  0.        ,  0.33333333, 0.66666667,  1.0000003 ])\n",
    "num_bins = len(bins) - 1\n",
    "\n",
    "data = np.random.uniform(-1, 1, (10000, 500)).reshape((10000, -1))\n",
    "\n",
    "from data_processors import relative_entropy_for_replication\n",
    "\n",
    "bins = np.array([-1.        , -0.66666667, -0.33333333,  0.        ,  0.33333333, 0.66666667,  1.0000003 ])\n",
    "num_bins = len(bins) - 1\n",
    "\n",
    "N, t_max = data.shape\n",
    "\n",
    "output_data = np.zeros((N, t_max, 1))\n",
    "output_data2 = np.zeros_like(output_data)"
   ]
  },
  {
   "cell_type": "code",
   "execution_count": 8,
   "metadata": {},
   "outputs": [],
   "source": [
    "from mycfun import cdataproc"
   ]
  },
  {
   "cell_type": "code",
   "execution_count": null,
   "metadata": {},
   "outputs": [],
   "source": []
  },
  {
   "cell_type": "code",
   "execution_count": null,
   "metadata": {},
   "outputs": [],
   "source": []
  },
  {
   "cell_type": "code",
   "execution_count": 7,
   "metadata": {},
   "outputs": [
    {
     "name": "stdout",
     "output_type": "stream",
     "text": [
      "Wall time: 16.5 s\n"
     ]
    }
   ],
   "source": [
    "%time relative_entropy_for_replication(data, bins, output_data, 0, (-1, 1) )"
   ]
  },
  {
   "cell_type": "code",
   "execution_count": 17,
   "metadata": {},
   "outputs": [
    {
     "data": {
      "text/plain": [
       "(10000, 500)"
      ]
     },
     "execution_count": 17,
     "metadata": {},
     "output_type": "execute_result"
    }
   ],
   "source": [
    "output_data[:, :, 0].shape"
   ]
  },
  {
   "cell_type": "code",
   "execution_count": null,
   "metadata": {},
   "outputs": [],
   "source": []
  }
 ],
 "metadata": {
  "kernelspec": {
   "display_name": "Python 3",
   "language": "python",
   "name": "python3"
  },
  "language_info": {
   "codemirror_mode": {
    "name": "ipython",
    "version": 3
   },
   "file_extension": ".py",
   "mimetype": "text/x-python",
   "name": "python",
   "nbconvert_exporter": "python",
   "pygments_lexer": "ipython3",
   "version": "3.6.8"
  }
 },
 "nbformat": 4,
 "nbformat_minor": 2
}
