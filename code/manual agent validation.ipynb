{
 "cells": [
  {
   "cell_type": "code",
   "execution_count": 110,
   "metadata": {},
   "outputs": [],
   "source": [
    "import matplotlib.pyplot as plt\n",
    "from importlib import reload\n",
    "import numpy as np\n",
    "import networkx as nx\n",
    "\n",
    "import model\n",
    "import agents, activation_regimes\n",
    "\n"
   ]
  },
  {
   "cell_type": "markdown",
   "metadata": {},
   "source": [
    "### Standard Model Agent"
   ]
  },
  {
   "cell_type": "code",
   "execution_count": 111,
   "metadata": {},
   "outputs": [],
   "source": [
    "m = model.Model(1234, 5, ('scale_free', (10, 5)), agents.StandardModelAgent,\n",
    "activation_regimes.Synchronous, None)\n",
    "m.run_model()"
   ]
  },
  {
   "cell_type": "code",
   "execution_count": 112,
   "metadata": {},
   "outputs": [
    {
     "data": {
      "text/plain": [
       "array([[ 0.26674687,  0.31954504,  0.24972044,  0.28651674,  0.2860963 ,\n",
       "         0.28612343],\n",
       "       [ 0.62027169,  0.73552378,  0.46701588,  0.59512888,  0.594301  ,\n",
       "         0.59475109],\n",
       "       [-0.92707301,  0.10699845,  0.11731784,  0.11501528,  0.10641301,\n",
       "         0.1100523 ],\n",
       "       [-0.26051624, -0.1765958 , -0.17578088, -0.17669342, -0.17751982,\n",
       "        -0.1771301 ],\n",
       "       [-0.67206201, -0.67206201, -0.67206201, -0.67206201, -0.67206201,\n",
       "        -0.67206201],\n",
       "       [ 0.58365336,  0.51755742,  0.52093201,  0.50491956,  0.51343544,\n",
       "         0.51348978],\n",
       "       [-0.02303976,  0.1010552 ,  0.08948937,  0.08685262,  0.08549912,\n",
       "         0.08676896],\n",
       "       [ 0.75409407,  0.7110334 ,  0.69709838,  0.69481879,  0.69761835,\n",
       "         0.69778022],\n",
       "       [ 0.80109296, -0.03637269,  0.41661255,  0.41735554,  0.414535  ,\n",
       "         0.41236187],\n",
       "       [ 0.13619162, -0.5037778 , -0.33947838, -0.33793335, -0.33831663,\n",
       "        -0.33968578]])"
      ]
     },
     "execution_count": 112,
     "metadata": {},
     "output_type": "execute_result"
    }
   ],
   "source": [
    "m.raw_data"
   ]
  },
  {
   "cell_type": "code",
   "execution_count": 113,
   "metadata": {},
   "outputs": [
    {
     "data": {
      "text/plain": [
       "(0, 0.1110233443550892)"
      ]
     },
     "execution_count": 113,
     "metadata": {},
     "output_type": "execute_result"
    }
   ],
   "source": [
    "ag = m.agents[0]\n",
    "ag.unique_id, ag.a_ii"
   ]
  },
  {
   "cell_type": "code",
   "execution_count": 114,
   "metadata": {},
   "outputs": [
    {
     "data": {
      "text/plain": [
       "0.26674687212207493"
      ]
     },
     "execution_count": 114,
     "metadata": {},
     "output_type": "execute_result"
    }
   ],
   "source": [
    "ag.o_i1"
   ]
  },
  {
   "cell_type": "code",
   "execution_count": 115,
   "metadata": {},
   "outputs": [
    {
     "data": {
      "text/plain": [
       "array([0.27035992, 0.72964008])"
      ]
     },
     "execution_count": 115,
     "metadata": {},
     "output_type": "execute_result"
    }
   ],
   "source": [
    "ag.w_j"
   ]
  },
  {
   "cell_type": "code",
   "execution_count": 116,
   "metadata": {},
   "outputs": [
    {
     "data": {
      "text/plain": [
       "(0.5836533623966913, 0.8010929584256852)"
      ]
     },
     "execution_count": 116,
     "metadata": {},
     "output_type": "execute_result"
    }
   ],
   "source": [
    "m.agents[5].o_i1, m.agents[8].o_i1"
   ]
  },
  {
   "cell_type": "code",
   "execution_count": 117,
   "metadata": {},
   "outputs": [
    {
     "data": {
      "text/plain": [
       "array([5, 8], dtype=int64)"
      ]
     },
     "execution_count": 117,
     "metadata": {},
     "output_type": "execute_result"
    }
   ],
   "source": [
    "ag.neighbor_ids"
   ]
  },
  {
   "cell_type": "code",
   "execution_count": 118,
   "metadata": {},
   "outputs": [
    {
     "data": {
      "text/plain": [
       "0.3195466640290573"
      ]
     },
     "execution_count": 118,
     "metadata": {},
     "output_type": "execute_result"
    }
   ],
   "source": [
    "0.111023*(.27035*.58365 + .72964*.80109) + (1-0.111023)*0.26675"
   ]
  },
  {
   "cell_type": "code",
   "execution_count": 119,
   "metadata": {},
   "outputs": [
    {
     "data": {
      "text/plain": [
       "0.31954503776732307"
      ]
     },
     "execution_count": 119,
     "metadata": {},
     "output_type": "execute_result"
    }
   ],
   "source": [
    "m.raw_data[0, 1]"
   ]
  },
  {
   "cell_type": "markdown",
   "metadata": {},
   "source": [
    "thus Agent 0 correctly updated on its first activation"
   ]
  },
  {
   "cell_type": "code",
   "execution_count": 120,
   "metadata": {},
   "outputs": [
    {
     "data": {
      "text/plain": [
       "0.24972039822812725"
      ]
     },
     "execution_count": 120,
     "metadata": {},
     "output_type": "execute_result"
    }
   ],
   "source": [
    "ag.a_ii * np.dot(ag.w_j, [0.517557, -0.036373]) + ag.biased_initial_opinion"
   ]
  },
  {
   "cell_type": "code",
   "execution_count": 121,
   "metadata": {},
   "outputs": [
    {
     "data": {
      "text/plain": [
       "0.24972043556086088"
      ]
     },
     "execution_count": 121,
     "metadata": {},
     "output_type": "execute_result"
    }
   ],
   "source": [
    "m.raw_data[0, 2]"
   ]
  },
  {
   "cell_type": "markdown",
   "metadata": {},
   "source": [
    "and again on its next (the neighbor o_is were read manually from m.raw_data)"
   ]
  },
  {
   "cell_type": "markdown",
   "metadata": {},
   "source": [
    "### Nonlinear agent"
   ]
  },
  {
   "cell_type": "code",
   "execution_count": 122,
   "metadata": {},
   "outputs": [],
   "source": [
    "m = model.Model(1234, 5, ('scale_free', (10, 5)), agents.NonlinearAgent,\n",
    "activation_regimes.Synchronous, None)\n",
    "m.run_model()"
   ]
  },
  {
   "cell_type": "code",
   "execution_count": 123,
   "metadata": {
    "scrolled": true
   },
   "outputs": [
    {
     "data": {
      "text/plain": [
       "array([[ 0.26674687,  0.03580504,  0.04567856,  0.04737176,  0.04749788,\n",
       "         0.04748709],\n",
       "       [ 0.62027169,  0.23913959,  0.34012607,  0.34657286,  0.34705834,\n",
       "         0.34701778],\n",
       "       [-0.92707301,  0.34276473,  0.38857937,  0.38402058,  0.3842512 ,\n",
       "         0.38425685],\n",
       "       [-0.26051624,  0.04759677,  0.05790978,  0.05740075,  0.05742668,\n",
       "         0.05742713],\n",
       "       [-0.67206201, -0.67206201, -0.67206201, -0.67206201, -0.67206201,\n",
       "        -0.67206201],\n",
       "       [ 0.58365336,  0.10357719,  0.11822923,  0.11674447,  0.11666426,\n",
       "         0.1166552 ],\n",
       "       [-0.02303976,  0.11068105,  0.14380541,  0.14318206,  0.14322885,\n",
       "         0.14323087],\n",
       "       [ 0.75409407,  0.04253141,  0.04492277,  0.04442357,  0.04440814,\n",
       "         0.04440433],\n",
       "       [ 0.80109296,  0.45234026,  0.36104557,  0.35523364,  0.35580762,\n",
       "         0.35578459],\n",
       "       [ 0.13619162,  0.50294727,  0.45666936,  0.45488814,  0.45506086,\n",
       "         0.45505209]])"
      ]
     },
     "execution_count": 123,
     "metadata": {},
     "output_type": "execute_result"
    }
   ],
   "source": [
    "m.raw_data"
   ]
  },
  {
   "cell_type": "code",
   "execution_count": 124,
   "metadata": {},
   "outputs": [
    {
     "data": {
      "text/plain": [
       "(0, 0.1110233443550892)"
      ]
     },
     "execution_count": 124,
     "metadata": {},
     "output_type": "execute_result"
    }
   ],
   "source": [
    "ag = m.agents[0]\n",
    "ag.unique_id, ag.b_i0"
   ]
  },
  {
   "cell_type": "code",
   "execution_count": 125,
   "metadata": {},
   "outputs": [
    {
     "data": {
      "text/plain": [
       "0.26674687212207493"
      ]
     },
     "execution_count": 125,
     "metadata": {},
     "output_type": "execute_result"
    }
   ],
   "source": [
    "m.raw_data[0, 0]"
   ]
  },
  {
   "cell_type": "code",
   "execution_count": 126,
   "metadata": {},
   "outputs": [
    {
     "data": {
      "text/plain": [
       "(array([0.27035992, 0.72964008]), array([5, 8], dtype=int64))"
      ]
     },
     "execution_count": 126,
     "metadata": {},
     "output_type": "execute_result"
    }
   ],
   "source": [
    "ag.w_j, ag.neighbor_ids"
   ]
  },
  {
   "cell_type": "code",
   "execution_count": 127,
   "metadata": {},
   "outputs": [
    {
     "data": {
      "text/plain": [
       "0.035805143860342115"
      ]
     },
     "execution_count": 127,
     "metadata": {},
     "output_type": "execute_result"
    }
   ],
   "source": [
    "0.111023 / (1 + np.exp(.27035*.58365 + .72964*.80109))"
   ]
  },
  {
   "cell_type": "code",
   "execution_count": 128,
   "metadata": {},
   "outputs": [
    {
     "data": {
      "text/plain": [
       "0.03580503847709889"
      ]
     },
     "execution_count": 128,
     "metadata": {},
     "output_type": "execute_result"
    }
   ],
   "source": [
    "m.raw_data[0, 1]"
   ]
  },
  {
   "cell_type": "markdown",
   "metadata": {},
   "source": [
    "thus Agent 0 correctly updated on its first activation"
   ]
  },
  {
   "cell_type": "code",
   "execution_count": 129,
   "metadata": {},
   "outputs": [
    {
     "data": {
      "text/plain": [
       "0.04567855674969885"
      ]
     },
     "execution_count": 129,
     "metadata": {},
     "output_type": "execute_result"
    }
   ],
   "source": [
    "ag.b_i0 / (1 + np.exp(np.dot(ag.w_j, [0.10357719, 0.45234026])))"
   ]
  },
  {
   "cell_type": "code",
   "execution_count": 130,
   "metadata": {},
   "outputs": [
    {
     "data": {
      "text/plain": [
       "0.04567855673816483"
      ]
     },
     "execution_count": 130,
     "metadata": {},
     "output_type": "execute_result"
    }
   ],
   "source": [
    "m.raw_data[0,2]"
   ]
  },
  {
   "cell_type": "markdown",
   "metadata": {},
   "source": [
    "and again on its next (the neighbor o_is were read manually from m.raw_data)"
   ]
  },
  {
   "cell_type": "markdown",
   "metadata": {},
   "source": [
    "### Similarity bias agent"
   ]
  },
  {
   "cell_type": "code",
   "execution_count": 131,
   "metadata": {},
   "outputs": [],
   "source": [
    "m = model.Model(1234, 5, ('scale_free', (10, 5)), agents.SimilarityBiasAgent,\n",
    "activation_regimes.Synchronous, None)\n",
    "m.run_model()"
   ]
  },
  {
   "cell_type": "code",
   "execution_count": 132,
   "metadata": {
    "scrolled": true
   },
   "outputs": [
    {
     "data": {
      "text/plain": [
       "array([[ 0.26674687,  0.26674687,  0.26674687,  0.26674687,  0.26674687,\n",
       "         0.26674687],\n",
       "       [ 0.62027169,  0.71068232,  0.75588764,  0.74543549,  0.74020941,\n",
       "         0.68781377],\n",
       "       [-0.92707301, -0.92707301, -0.92707301, -0.92707301, -0.92707301,\n",
       "        -0.92707301],\n",
       "       [-0.26051624, -0.26051624, -0.26051624, -0.26051624, -0.26051624,\n",
       "        -0.26051624],\n",
       "       [-0.67206201, -0.67206201, -0.67206201, -0.67206201, -0.67206201,\n",
       "        -0.67206201],\n",
       "       [ 0.58365336,  0.60196252,  0.63541812,  0.4510825 ,  0.4510825 ,\n",
       "         0.4510825 ],\n",
       "       [-0.02303976, -0.02303976, -0.02303976, -0.02303976, -0.02303976,\n",
       "        -0.02303976],\n",
       "       [ 0.75409407,  0.66887371,  0.63541812,  0.63541812,  0.63541812,\n",
       "         0.68781377],\n",
       "       [ 0.80109296,  0.80109296,  0.73498334,  0.73498334,  0.73498334,\n",
       "         0.73498334],\n",
       "       [ 0.13619162,  0.13619162,  0.13619162,  0.13619162,  0.13619162,\n",
       "         0.13619162]])"
      ]
     },
     "execution_count": 132,
     "metadata": {},
     "output_type": "execute_result"
    }
   ],
   "source": [
    "m.raw_data"
   ]
  },
  {
   "cell_type": "code",
   "execution_count": 133,
   "metadata": {},
   "outputs": [
    {
     "data": {
      "text/plain": [
       "(0, 0.26674687212207493)"
      ]
     },
     "execution_count": 133,
     "metadata": {},
     "output_type": "execute_result"
    }
   ],
   "source": [
    "ag = m.agents[0]\n",
    "ag.unique_id, ag.o_i1"
   ]
  },
  {
   "cell_type": "code",
   "execution_count": 134,
   "metadata": {},
   "outputs": [
    {
     "data": {
      "text/plain": [
       "0.4"
      ]
     },
     "execution_count": 134,
     "metadata": {},
     "output_type": "execute_result"
    }
   ],
   "source": [
    "import constants\n",
    "constants.SIMILARITY_BIAS_EPSILON"
   ]
  },
  {
   "cell_type": "code",
   "execution_count": 135,
   "metadata": {},
   "outputs": [
    {
     "data": {
      "text/plain": [
       "array([5, 8], dtype=int64)"
      ]
     },
     "execution_count": 135,
     "metadata": {},
     "output_type": "execute_result"
    }
   ],
   "source": [
    "ag.neighbor_ids"
   ]
  },
  {
   "cell_type": "code",
   "execution_count": 136,
   "metadata": {},
   "outputs": [
    {
     "data": {
      "text/plain": [
       "array([0.58365336, 0.80109296])"
      ]
     },
     "execution_count": 136,
     "metadata": {},
     "output_type": "execute_result"
    }
   ],
   "source": [
    "m.raw_data[(5,8),0]"
   ]
  },
  {
   "cell_type": "code",
   "execution_count": 137,
   "metadata": {},
   "outputs": [
    {
     "data": {
      "text/plain": [
       "array([ True, False])"
      ]
     },
     "execution_count": 137,
     "metadata": {},
     "output_type": "execute_result"
    }
   ],
   "source": [
    "np.abs(m.raw_data[(5,8),0] - m.raw_data[0, 0]) < constants.SIMILARITY_BIAS_EPSILON"
   ]
  },
  {
   "cell_type": "markdown",
   "metadata": {},
   "source": [
    "so agent 5 is close enough to interact, but 8 is not...who was the random selection for the first activation?"
   ]
  },
  {
   "cell_type": "code",
   "execution_count": 138,
   "metadata": {},
   "outputs": [
    {
     "data": {
      "text/plain": [
       "8"
      ]
     },
     "execution_count": 138,
     "metadata": {},
     "output_type": "execute_result"
    }
   ],
   "source": [
    "ag.neighbor_ids[ag.neighbor_indexes_over_time_for_adoption[0]]"
   ]
  },
  {
   "cell_type": "markdown",
   "metadata": {},
   "source": [
    "agent 8 is selcted but too far away, so agent 0 should not change opinion"
   ]
  },
  {
   "cell_type": "code",
   "execution_count": 139,
   "metadata": {},
   "outputs": [
    {
     "data": {
      "text/plain": [
       "array([0.26674687, 0.26674687])"
      ]
     },
     "execution_count": 139,
     "metadata": {},
     "output_type": "execute_result"
    }
   ],
   "source": [
    "m.raw_data[0, (0, 1)]"
   ]
  },
  {
   "cell_type": "markdown",
   "metadata": {},
   "source": [
    "thus Agent 0 correctly was not influenced"
   ]
  },
  {
   "cell_type": "code",
   "execution_count": 140,
   "metadata": {},
   "outputs": [
    {
     "data": {
      "text/plain": [
       "array([1, 1, 1, 1, 1, 0])"
      ]
     },
     "execution_count": 140,
     "metadata": {},
     "output_type": "execute_result"
    }
   ],
   "source": [
    "ag.neighbor_indexes_over_time_for_adoption"
   ]
  },
  {
   "cell_type": "code",
   "execution_count": 141,
   "metadata": {},
   "outputs": [
    {
     "data": {
      "text/plain": [
       "array([0.27035992, 0.72964008])"
      ]
     },
     "execution_count": 141,
     "metadata": {},
     "output_type": "execute_result"
    }
   ],
   "source": [
    "ag.w_j"
   ]
  },
  {
   "cell_type": "markdown",
   "metadata": {},
   "source": [
    "due to 8's high weight (ag.w_j), it was selected for interaction every step during the run, but never came close enough to interact"
   ]
  },
  {
   "cell_type": "code",
   "execution_count": 142,
   "metadata": {},
   "outputs": [
    {
     "data": {
      "text/plain": [
       "(0.4682364641340695, 0.4)"
      ]
     },
     "execution_count": 142,
     "metadata": {},
     "output_type": "execute_result"
    }
   ],
   "source": [
    "np.abs(ag.o_i1 - np.min(m.raw_data[8])), constants.SIMILARITY_BIAS_EPSILON"
   ]
  },
  {
   "cell_type": "code",
   "execution_count": 143,
   "metadata": {},
   "outputs": [
    {
     "data": {
      "text/plain": [
       "(1, 0.6202716875330976)"
      ]
     },
     "execution_count": 143,
     "metadata": {},
     "output_type": "execute_result"
    }
   ],
   "source": [
    "ag = m.agents[1]\n",
    "ag.unique_id, ag.o_i1"
   ]
  },
  {
   "cell_type": "code",
   "execution_count": 144,
   "metadata": {},
   "outputs": [
    {
     "data": {
      "text/plain": [
       "array([7, 8], dtype=int64)"
      ]
     },
     "execution_count": 144,
     "metadata": {},
     "output_type": "execute_result"
    }
   ],
   "source": [
    "ag.neighbor_ids"
   ]
  },
  {
   "cell_type": "code",
   "execution_count": 145,
   "metadata": {},
   "outputs": [
    {
     "data": {
      "text/plain": [
       "array([0.75409407, 0.80109296])"
      ]
     },
     "execution_count": 145,
     "metadata": {},
     "output_type": "execute_result"
    }
   ],
   "source": [
    "m.raw_data[(7, 8), 0]"
   ]
  },
  {
   "cell_type": "code",
   "execution_count": 146,
   "metadata": {},
   "outputs": [
    {
     "data": {
      "text/plain": [
       "array([ True,  True])"
      ]
     },
     "execution_count": 146,
     "metadata": {},
     "output_type": "execute_result"
    }
   ],
   "source": [
    "np.abs(m.raw_data[(7,8),0] - m.raw_data[1, 0]) < constants.SIMILARITY_BIAS_EPSILON"
   ]
  },
  {
   "cell_type": "markdown",
   "metadata": {},
   "source": [
    "agent 1 can interact with either neighbor"
   ]
  },
  {
   "cell_type": "code",
   "execution_count": 147,
   "metadata": {},
   "outputs": [
    {
     "data": {
      "text/plain": [
       "8"
      ]
     },
     "execution_count": 147,
     "metadata": {},
     "output_type": "execute_result"
    }
   ],
   "source": [
    "ag.neighbor_ids[ag.neighbor_indexes_over_time_for_adoption[0]]"
   ]
  },
  {
   "cell_type": "markdown",
   "metadata": {},
   "source": [
    "agent 8 is selected and is close enough to interact"
   ]
  },
  {
   "cell_type": "code",
   "execution_count": 148,
   "metadata": {},
   "outputs": [
    {
     "data": {
      "text/plain": [
       "0.7106808437665488"
      ]
     },
     "execution_count": 148,
     "metadata": {},
     "output_type": "execute_result"
    }
   ],
   "source": [
    "ag.o_i1 + constants.SIMILARITY_BIAS_MU * (0.80109-ag.o_i1)"
   ]
  },
  {
   "cell_type": "code",
   "execution_count": 149,
   "metadata": {},
   "outputs": [
    {
     "data": {
      "text/plain": [
       "0.7106823229793914"
      ]
     },
     "execution_count": 149,
     "metadata": {},
     "output_type": "execute_result"
    }
   ],
   "source": [
    "m.raw_data[1,1]"
   ]
  },
  {
   "cell_type": "markdown",
   "metadata": {},
   "source": [
    "and Agent 1 was correctly influenced by agent 8"
   ]
  },
  {
   "cell_type": "code",
   "execution_count": 150,
   "metadata": {},
   "outputs": [
    {
     "data": {
      "text/plain": [
       "array([2, 4, 6], dtype=int64)"
      ]
     },
     "execution_count": 150,
     "metadata": {},
     "output_type": "execute_result"
    }
   ],
   "source": [
    "m.agents[9].neighbor_ids"
   ]
  },
  {
   "cell_type": "code",
   "execution_count": 151,
   "metadata": {},
   "outputs": [
    {
     "data": {
      "text/plain": [
       "array([False, False,  True])"
      ]
     },
     "execution_count": 151,
     "metadata": {},
     "output_type": "execute_result"
    }
   ],
   "source": [
    "np.abs(m.raw_data[(2,4,6),0] - m.raw_data[9, 0]) < constants.SIMILARITY_BIAS_EPSILON"
   ]
  },
  {
   "cell_type": "code",
   "execution_count": 152,
   "metadata": {},
   "outputs": [
    {
     "data": {
      "text/plain": [
       "(array([0.21126494, 0.77885848, 0.00987658]), array([1, 1, 0, 0, 1, 1]))"
      ]
     },
     "execution_count": 152,
     "metadata": {},
     "output_type": "execute_result"
    }
   ],
   "source": [
    "m.agents[9].w_j, m.agents[9].neighbor_indexes_over_time_for_adoption"
   ]
  },
  {
   "cell_type": "code",
   "execution_count": 153,
   "metadata": {},
   "outputs": [
    {
     "data": {
      "text/plain": [
       "array([0.13619162, 0.13619162, 0.13619162, 0.13619162, 0.13619162,\n",
       "       0.13619162])"
      ]
     },
     "execution_count": 153,
     "metadata": {},
     "output_type": "execute_result"
    }
   ],
   "source": [
    "m.raw_data[9]"
   ]
  },
  {
   "cell_type": "markdown",
   "metadata": {},
   "source": [
    "agent 9 does not change opinion during the run. note that at the start, its first two neighbors are too far away to interact, and due to its weights, it only interacts with them. agents 2 and 4 also happen to not change opinion during the run: 2 starts off at a very negative value while its neighbors are positive, and 4 has no neighbors."
   ]
  },
  {
   "cell_type": "code",
   "execution_count": 154,
   "metadata": {},
   "outputs": [
    {
     "data": {
      "text/plain": [
       "array([], dtype=int64)"
      ]
     },
     "execution_count": 154,
     "metadata": {},
     "output_type": "execute_result"
    }
   ],
   "source": [
    "m.agents[4].neighbor_ids"
   ]
  },
  {
   "cell_type": "markdown",
   "metadata": {},
   "source": [
    "### Attractive repulsive agent"
   ]
  },
  {
   "cell_type": "code",
   "execution_count": 155,
   "metadata": {},
   "outputs": [],
   "source": [
    "m = model.Model(1234, 5, ('scale_free', (10, 5)), agents.AttractiveRepulsiveAgent,\n",
    "activation_regimes.Synchronous, None)\n",
    "m.run_model()"
   ]
  },
  {
   "cell_type": "code",
   "execution_count": 156,
   "metadata": {
    "scrolled": true
   },
   "outputs": [
    {
     "data": {
      "text/plain": [
       "array([[ 0.26674687,  0.39115705,  0.51023365,  0.62822246,  0.74500196,\n",
       "         0.83998898],\n",
       "       [ 0.62027169,  0.69433416,  0.80045127,  0.84196051,  0.90849202,\n",
       "         0.7835154 ],\n",
       "       [-0.92707301, -1.        , -1.        , -1.        , -1.        ,\n",
       "        -1.        ],\n",
       "       [-0.26051624, -0.1947426 , -0.11356087, -0.02217315,  0.10179337,\n",
       "         0.20676541],\n",
       "       [-0.67206201, -0.67206201, -0.67206201, -0.67206201, -0.67206201,\n",
       "        -0.67206201],\n",
       "       [ 0.58365336,  0.60129207,  0.63897465,  0.58289127,  0.7428685 ,\n",
       "         1.        ],\n",
       "       [-0.02303976,  0.09626853,  0.2174727 ,  0.3398982 ,  0.41477803,\n",
       "         0.52500159],\n",
       "       [ 0.75409407,  0.68339873,  0.64571615,  0.52329065,  0.40165365,\n",
       "         0.52663027],\n",
       "       [ 0.80109296,  1.        ,  0.89181755,  1.        ,  1.        ,\n",
       "         1.        ],\n",
       "       [ 0.13619162,  0.05870177, -0.03967226, -0.05872145, -0.08635807,\n",
       "        -0.20768549]])"
      ]
     },
     "execution_count": 156,
     "metadata": {},
     "output_type": "execute_result"
    }
   ],
   "source": [
    "m.raw_data"
   ]
  },
  {
   "cell_type": "code",
   "execution_count": 157,
   "metadata": {},
   "outputs": [
    {
     "data": {
      "text/plain": [
       "(0, 0.26674687212207493)"
      ]
     },
     "execution_count": 157,
     "metadata": {},
     "output_type": "execute_result"
    }
   ],
   "source": [
    "ag = m.agents[0]\n",
    "ag.unique_id, ag.o_i1"
   ]
  },
  {
   "cell_type": "code",
   "execution_count": 158,
   "metadata": {},
   "outputs": [
    {
     "data": {
      "text/plain": [
       "array([5, 8], dtype=int64)"
      ]
     },
     "execution_count": 158,
     "metadata": {},
     "output_type": "execute_result"
    }
   ],
   "source": [
    "ag.neighbor_ids"
   ]
  },
  {
   "cell_type": "code",
   "execution_count": 159,
   "metadata": {},
   "outputs": [
    {
     "data": {
      "text/plain": [
       "array([0.58365336, 0.80109296])"
      ]
     },
     "execution_count": 159,
     "metadata": {},
     "output_type": "execute_result"
    }
   ],
   "source": [
    "m.raw_data[(5,8),0]"
   ]
  },
  {
   "cell_type": "markdown",
   "metadata": {},
   "source": [
    "in AttractiveRepulsive, the agent will always interact with the selected neighbor"
   ]
  },
  {
   "cell_type": "code",
   "execution_count": 160,
   "metadata": {
    "scrolled": true
   },
   "outputs": [
    {
     "data": {
      "text/plain": [
       "0.5"
      ]
     },
     "execution_count": 160,
     "metadata": {},
     "output_type": "execute_result"
    }
   ],
   "source": [
    "constants.ATTRACTIVE_REPULSIVE_MU"
   ]
  },
  {
   "cell_type": "markdown",
   "metadata": {},
   "source": [
    "in our formulation of the AttractiveRepulsive model, an agent is attracted by a neighbor if it is < 1 opinion unit away, unchanged if exactly 1 unit, and repulsed if > 1"
   ]
  },
  {
   "cell_type": "code",
   "execution_count": 161,
   "metadata": {},
   "outputs": [
    {
     "data": {
      "text/plain": [
       "8"
      ]
     },
     "execution_count": 161,
     "metadata": {},
     "output_type": "execute_result"
    }
   ],
   "source": [
    "ag.neighbor_ids[ag.neighbor_indexes_over_time_for_adoption[0]]"
   ]
  },
  {
   "cell_type": "markdown",
   "metadata": {},
   "source": [
    "agent 8 is selected"
   ]
  },
  {
   "cell_type": "code",
   "execution_count": 162,
   "metadata": {},
   "outputs": [
    {
     "data": {
      "text/plain": [
       "0.53434"
      ]
     },
     "execution_count": 162,
     "metadata": {},
     "output_type": "execute_result"
    }
   ],
   "source": [
    "np.abs(.80109-.26675)"
   ]
  },
  {
   "cell_type": "markdown",
   "metadata": {},
   "source": [
    "since the difference is < 1, agent 0 should be attracted to 8's opinion (move toward 0.80)"
   ]
  },
  {
   "cell_type": "code",
   "execution_count": 163,
   "metadata": {},
   "outputs": [
    {
     "data": {
      "text/plain": [
       "0.39115725432207493"
      ]
     },
     "execution_count": 163,
     "metadata": {},
     "output_type": "execute_result"
    }
   ],
   "source": [
    "ag.o_i1 + constants.ATTRACTIVE_REPULSIVE_MU * (1 - np.abs(.80109-.26675)) * (.80109-.26675)"
   ]
  },
  {
   "cell_type": "code",
   "execution_count": 164,
   "metadata": {},
   "outputs": [
    {
     "data": {
      "text/plain": [
       "array([0.26674687, 0.39115705])"
      ]
     },
     "execution_count": 164,
     "metadata": {},
     "output_type": "execute_result"
    }
   ],
   "source": [
    "m.raw_data[0, (0, 1)]"
   ]
  },
  {
   "cell_type": "markdown",
   "metadata": {},
   "source": [
    "thus agent 0 is correctly influenced by agent 8"
   ]
  },
  {
   "cell_type": "code",
   "execution_count": 165,
   "metadata": {},
   "outputs": [
    {
     "data": {
      "text/plain": [
       "array([5, 6], dtype=int64)"
      ]
     },
     "execution_count": 165,
     "metadata": {},
     "output_type": "execute_result"
    }
   ],
   "source": [
    "m.agents[2].neighbor_ids"
   ]
  },
  {
   "cell_type": "code",
   "execution_count": 166,
   "metadata": {},
   "outputs": [
    {
     "data": {
      "text/plain": [
       "array([ 0.58365336, -0.02303976])"
      ]
     },
     "execution_count": 166,
     "metadata": {},
     "output_type": "execute_result"
    }
   ],
   "source": [
    "m.raw_data[(5,6),0]"
   ]
  },
  {
   "cell_type": "code",
   "execution_count": 167,
   "metadata": {},
   "outputs": [
    {
     "data": {
      "text/plain": [
       "array([0, 1, 0, 0, 0, 1])"
      ]
     },
     "execution_count": 167,
     "metadata": {},
     "output_type": "execute_result"
    }
   ],
   "source": [
    "m.agents[2].neighbor_indexes_over_time_for_adoption"
   ]
  },
  {
   "cell_type": "markdown",
   "metadata": {},
   "source": [
    "from inspection of the raw_data table and these facts about Agent 2, we see it is repulsed every time (being clipped to -1 during its finalize() action). Agent 5 starts off at 0.58 while 2 starts at -0.92. Since 2 first selects 5, 2 is repulsed.\n",
    "\n",
    "Agent 6 started at -0.023 so would have been close enough to attract 2 if 6 was selected on the first update. However, 6 became too far away from 2 after the first update, so 2 was repulsed when it did select 6 later."
   ]
  },
  {
   "cell_type": "markdown",
   "metadata": {},
   "source": [
    "### Random adoption agent"
   ]
  },
  {
   "cell_type": "code",
   "execution_count": 168,
   "metadata": {},
   "outputs": [],
   "source": [
    "m = model.Model(1234, 5, ('scale_free', (10, 5)), agents.RandomAdoptionAgent,\n",
    "activation_regimes.Synchronous, None)\n",
    "m.run_model()"
   ]
  },
  {
   "cell_type": "code",
   "execution_count": 169,
   "metadata": {
    "scrolled": true
   },
   "outputs": [
    {
     "data": {
      "text/plain": [
       "array([[ 0.26674687,  0.80109296, -0.92707301,  0.58365336,  0.58365336,\n",
       "         0.58365336],\n",
       "       [ 0.62027169,  0.80109296, -0.92707301,  0.58365336,  0.58365336,\n",
       "         0.58365336],\n",
       "       [-0.92707301,  0.58365336,  0.58365336,  0.58365336, -0.92707301,\n",
       "        -0.67206201],\n",
       "       [-0.26051624,  0.58365336,  0.62027169,  0.62027169,  0.58365336,\n",
       "         0.58365336],\n",
       "       [-0.67206201, -0.67206201, -0.67206201, -0.67206201, -0.67206201,\n",
       "        -0.67206201],\n",
       "       [ 0.58365336,  0.62027169,  0.58365336, -0.92707301, -0.67206201,\n",
       "        -0.67206201],\n",
       "       [-0.02303976,  0.58365336,  0.58365336,  0.62027169,  0.58365336,\n",
       "        -0.67206201],\n",
       "       [ 0.75409407,  0.58365336,  0.62027169,  0.58365336,  0.58365336,\n",
       "         0.58365336],\n",
       "       [ 0.80109296, -0.92707301,  0.58365336,  0.58365336,  0.58365336,\n",
       "        -0.92707301],\n",
       "       [ 0.13619162, -0.67206201, -0.67206201,  0.58365336,  0.58365336,\n",
       "        -0.67206201]])"
      ]
     },
     "execution_count": 169,
     "metadata": {},
     "output_type": "execute_result"
    }
   ],
   "source": [
    "m.raw_data"
   ]
  },
  {
   "cell_type": "code",
   "execution_count": 170,
   "metadata": {},
   "outputs": [
    {
     "data": {
      "text/plain": [
       "(0, 0.26674687212207493)"
      ]
     },
     "execution_count": 170,
     "metadata": {},
     "output_type": "execute_result"
    }
   ],
   "source": [
    "ag = m.agents[0]\n",
    "ag.unique_id, ag.o_i1"
   ]
  },
  {
   "cell_type": "code",
   "execution_count": 171,
   "metadata": {},
   "outputs": [
    {
     "data": {
      "text/plain": [
       "array([5, 8], dtype=int64)"
      ]
     },
     "execution_count": 171,
     "metadata": {},
     "output_type": "execute_result"
    }
   ],
   "source": [
    "ag.neighbor_ids"
   ]
  },
  {
   "cell_type": "code",
   "execution_count": 172,
   "metadata": {},
   "outputs": [
    {
     "data": {
      "text/plain": [
       "array([1, 1, 1, 1, 1, 0])"
      ]
     },
     "execution_count": 172,
     "metadata": {},
     "output_type": "execute_result"
    }
   ],
   "source": [
    "ag.neighbor_indexes_over_time_for_adoption"
   ]
  },
  {
   "cell_type": "markdown",
   "metadata": {},
   "source": [
    "within this run, agent 0 should always adopt 8's opinion"
   ]
  },
  {
   "cell_type": "code",
   "execution_count": 173,
   "metadata": {},
   "outputs": [
    {
     "data": {
      "text/plain": [
       "array([ 0.80109296, -0.92707301,  0.58365336,  0.58365336,  0.58365336])"
      ]
     },
     "execution_count": 173,
     "metadata": {},
     "output_type": "execute_result"
    }
   ],
   "source": [
    "m.raw_data[0, 1:]\n"
   ]
  },
  {
   "cell_type": "code",
   "execution_count": 174,
   "metadata": {},
   "outputs": [
    {
     "data": {
      "text/plain": [
       "array([ 0.80109296, -0.92707301,  0.58365336,  0.58365336,  0.58365336])"
      ]
     },
     "execution_count": 174,
     "metadata": {},
     "output_type": "execute_result"
    }
   ],
   "source": [
    "m.raw_data[8, :-1]"
   ]
  },
  {
   "cell_type": "markdown",
   "metadata": {},
   "source": [
    "these match, therefore agent 0 was updating correctly"
   ]
  },
  {
   "cell_type": "markdown",
   "metadata": {},
   "source": [
    "### Final"
   ]
  },
  {
   "cell_type": "markdown",
   "metadata": {},
   "source": [
    "from the above, all 5 agents have been face-validated for 1-2 time steps. we only used the Synchronous activation regime here because we do not easily capture the random update sequences for validation. however, the internal behavior of the agent classes is independent of the activation regime.\n",
    "\n",
    "therefore, we are confident that the agent classes are functioning as designed and intended.\n",
    "\n",
    "end//"
   ]
  }
 ],
 "metadata": {
  "kernelspec": {
   "display_name": "Python 3",
   "language": "python",
   "name": "python3"
  },
  "language_info": {
   "codemirror_mode": {
    "name": "ipython",
    "version": 3
   },
   "file_extension": ".py",
   "mimetype": "text/x-python",
   "name": "python",
   "nbconvert_exporter": "python",
   "pygments_lexer": "ipython3",
   "version": "3.6.8"
  }
 },
 "nbformat": 4,
 "nbformat_minor": 2
}
