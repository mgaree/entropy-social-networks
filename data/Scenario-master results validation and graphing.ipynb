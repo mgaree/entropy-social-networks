{
 "cells": [
  {
   "cell_type": "markdown",
   "metadata": {},
   "source": [
    "## Data \"validation\" / sanity checking"
   ]
  },
  {
   "cell_type": "code",
   "execution_count": 2,
   "metadata": {},
   "outputs": [
    {
     "name": "stdout",
     "output_type": "stream",
     "text": [
      "/c/Users/Mike/Dropbox/01 Purdue Thesis work/04 Experimental Study for Paper 2/data\n"
     ]
    }
   ],
   "source": [
    "!pwd"
   ]
  },
  {
   "cell_type": "code",
   "execution_count": 3,
   "metadata": {},
   "outputs": [],
   "source": [
    "import numpy as np\n",
    "import pandas as pd\n",
    "import seaborn as sns\n",
    "import matplotlib.pyplot as plt\n",
    "from scipy import stats"
   ]
  },
  {
   "cell_type": "code",
   "execution_count": 91,
   "metadata": {},
   "outputs": [],
   "source": [
    "scenario_designs = {\n",
    "    0: 'design.csv',\n",
    "    1: 'design_informed_uninformed.csv',\n",
    "    2: 'design_concord_pa.csv',\n",
    "    3: 'design_bots_humans.csv',\n",
    "    4: 'design_stubborn_normal.csv',\n",
    "}\n",
    "scenario_filepaths = {\n",
    "    1: 'master_trial_results.design_informed_uninformed.npy',\n",
    "    2: 'master_trial_results.design_concord_pa.npy',\n",
    "    3: 'master_trial_results.design_bots_humans.npy',\n",
    "    4: 'master_trial_results.design_stubborn_normal.npy',\n",
    "}\n",
    "scenario_labels = {\n",
    "    0: 'Base case',\n",
    "    1: 'Informed/Uninformed',\n",
    "    2: 'Concord/Partial Antagonism',\n",
    "    3: 'Bots/Humans',\n",
    "    4: 'Stubborn/Normal',    \n",
    "}\n",
    "\n",
    "###\n",
    "\n",
    "scenario_num = 2\n",
    "###"
   ]
  },
  {
   "cell_type": "code",
   "execution_count": 92,
   "metadata": {},
   "outputs": [],
   "source": [
    "filepath = 'master_trial_results.npy'\n",
    "\n",
    "filepath = scenario_filepaths[scenario_num]"
   ]
  },
  {
   "cell_type": "code",
   "execution_count": 93,
   "metadata": {},
   "outputs": [
    {
     "data": {
      "text/plain": [
       "'8560da4db0853e66794d3965b2da1420'"
      ]
     },
     "execution_count": 93,
     "metadata": {},
     "output_type": "execute_result"
    }
   ],
   "source": [
    "# create hash of file for posterity\n",
    "import hashlib\n",
    "import pathlib\n",
    "\n",
    "hashlib.md5(pathlib.Path(filepath).read_bytes()).hexdigest()"
   ]
  },
  {
   "cell_type": "code",
   "execution_count": 94,
   "metadata": {},
   "outputs": [
    {
     "name": "stdout",
     "output_type": "stream",
     "text": [
      "(379, 501, 6, 2)\n"
     ]
    }
   ],
   "source": [
    "data = np.load(filepath)\n",
    "print(data.shape)\n",
    "\n",
    "# assign the empty trial to nan to avoid confusion later\n",
    "data[0] = np.nan"
   ]
  },
  {
   "cell_type": "code",
   "execution_count": 95,
   "metadata": {},
   "outputs": [],
   "source": [
    "# data = data[[0] + trial_nums_from_full_design_present_in_nonh_core]"
   ]
  },
  {
   "cell_type": "markdown",
   "metadata": {},
   "source": [
    "the 0th entry on the first dimension is blank so that all trials are indexed by their trial number 1..1800\n",
    "\n",
    "the 0th entry on the second dimension is the entropy value from agent initial conditions\n",
    "\n",
    "the final dimension is [mean, standard deviation]"
   ]
  },
  {
   "cell_type": "code",
   "execution_count": 96,
   "metadata": {},
   "outputs": [
    {
     "data": {
      "text/plain": [
       "True"
      ]
     },
     "execution_count": 96,
     "metadata": {},
     "output_type": "execute_result"
    }
   ],
   "source": [
    "# a quick way to check that a time series does vary is the peak-to-peak value should be > 0\n",
    "(np.ptp(data[1:, :, :, 0], axis=1) > 0).all()"
   ]
  },
  {
   "cell_type": "code",
   "execution_count": null,
   "metadata": {},
   "outputs": [],
   "source": []
  },
  {
   "cell_type": "code",
   "execution_count": 97,
   "metadata": {},
   "outputs": [],
   "source": [
    "trial_nums_from_full_design_present_in_nonh_core = [2, 5, 8, 17, 20, 23, 29, 32, 35, 38, 47, 50, 53, 59, 62, 65, 68, 77, 80, 83, 89, 92, 95, 98, 107, 110, 113, 119, 152, 155, 158, 167, 170, 173, 179, 182, 185, 188, 197, 200, 203, 209, 212, 215, 218, 227, 230, 233, 239, 242, 245, 248, 257, 260, 263, 269, 302, 305, 308, 317, 320, 323, 329, 332, 335, 338, 347, 350, 353, 359, 362, 365, 368, 377, 380, 383, 389, 392, 395, 398, 407, 410, 413, 419, 1202, 1205, 1208, 1217, 1220, 1223, 1229, 1232, 1235, 1238, 1247, 1250, 1253, 1259, 1262, 1265, 1268, 1277, 1280, 1283, 1289, 1292, 1295, 1298, 1307, 1310, 1313, 1319, 1352, 1355, 1358, 1367, 1370, 1373, 1379, 1382, 1385, 1388, 1397, 1400, 1403, 1409, 1412, 1415, 1418, 1427, 1430, 1433, 1439, 1442, 1445, 1448, 1457, 1460, 1463, 1469, 1502, 1505, 1508, 1517, 1520, 1523, 1529, 1532, 1535, 1538, 1547, 1550, 1553, 1559, 1562, 1565, 1568, 1577, 1580, 1583, 1589, 1592, 1595, 1598, 1607, 1610, 1613, 1619]"
   ]
  },
  {
   "cell_type": "code",
   "execution_count": 98,
   "metadata": {},
   "outputs": [],
   "source": [
    "response_variable_labels = {\n",
    "    0: 'relative entropy, binning (RE-B)',\n",
    "    1: 'mutual information, binning (MI-B)',\n",
    "    2: 'transfer entropy, binning (TE-B)',\n",
    "    3: 'relative entropy, symbolic approach (RE-S)',\n",
    "    4: 'mutual information, symbolic approach (MI-S)',\n",
    "    5: 'transfer entropy, symbolic approach (TE-S)',\n",
    "    }\n",
    "response_variable_short_labels = {\n",
    "    0: 'RE-B',\n",
    "    1: 'MI-B',\n",
    "    2: 'TE-B',\n",
    "    3: 'RE-S',\n",
    "    4: 'MI-S',\n",
    "    5: 'TE-S',\n",
    "    }\n",
    "# array indexes\n",
    "BINNING_RELATIVE  = 0\n",
    "BINNING_MUTUAL    = 1\n",
    "BINNING_TRANSFER  = 2\n",
    "SYMBOLIC_RELATIVE = 3\n",
    "SYMBOLIC_MUTUAL   = 4\n",
    "SYMBOLIC_TRANSFER = 5\n",
    "\n",
    "trial_counts = {\n",
    "    0: len(trial_nums_from_full_design_present_in_nonh_core),\n",
    "    1: 840,\n",
    "    2: 378,\n",
    "    3: 84,\n",
    "    4: 672\n",
    "}\n",
    "\n",
    "MIN_TRIAL, MAX_TRIAL = 1, trial_counts[scenario_num]\n",
    "MIN_T, MAX_T = 0, 500\n",
    "\n",
    "INDEX_MEANS, INDEX_STDEV = 0, 1"
   ]
  },
  {
   "cell_type": "markdown",
   "metadata": {},
   "source": [
    "## Data summary plots"
   ]
  },
  {
   "cell_type": "markdown",
   "metadata": {},
   "source": [
    "I think it may be easiest to use one notebook for each RV"
   ]
  },
  {
   "cell_type": "code",
   "execution_count": 99,
   "metadata": {},
   "outputs": [],
   "source": [
    "# plot styling\n",
    "plt.style.use('seaborn-colorblind')\n",
    "\n",
    "\n",
    "from my_plot import set_size, setup_mpl_for_latex\n",
    "setup_mpl_for_latex()\n",
    "\n",
    "textwidth = 390  ###"
   ]
  },
  {
   "cell_type": "code",
   "execution_count": 100,
   "metadata": {},
   "outputs": [
    {
     "name": "stdout",
     "output_type": "stream",
     "text": [
      "0.6906548673476626 5.6724253419715644\n"
     ]
    }
   ],
   "source": [
    "\n",
    "\n",
    "rv = 0  # just to select single response variable\n",
    "\n",
    "print(data[MIN_TRIAL:, :, rv, INDEX_MEANS].min(), data[MIN_TRIAL:, :, rv, INDEX_MEANS].max())"
   ]
  },
  {
   "cell_type": "code",
   "execution_count": 101,
   "metadata": {},
   "outputs": [],
   "source": [
    "# for transfer entropy, need to truncate the last t;\n",
    "# for symbolic entropy, need to truncate the last few t's\n",
    "MAX_T = 490  ###"
   ]
  },
  {
   "cell_type": "code",
   "execution_count": 102,
   "metadata": {},
   "outputs": [
    {
     "data": {
      "image/png": "[encoded data removed]",
      "text/plain": [
       "<Figure size 388.543x240.133 with 2 Axes>"
      ]
     },
     "metadata": {},
     "output_type": "display_data"
    }
   ],
   "source": [
    "fig1, (ax1, ax2) = plt.subplots(1, 2, figsize=set_size(textwidth), gridspec_kw={'width_ratios': [7, 1], 'wspace': 0.05}, sharey=True)\n",
    "\n",
    "\n",
    "for i in range(MIN_TRIAL, MAX_TRIAL+1):\n",
    "#     if scenario_num == 4:\n",
    "#         color = scn_4_colors[float(design_dfs[4].loc[i, 'fraction_stubborn'])]\n",
    "#     ax1.plot(data[i, MIN_T:MAX_T+1, rv, INDEX_MEANS], marker='', color=color, linewidth=0.15, alpha=0.75)\n",
    "\n",
    "    ax1.plot(data[i, MIN_T:MAX_T+1, rv, INDEX_MEANS], marker='', color='grey', linewidth=0.15, alpha=0.75)\n",
    "#     ax1.plot(data[i, MIN_T:MAX_T+1, rv, INDEX_MEANS], marker='', color='grey', linewidth=0.1, alpha=1)\n",
    "\n",
    "#     break ###\n",
    "\n",
    "ax1.set_title(f'{response_variable_short_labels[rv]}, Scenario {scenario_num} - {scenario_labels[scenario_num]} ({data.shape[0]-1} trials)')\n",
    "ax1.set_xlabel('time step $t$', color='grey')\n",
    "\n",
    "# more decoration\n",
    "ax1.spines['bottom'].set_color('grey')\n",
    "ax1.spines['left'].set_color('grey')\n",
    "\n",
    "ax1.tick_params(axis='x', colors='grey')\n",
    "ax1.tick_params(axis='y', colors='grey')\n",
    "\n",
    "ax1.spines['bottom'].set_bounds(MIN_T, MAX_T)\n",
    "ax1.spines['left'].set_bounds(data[MIN_TRIAL:, MIN_T:MAX_T+1, rv, INDEX_MEANS].min(), \n",
    "                              data[MIN_TRIAL:, MIN_T:MAX_T+1, rv, INDEX_MEANS].max())\n",
    "\n",
    "\n",
    "# in subplot 2, add KDE for final timestep data\n",
    "\n",
    "# manually computing KDE so I can add it to a subplot\n",
    "# from https://stackoverflow.com/a/4152016/5437547\n",
    "from scipy.stats import gaussian_kde\n",
    "\n",
    "density = gaussian_kde(data[MIN_TRIAL:, MAX_T, rv, INDEX_MEANS].reshape(1, -1))\n",
    "xs = np.linspace(data[MIN_TRIAL:, MIN_T:MAX_T+1, rv, INDEX_MEANS].min(), \n",
    "                 data[MIN_TRIAL:, MIN_T:MAX_T+1, rv, INDEX_MEANS].max(), 200)\n",
    "density.covariance_factor = lambda : .15\n",
    "density._compute_covariance()\n",
    "density_xs = density(xs)\n",
    "\n",
    "ax2.plot(density_xs, xs, marker='', linewidth=0.75)\n",
    "\n",
    "ax2.set_xlabel(f'KDE at\\n$t={MAX_T}$', color='grey')\n",
    "\n",
    "# more decoration\n",
    "ax2.spines['bottom'].set_color('grey')\n",
    "ax2.spines['left'].set_color('grey')\n",
    "# ax2.spines['left'].set_visible(False)\n",
    "ax2.get_yaxis().set_visible(False)\n",
    "\n",
    "ax2.tick_params(axis='x', colors='None')\n",
    "\n",
    "ax2.spines['left'].set_bounds(data[MIN_TRIAL:, MIN_T:MAX_T+1, rv, INDEX_MEANS].min(), \n",
    "                              data[MIN_TRIAL:, MIN_T:MAX_T+1, rv, INDEX_MEANS].max())\n",
    "ax2.spines['bottom'].set_bounds(density_xs.min(), density_xs.max())\n",
    "\n",
    "# want to make y-axis consistent across multiple plots, sometimes\n",
    "ybound = ax1.get_ybound()\n"
   ]
  },
  {
   "cell_type": "code",
   "execution_count": null,
   "metadata": {},
   "outputs": [],
   "source": []
  },
  {
   "cell_type": "code",
   "execution_count": 353,
   "metadata": {},
   "outputs": [],
   "source": [
    "fig1.savefig(f'all_trials_line_plot_with_kde_rv_{rv}.pdf', format='pdf', bbox_inches='tight')"
   ]
  },
  {
   "cell_type": "code",
   "execution_count": 10,
   "metadata": {
    "scrolled": true
   },
   "outputs": [],
   "source": [
    "# sns.distplot(data[MIN_TRIAL:, -1:, rv, INDEX_MEANS].reshape(-1, 1));  # distribution of data at final time"
   ]
  },
  {
   "cell_type": "markdown",
   "metadata": {},
   "source": [
    "# RQ 1 - DoE/ANOVA"
   ]
  },
  {
   "cell_type": "code",
   "execution_count": 103,
   "metadata": {},
   "outputs": [],
   "source": [
    "# copied from code/experimental_design.py, edited to make population_size levels into strings\n",
    "\n",
    "\n",
    "factors = dict(\n",
    "    network_structure_model=[\n",
    "        'erdos_renyi_random(N)',\n",
    "        'small_world(N, 0.0, 3)',\n",
    "        'small_world(N, 0.0, 10)',\n",
    "        'small_world(N, 0.66, 3)',\n",
    "        'small_world(N, 0.66, 10)',\n",
    "        'scale_free(N, 1)',\n",
    "        'scale_free(N, 5)',\n",
    "    ],\n",
    "    influence_model=[\n",
    "        'standard_model',\n",
    "        'similarity_bias',\n",
    "        'attractive_repulsive',\n",
    "        'random_adoption',\n",
    "    ],\n",
    "    influence_error_distribution=[\n",
    "        'none',\n",
    "        'N(0, 0.05)',\n",
    "        'N(0, 0.1)',\n",
    "    ],\n",
    "    agent_activation_regime=[\n",
    "        'synchronous',\n",
    "        'random',\n",
    "    ],\n",
    ")\n",
    "\n",
    "\n",
    "#### need to add scenario-specific factors"
   ]
  },
  {
   "cell_type": "code",
   "execution_count": 104,
   "metadata": {},
   "outputs": [],
   "source": [
    "def split_dataframe_on_factor_into_levels(df, factor, col=None):\n",
    "    \"\"\"Helper function to return X separate data frames or columns by splitting a factor into its levels.\"\"\"\n",
    "    levels = df[factor].unique()\n",
    "    \n",
    "    if col:\n",
    "        frames = (df[col][df[factor] == level] for level in levels)\n",
    "    else:\n",
    "        frames = (df[df[factor] == level] for level in levels)\n",
    "    return frames"
   ]
  },
  {
   "cell_type": "code",
   "execution_count": null,
   "metadata": {},
   "outputs": [],
   "source": []
  },
  {
   "cell_type": "code",
   "execution_count": 105,
   "metadata": {},
   "outputs": [],
   "source": [
    "design_df = pd.read_csv(f'../code/{scenario_designs[scenario_num]}', index_col=0, dtype=str)\n"
   ]
  },
  {
   "cell_type": "code",
   "execution_count": 106,
   "metadata": {},
   "outputs": [],
   "source": [
    "MAX_T = 490"
   ]
  },
  {
   "cell_type": "code",
   "execution_count": 107,
   "metadata": {},
   "outputs": [],
   "source": [
    "rv = 0"
   ]
  },
  {
   "cell_type": "code",
   "execution_count": 108,
   "metadata": {},
   "outputs": [
    {
     "data": {
      "text/html": [
       "<div>\n",
       "<style scoped>\n",
       "    .dataframe tbody tr th:only-of-type {\n",
       "        vertical-align: middle;\n",
       "    }\n",
       "\n",
       "    .dataframe tbody tr th {\n",
       "        vertical-align: top;\n",
       "    }\n",
       "\n",
       "    .dataframe thead th {\n",
       "        text-align: right;\n",
       "    }\n",
       "</style>\n",
       "<table border=\"1\" class=\"dataframe\">\n",
       "  <thead>\n",
       "    <tr style=\"text-align: right;\">\n",
       "      <th></th>\n",
       "      <th>agent_activation_regime</th>\n",
       "      <th>fraction_concord</th>\n",
       "      <th>fraction_left</th>\n",
       "      <th>influence_error_distribution</th>\n",
       "      <th>influence_model</th>\n",
       "      <th>network_structure_model</th>\n",
       "      <th>population_size</th>\n",
       "      <th>0</th>\n",
       "      <th>1</th>\n",
       "      <th>2</th>\n",
       "      <th>...</th>\n",
       "      <th>481</th>\n",
       "      <th>482</th>\n",
       "      <th>483</th>\n",
       "      <th>484</th>\n",
       "      <th>485</th>\n",
       "      <th>486</th>\n",
       "      <th>487</th>\n",
       "      <th>488</th>\n",
       "      <th>489</th>\n",
       "      <th>490</th>\n",
       "    </tr>\n",
       "  </thead>\n",
       "  <tbody>\n",
       "    <tr>\n",
       "      <th>1</th>\n",
       "      <td>synchronous</td>\n",
       "      <td>0.25</td>\n",
       "      <td>0.0</td>\n",
       "      <td>none</td>\n",
       "      <td>standard_model</td>\n",
       "      <td>erdos_renyi_random(N)</td>\n",
       "      <td>1000</td>\n",
       "      <td>5.672425</td>\n",
       "      <td>4.846015</td>\n",
       "      <td>4.387096</td>\n",
       "      <td>...</td>\n",
       "      <td>4.580001</td>\n",
       "      <td>4.579590</td>\n",
       "      <td>4.579180</td>\n",
       "      <td>4.578774</td>\n",
       "      <td>4.578359</td>\n",
       "      <td>4.577942</td>\n",
       "      <td>4.577525</td>\n",
       "      <td>4.577121</td>\n",
       "      <td>4.576713</td>\n",
       "      <td>4.576297</td>\n",
       "    </tr>\n",
       "    <tr>\n",
       "      <th>2</th>\n",
       "      <td>synchronous</td>\n",
       "      <td>0.25</td>\n",
       "      <td>0.0</td>\n",
       "      <td>none</td>\n",
       "      <td>standard_model</td>\n",
       "      <td>small_world(N, 0.0, 3)</td>\n",
       "      <td>1000</td>\n",
       "      <td>5.672425</td>\n",
       "      <td>4.936355</td>\n",
       "      <td>4.572626</td>\n",
       "      <td>...</td>\n",
       "      <td>4.920640</td>\n",
       "      <td>4.921051</td>\n",
       "      <td>4.921457</td>\n",
       "      <td>4.921861</td>\n",
       "      <td>4.922262</td>\n",
       "      <td>4.922666</td>\n",
       "      <td>4.923072</td>\n",
       "      <td>4.923479</td>\n",
       "      <td>4.923883</td>\n",
       "      <td>4.924288</td>\n",
       "    </tr>\n",
       "    <tr>\n",
       "      <th>3</th>\n",
       "      <td>synchronous</td>\n",
       "      <td>0.25</td>\n",
       "      <td>0.0</td>\n",
       "      <td>none</td>\n",
       "      <td>standard_model</td>\n",
       "      <td>small_world(N, 0.0, 10)</td>\n",
       "      <td>1000</td>\n",
       "      <td>5.672425</td>\n",
       "      <td>4.846885</td>\n",
       "      <td>4.389915</td>\n",
       "      <td>...</td>\n",
       "      <td>4.833540</td>\n",
       "      <td>4.833969</td>\n",
       "      <td>4.834399</td>\n",
       "      <td>4.834826</td>\n",
       "      <td>4.835256</td>\n",
       "      <td>4.835684</td>\n",
       "      <td>4.836114</td>\n",
       "      <td>4.836541</td>\n",
       "      <td>4.836965</td>\n",
       "      <td>4.837383</td>\n",
       "    </tr>\n",
       "    <tr>\n",
       "      <th>4</th>\n",
       "      <td>synchronous</td>\n",
       "      <td>0.25</td>\n",
       "      <td>0.0</td>\n",
       "      <td>none</td>\n",
       "      <td>standard_model</td>\n",
       "      <td>small_world(N, 0.66, 3)</td>\n",
       "      <td>1000</td>\n",
       "      <td>5.672425</td>\n",
       "      <td>4.982305</td>\n",
       "      <td>4.637226</td>\n",
       "      <td>...</td>\n",
       "      <td>4.589549</td>\n",
       "      <td>4.589844</td>\n",
       "      <td>4.590136</td>\n",
       "      <td>4.590422</td>\n",
       "      <td>4.590703</td>\n",
       "      <td>4.590982</td>\n",
       "      <td>4.591256</td>\n",
       "      <td>4.591531</td>\n",
       "      <td>4.591806</td>\n",
       "      <td>4.592082</td>\n",
       "    </tr>\n",
       "    <tr>\n",
       "      <th>5</th>\n",
       "      <td>synchronous</td>\n",
       "      <td>0.25</td>\n",
       "      <td>0.0</td>\n",
       "      <td>none</td>\n",
       "      <td>standard_model</td>\n",
       "      <td>small_world(N, 0.66, 10)</td>\n",
       "      <td>1000</td>\n",
       "      <td>5.672425</td>\n",
       "      <td>4.847155</td>\n",
       "      <td>4.391644</td>\n",
       "      <td>...</td>\n",
       "      <td>5.222684</td>\n",
       "      <td>5.222987</td>\n",
       "      <td>5.223287</td>\n",
       "      <td>5.223587</td>\n",
       "      <td>5.223889</td>\n",
       "      <td>5.224189</td>\n",
       "      <td>5.224488</td>\n",
       "      <td>5.224792</td>\n",
       "      <td>5.225092</td>\n",
       "      <td>5.225392</td>\n",
       "    </tr>\n",
       "  </tbody>\n",
       "</table>\n",
       "<p>5 rows × 498 columns</p>\n",
       "</div>"
      ],
      "text/plain": [
       "  agent_activation_regime fraction_concord fraction_left  \\\n",
       "1             synchronous             0.25           0.0   \n",
       "2             synchronous             0.25           0.0   \n",
       "3             synchronous             0.25           0.0   \n",
       "4             synchronous             0.25           0.0   \n",
       "5             synchronous             0.25           0.0   \n",
       "\n",
       "  influence_error_distribution influence_model   network_structure_model  \\\n",
       "1                         none  standard_model     erdos_renyi_random(N)   \n",
       "2                         none  standard_model    small_world(N, 0.0, 3)   \n",
       "3                         none  standard_model   small_world(N, 0.0, 10)   \n",
       "4                         none  standard_model   small_world(N, 0.66, 3)   \n",
       "5                         none  standard_model  small_world(N, 0.66, 10)   \n",
       "\n",
       "  population_size         0         1         2  ...       481       482  \\\n",
       "1            1000  5.672425  4.846015  4.387096  ...  4.580001  4.579590   \n",
       "2            1000  5.672425  4.936355  4.572626  ...  4.920640  4.921051   \n",
       "3            1000  5.672425  4.846885  4.389915  ...  4.833540  4.833969   \n",
       "4            1000  5.672425  4.982305  4.637226  ...  4.589549  4.589844   \n",
       "5            1000  5.672425  4.847155  4.391644  ...  5.222684  5.222987   \n",
       "\n",
       "        483       484       485       486       487       488       489  \\\n",
       "1  4.579180  4.578774  4.578359  4.577942  4.577525  4.577121  4.576713   \n",
       "2  4.921457  4.921861  4.922262  4.922666  4.923072  4.923479  4.923883   \n",
       "3  4.834399  4.834826  4.835256  4.835684  4.836114  4.836541  4.836965   \n",
       "4  4.590136  4.590422  4.590703  4.590982  4.591256  4.591531  4.591806   \n",
       "5  5.223287  5.223587  5.223889  5.224189  5.224488  5.224792  5.225092   \n",
       "\n",
       "        490  \n",
       "1  4.576297  \n",
       "2  4.924288  \n",
       "3  4.837383  \n",
       "4  4.592082  \n",
       "5  5.225392  \n",
       "\n",
       "[5 rows x 498 columns]"
      ]
     },
     "execution_count": 108,
     "metadata": {},
     "output_type": "execute_result"
    }
   ],
   "source": [
    "df = pd.DataFrame(data[MIN_TRIAL:, MIN_T:MAX_T+1, rv, INDEX_MEANS])  # |TRIALS| x t_max\n",
    "df.index = design_df.index\n",
    "\n",
    "ddff = design_df.join(df)\n",
    "ddff.head()"
   ]
  },
  {
   "cell_type": "code",
   "execution_count": 109,
   "metadata": {},
   "outputs": [],
   "source": [
    "# ANOVA on the final ($t = 500$) data for single r.v.\n",
    "# (this dataframe is handy for things other than ANOVA, so it's created up here)\n",
    "anova_df = design_df.copy()\n",
    "anova_df['response'] = data[MIN_TRIAL:, MAX_T, rv, INDEX_MEANS]"
   ]
  },
  {
   "cell_type": "code",
   "execution_count": null,
   "metadata": {},
   "outputs": [],
   "source": []
  },
  {
   "cell_type": "code",
   "execution_count": 110,
   "metadata": {},
   "outputs": [],
   "source": [
    "# DoE mean plot - data collection\n",
    "\n",
    "label_map = dict(  # decorative strings for graphs\n",
    "    agent_activation_regime='activation',\n",
    "    influence_error_distribution='error',\n",
    "    influence_model='influence model',\n",
    "    network_structure_model='structure',\n",
    "    population_size='$N$',\n",
    ")\n",
    "\n",
    "\n",
    "# means = []  # mean value for each factor-level\n",
    "# stdevs = []\n",
    "# for factor, levels in factors.items():\n",
    "#     group_means = ddff.groupby(factor).mean()[MAX_T]\n",
    "#     group_stdevs = ddff.groupby(factor).std()[MAX_T]\n",
    "#     for level in levels:\n",
    "#         means.append(group_means[level])\n",
    "#         stdevs.append(group_stdevs[level])\n"
   ]
  },
  {
   "cell_type": "code",
   "execution_count": 111,
   "metadata": {},
   "outputs": [],
   "source": [
    "# remove label overlap\n",
    "\n",
    "# other resources\n",
    "# https://stackoverflow.com/questions/8850142/matplotlib-overlapping-annotations\n",
    "# https://matplotlib.org/users/transforms_tutorial.html\n",
    "\n",
    "def fix_vertical_text_placement(labels, fig, ax, maxy):\n",
    "    # modified from\n",
    "    # https://medium.com/@adarshlilha/removing-label-overlapping-from-pretty-charts-8dd2e3581b71\n",
    "    \n",
    "    # pixel coordinates\n",
    "    extents = [lab.get_window_extent(renderer=fig.canvas.get_renderer()) for lab in labels]\n",
    "    anchors = [0.5*(extent.y0 + extent.y1) for extent in extents]  # vert.align centers\n",
    "\n",
    "    cur_y_vals = anchors.copy()\n",
    "\n",
    "    half_height = labels[0].get_size() / 2\n",
    "\n",
    "    # S.A. params\n",
    "    weight_overlap = 100\n",
    "    weight_dist = 8\n",
    "    max_move = half_height\n",
    "    \n",
    "    min_y = 0\n",
    "    max_y = ax.transData.transform((0, maxy))[1]  #maxy given in data coords\n",
    "    \n",
    "    def energy(index):\n",
    "        ener = 0\n",
    "\n",
    "        # L1 norm\n",
    "        dist = abs(cur_y_vals[index] - anchors[index])\n",
    "        if dist > 0:\n",
    "            ener += dist * dist * weight_dist  # making non-linear function to favor a balanced distance for label pairs\n",
    "\n",
    "        y_index_top = cur_y_vals[index] + half_height\n",
    "        y_index_bot = cur_y_vals[index] - half_height\n",
    "        \n",
    "        for i, extent in enumerate(extents):\n",
    "            if i == index:  continue\n",
    "\n",
    "            y_i_top = cur_y_vals[i] + half_height\n",
    "            y_i_bot = cur_y_vals[i] - half_height\n",
    "\n",
    "            y_overlap = max(0, min(y_index_top, y_i_top) - max(y_index_bot, y_i_bot))\n",
    "            ener += y_overlap * weight_overlap\n",
    "\n",
    "        return ener\n",
    "    \n",
    "    nsweeps = 2000\n",
    "    \n",
    "    # run loop\n",
    "    currTemp = 1.0\n",
    "    initialTemp = 1.0\n",
    "    rej = 0\n",
    "    \n",
    "    for _ in range(nsweeps):\n",
    "        for lab in labels:\n",
    "            i = np.random.randint(0, len(labels))  # randomly select label index\n",
    "\n",
    "            y_old = cur_y_vals[i]\n",
    "            old_energy = energy(i)\n",
    "\n",
    "            cur_y_vals[i] += (np.random.random() - 0.5) * max_move\n",
    "\n",
    "            if cur_y_vals[i] < min_y or cur_y_vals[i] > max_y:\n",
    "                # new move out of bounds\n",
    "                cur_y_vals[i] = y_old\n",
    "                delta_energy = 0\n",
    "            else:\n",
    "                new_energy = energy(i)\n",
    "                delta_energy = new_energy - old_energy\n",
    "                \n",
    "            # randomly accept or reject new move\n",
    "            if np.random.random() < np.exp(-delta_energy / currTemp):\n",
    "                pass\n",
    "            else:\n",
    "                # reject move\n",
    "                cur_y_vals[i] = y_old\n",
    "                rej += 1\n",
    "            \n",
    "        currTemp = currTemp - (initialTemp / nsweeps)\n",
    "\n",
    "    # apply new positions\n",
    "    inv = ax.transData.inverted()\n",
    "    for label, new_y in zip(labels, cur_y_vals):\n",
    "        label.set_y(inv.transform((0, new_y))[1])"
   ]
  },
  {
   "cell_type": "code",
   "execution_count": 137,
   "metadata": {
    "scrolled": false
   },
   "outputs": [
    {
     "name": "stdout",
     "output_type": "stream",
     "text": [
      "Scenario 4 [[ 1.         -0.12152953 -0.39740928]\n",
      " [-0.12152953  1.          0.95200405]\n",
      " [-0.39740928  0.95200405  1.        ]]\n"
     ]
    },
    {
     "data": {
      "image/png": "[encoded data removed]",
      "text/plain": [
       "<Figure size 388.543x240.133 with 1 Axes>"
      ]
     },
     "metadata": {
      "needs_background": "dark"
     },
     "output_type": "display_data"
    }
   ],
   "source": [
    "# time-series line plot, single RV, single design factor, grouped by level + level median line + 25-75 percentile shading\n",
    "\n",
    "def make_median_entropy_plot(rv_num):  # NOT actually the rv_num, but the factor num\n",
    "    factor = list(factors.keys())[rv_num]  # just doing single factor for now\n",
    "\n",
    "    fig1, ax1 = plt.subplots(1, 1, figsize=set_size(textwidth))\n",
    "\n",
    "    levels = factors[factor]\n",
    "    \n",
    "    return _make_median_entropy_plot(factor, levels, fig1, ax1)\n",
    "\n",
    "    \n",
    "def _make_median_entropy_plot(factor, levels, fig1, ax1):\n",
    "    \n",
    "    minval, maxval = 100, -100  # for setting vertical range frame\n",
    "    linelabels = []\n",
    "\n",
    "    lower_quantile, upper_quantile = .25, .75\n",
    "    \n",
    "    medians = dict()\n",
    "\n",
    "    for level in levels:\n",
    "        level_data = df.loc[design_df[factor] == level]\n",
    "#         level_data = df.loc[design_df[factor] == level].filter(items=trial_nums_from_full_design_present_in_nonh_core)\n",
    "        level_median = level_data.median()\n",
    "        level_lower_quantile = level_data.quantile(lower_quantile)\n",
    "        level_upper_quantile = level_data.quantile(upper_quantile)\n",
    "\n",
    "        ax1.plot(level_median, marker='',  linewidth=0.75)\n",
    "        linelabels.append(ax1.annotate(level.replace('_', '\\_'), (level_median.index[-1]+1.5, level_median.iloc[-1]), \n",
    "                                       fontsize=8, ha='left', va='center', annotation_clip=False, color='black'))\n",
    "\n",
    "        ax1.fill_between(level_median.index, level_lower_quantile, level_upper_quantile, alpha=0.025)\n",
    "\n",
    "        # update extrema for vertical range frame\n",
    "        minval = min(minval, level_median.min())\n",
    "        maxval = max(maxval, level_median.max())\n",
    "        \n",
    "        medians[level] = level_median\n",
    "\n",
    "    ax1.set_title(f'median {response_variable_labels[rv]}, Scenario {scenario_num}, grouped by {label_map.get(factor, factor.replace(\"_\", \" \"))}')\n",
    "    ax1.set_xlabel('time step $t$', color='grey')\n",
    "\n",
    "    # more decoration\n",
    "    ax1.spines['bottom'].set_color('grey')\n",
    "    ax1.spines['left'].set_color('grey')\n",
    "\n",
    "    ax1.tick_params(axis='x', colors='grey')\n",
    "    ax1.tick_params(axis='y', colors='grey')\n",
    "\n",
    "    ax1.spines['bottom'].set_bounds(MIN_T, MAX_T)\n",
    "    ax1.spines['left'].set_bounds(minval, maxval)\n",
    "\n",
    "    \n",
    "    fix_vertical_text_placement(linelabels, fig1, ax1, maxval)\n",
    "\n",
    "#     fig1.savefig(f'grouped_time_series_scenario_{scenario_num}_{factor}_rv_{rv}.pdf', format='pdf', bbox_inches='tight')\n",
    "\n",
    "    return medians\n",
    "    \n",
    "# for i in range(5):\n",
    "#     make_median_entropy_plot(i)\n",
    "\n",
    "\n",
    "medians = make_median_entropy_plot(2)\n",
    "\n",
    "# fig1, ax1 = plt.subplots(1, 1, figsize=set_size(textwidth))\n",
    "# _make_median_entropy_plot('fraction_uninformed', [str(x) for x in [0.25, 0.33, 0.50, 0.66, 0.75]], fig1, ax1)\n",
    "# _make_median_entropy_plot('fraction_stubborn', [str(x) for x in [0.05, 0.15, 0.33, 0.50]], fig1, ax1)\n",
    "                  \n",
    "                  \n",
    "                  \n",
    "# fig1, (ax1, ax2) = plt.subplots(2, 1, figsize=set_size(textwidth, subplot=[2, 1]), sharey=True, sharex=True)                  \n",
    "# _make_median_entropy_plot('fraction_concord', [str(x) for x in [0.25, 0.50, 0.75]], fig1, ax1)\n",
    "# medians = _make_median_entropy_plot('fraction_left', [str(x) for x in [0.00, 0.25, 0.50]], fig1, ax2) \n",
    "                  \n",
    "print(f'Scenario {i}', np.corrcoef(list(medians.values())))\n",
    "# agent_activation_regime\tfraction_concord\tfraction_left\tinfluence_error_distribution\tinfluence_model\tnetwork_structure_model\tpopulation_size"
   ]
  },
  {
   "cell_type": "code",
   "execution_count": 637,
   "metadata": {},
   "outputs": [],
   "source": [
    "fig1.savefig(f'grouped_time_series_scenario_{scenario_num}_{factor}_rv_{rv}.pdf', format='pdf', bbox_inches='tight')"
   ]
  },
  {
   "cell_type": "code",
   "execution_count": null,
   "metadata": {},
   "outputs": [],
   "source": []
  },
  {
   "cell_type": "code",
   "execution_count": 27,
   "metadata": {},
   "outputs": [],
   "source": [
    "legend2 = {'population_size': {'100': 'a', '1000': 'b', '10000': 'c'},\n",
    "             'network_structure_model': {'erdos_renyi_random(N)': 'a',\n",
    "              'small_world(N, 0.0, 3)': 'b',\n",
    "              'small_world(N, 0.0, 10)': 'c',\n",
    "              'small_world(N, 0.33, 3)': 'd',\n",
    "              'small_world(N, 0.33, 10)': 'e',\n",
    "              'small_world(N, 0.66, 3)': 'f',\n",
    "              'small_world(N, 0.66, 10)': 'g',\n",
    "              'scale_free(N, 1)': 'h',\n",
    "              'scale_free(N, 3)': 'i',\n",
    "              'scale_free(N, 5)': 'j'},\n",
    "             'influence_model': {'standard_model': 'a',\n",
    "              'similarity_bias': 'b',\n",
    "              'attractive_repulsive': 'c',\n",
    "              'random_adoption': 'd',\n",
    "              'nonlinear': 'e'},\n",
    "             'influence_error_distribution': {'none': 'a',\n",
    "              'N(0, 0.05)': 'b',\n",
    "              'N(0, 0.1)': 'c',\n",
    "              'N(0, 0.2)': 'd'},\n",
    "             'agent_activation_regime': {'synchronous': 'a',\n",
    "              'uniform': 'b',\n",
    "              'random': 'c'}}"
   ]
  },
  {
   "cell_type": "code",
   "execution_count": 28,
   "metadata": {},
   "outputs": [],
   "source": [
    "# prepare plot data\n",
    "import string\n",
    "string.ascii_lowercase\n",
    "\n",
    "cur_x = factor_start = factor_end = 0\n",
    "xticks = []\n",
    "xlabels = []\n",
    "factor_name_xs = []\n",
    "legend = []\n",
    "\n",
    "for i, (factor, factor_levels) in enumerate(factors.items()):\n",
    "    cur_x += 1  # add horizontal space before factor\n",
    "    factor_start = cur_x\n",
    "    \n",
    "    for l, lvl in enumerate(factor_levels):\n",
    "        xticks.append(cur_x)\n",
    "        xlabels.append(legend2[factor][lvl])\n",
    "        cur_x += 1\n",
    "\n",
    "        legend.append( (factor, lvl, legend2[factor][lvl]))\n",
    "                \n",
    "#         # add some gaps between dissimilar models\n",
    "        if factor == 'network_structure_model':\n",
    "            if l in [0, 4]:\n",
    "                cur_x += 0.6\n",
    "                \n",
    "        \n",
    "    factor_end = cur_x\n",
    "    factor_name_xs.append((label_map[factor], 0.5*(factor_end-1 + factor_start)))\n",
    "    \n",
    "    cur_x += 1  # add horizontal space after factor\n",
    "    \n",
    "# xticks, xlabels, \n",
    "# factor_name_xs, legend"
   ]
  },
  {
   "cell_type": "code",
   "execution_count": 29,
   "metadata": {
    "scrolled": true
   },
   "outputs": [],
   "source": [
    "# legend  ####### have to make this match base case"
   ]
  },
  {
   "cell_type": "code",
   "execution_count": 30,
   "metadata": {},
   "outputs": [
    {
     "name": "stderr",
     "output_type": "stream",
     "text": [
      "C:\\Users\\Mike\\Anaconda3\\lib\\site-packages\\matplotlib\\font_manager.py:1241: UserWarning: findfont: Font family ['serif'] not found. Falling back to DejaVu Sans.\n",
      "  (prop.get_family(), self.defaultFamily[fontext]))\n"
     ]
    },
    {
     "data": {
      "image/png": "[encoded data removed]",
      "text/plain": [
       "<Figure size 388.543x240.133 with 1 Axes>"
      ]
     },
     "metadata": {
      "needs_background": "dark"
     },
     "output_type": "display_data"
    }
   ],
   "source": [
    "# DoE violin plot\n",
    "\n",
    "fig1, ax1 = plt.subplots(1, 1, figsize=set_size(textwidth))\n",
    "\n",
    "# assemble x tick labels\n",
    "ax1.set_xticks(xticks)\n",
    "ax1.set_xticklabels(xlabels)\n",
    "\n",
    "grand_median = df.median().iloc[-1]\n",
    "# grand_stdev = df.std().iloc[-1]\n",
    "ax1.axhline(y=grand_median, color='goldenrod', linewidth=0.15, linestyle='-', zorder=0)\n",
    "ax1.annotate('grand\\nmedian', (xticks[-1]+2.5, grand_median), ha='left', va='center', annotation_clip=False, color='grey')\n",
    "\n",
    "last_offset = 0\n",
    "for i, (factor, levels) in enumerate(factors.items()):\n",
    "    num_levels = len(levels)\n",
    "    x = xticks[last_offset:last_offset+num_levels]\n",
    "#     y = means[last_offset:last_offset+num_levels]\n",
    " \n",
    "    groups = list(split_dataframe_on_factor_into_levels(anova_df, factor, col='response'))\n",
    "\n",
    "#  Axes.violinplot(self, dataset, positions=None, vert=True, widths=0.5, \n",
    "# showmeans=False, showextrema=True, showmedians=False, points=100, bw_method=None, *, data=None)\n",
    "    try:\n",
    "        v1 = ax1.violinplot(groups, positions=x, widths=1.0, showmeans=False, showmedians=True, showextrema=False)\n",
    "    except ValueError:\n",
    "        last_offset += num_levels\n",
    "        continue\n",
    "    \n",
    "    last_offset += num_levels\n",
    "    \n",
    "    # make single-sided & adjust color\n",
    "    for b in v1['bodies']:\n",
    "        m = np.mean(b.get_paths()[0].vertices[:, 0])\n",
    "        b.get_paths()[0].vertices[:, 0] = np.clip(b.get_paths()[0].vertices[:, 0], m, np.inf)\n",
    "        b.set_facecolor('whitesmoke')\n",
    "        b.set_edgecolor('grey')\n",
    "        b.set_linewidth(0.20)\n",
    "        b.set_alpha(1)\n",
    "\n",
    "    v1['cmedians'].set_color('goldenrod')\n",
    "    v1['cmedians'].set_linewidth(1.25)\n",
    "\n",
    "        \n",
    "# label factor names\n",
    "y = ax1.get_ybound()[0]\n",
    "for label, x in factor_name_xs:\n",
    "    ax1.annotate(label.replace(' ', '\\n'), (x, y), \n",
    "                 fontsize=10,\n",
    "                 textcoords=\"offset points\", # how to position the text\n",
    "                 xytext=(0,-18), # distance from text to points (x,y)\n",
    "                 ha='center', va='top', annotation_clip=False)\n",
    "    \n",
    "ax1.set_title(f'DoE main effect plot for\\n{response_variable_labels[rv]}, Scenario {scenario_num}, $t = {MAX_T}$')\n",
    "\n",
    "# more decoration\n",
    "ax1.spines['bottom'].set_color('grey')\n",
    "ax1.spines['left'].set_color('grey')\n",
    "\n",
    "ax1.tick_params(axis='x', colors='grey')\n",
    "ax1.tick_params(axis='y', colors='grey')\n",
    "\n",
    "ax1.spines['bottom'].set_bounds(xticks[0]-1, xticks[-1]+1)\n",
    "ax1.spines['left'].set_bounds(anova_df['response'].min(), anova_df['response'].max())\n",
    "\n",
    "# ax1.set_ylim(ybound);\n"
   ]
  },
  {
   "cell_type": "code",
   "execution_count": 19,
   "metadata": {},
   "outputs": [],
   "source": [
    "fig1.savefig(f'doe_violin_plot_rv_{rv}.pdf', format='pdf', bbox_inches='tight')"
   ]
  },
  {
   "cell_type": "code",
   "execution_count": null,
   "metadata": {},
   "outputs": [],
   "source": []
  },
  {
   "cell_type": "code",
   "execution_count": null,
   "metadata": {},
   "outputs": [],
   "source": []
  },
  {
   "cell_type": "code",
   "execution_count": 30,
   "metadata": {},
   "outputs": [
    {
     "data": {
      "text/html": [
       "<div>\n",
       "<style scoped>\n",
       "    .dataframe tbody tr th:only-of-type {\n",
       "        vertical-align: middle;\n",
       "    }\n",
       "\n",
       "    .dataframe tbody tr th {\n",
       "        vertical-align: top;\n",
       "    }\n",
       "\n",
       "    .dataframe thead th {\n",
       "        text-align: right;\n",
       "    }\n",
       "</style>\n",
       "<table border=\"1\" class=\"dataframe\">\n",
       "  <thead>\n",
       "    <tr style=\"text-align: right;\">\n",
       "      <th></th>\n",
       "      <th>agent_activation_regime</th>\n",
       "      <th>influence_error_distribution</th>\n",
       "      <th>influence_model</th>\n",
       "      <th>network_structure_model</th>\n",
       "      <th>population_size</th>\n",
       "    </tr>\n",
       "  </thead>\n",
       "  <tbody>\n",
       "    <tr>\n",
       "      <th>1</th>\n",
       "      <td>synchronous</td>\n",
       "      <td>none</td>\n",
       "      <td>standard_model</td>\n",
       "      <td>erdos_renyi_random(N)</td>\n",
       "      <td>100</td>\n",
       "    </tr>\n",
       "    <tr>\n",
       "      <th>2</th>\n",
       "      <td>synchronous</td>\n",
       "      <td>none</td>\n",
       "      <td>standard_model</td>\n",
       "      <td>erdos_renyi_random(N)</td>\n",
       "      <td>1000</td>\n",
       "    </tr>\n",
       "    <tr>\n",
       "      <th>3</th>\n",
       "      <td>synchronous</td>\n",
       "      <td>none</td>\n",
       "      <td>standard_model</td>\n",
       "      <td>erdos_renyi_random(N)</td>\n",
       "      <td>10000</td>\n",
       "    </tr>\n",
       "    <tr>\n",
       "      <th>4</th>\n",
       "      <td>synchronous</td>\n",
       "      <td>none</td>\n",
       "      <td>standard_model</td>\n",
       "      <td>small_world(N, 0.0, 3)</td>\n",
       "      <td>100</td>\n",
       "    </tr>\n",
       "    <tr>\n",
       "      <th>5</th>\n",
       "      <td>synchronous</td>\n",
       "      <td>none</td>\n",
       "      <td>standard_model</td>\n",
       "      <td>small_world(N, 0.0, 3)</td>\n",
       "      <td>1000</td>\n",
       "    </tr>\n",
       "  </tbody>\n",
       "</table>\n",
       "</div>"
      ],
      "text/plain": [
       "  agent_activation_regime influence_error_distribution influence_model  \\\n",
       "1             synchronous                         none  standard_model   \n",
       "2             synchronous                         none  standard_model   \n",
       "3             synchronous                         none  standard_model   \n",
       "4             synchronous                         none  standard_model   \n",
       "5             synchronous                         none  standard_model   \n",
       "\n",
       "  network_structure_model population_size  \n",
       "1   erdos_renyi_random(N)             100  \n",
       "2   erdos_renyi_random(N)            1000  \n",
       "3   erdos_renyi_random(N)           10000  \n",
       "4  small_world(N, 0.0, 3)             100  \n",
       "5  small_world(N, 0.0, 3)            1000  "
      ]
     },
     "execution_count": 30,
     "metadata": {},
     "output_type": "execute_result"
    }
   ],
   "source": [
    "design_df.head()"
   ]
  },
  {
   "cell_type": "markdown",
   "metadata": {},
   "source": [
    "### ANOVA/statistical comparison"
   ]
  },
  {
   "cell_type": "code",
   "execution_count": null,
   "metadata": {},
   "outputs": [],
   "source": []
  },
  {
   "cell_type": "code",
   "execution_count": 32,
   "metadata": {
    "scrolled": true
   },
   "outputs": [
    {
     "name": "stdout",
     "output_type": "stream",
     "text": [
      "network_structure_model : LeveneResult(statistic=8.981409987158575, pvalue=1.5918689412120022e-09)\n",
      "influence_model : LeveneResult(statistic=53.77468444691, pvalue=8.693175290390104e-32)\n",
      "influence_error_distribution : LeveneResult(statistic=14.717518509432413, pvalue=5.224992190986092e-07)\n",
      "agent_activation_regime : LeveneResult(statistic=0.05031488699471939, pvalue=0.8225709278849055)\n"
     ]
    }
   ],
   "source": [
    "for factor in factors:\n",
    "    print(factor, \":\", stats.levene(*split_dataframe_on_factor_into_levels(anova_df, factor, col='response')))"
   ]
  },
  {
   "cell_type": "code",
   "execution_count": 35,
   "metadata": {
    "scrolled": true
   },
   "outputs": [
    {
     "name": "stdout",
     "output_type": "stream",
     "text": [
      "\\begin{tabular}{lrr}\n",
      "\\toprule\n",
      "{} &   test stat &        p-value \\\\\n",
      "\\midrule\n",
      "structure       &   13.706690 &   3.308983e-02 \\\\\n",
      "influence model &  243.647824 &   1.547534e-52 \\\\\n",
      "error           &  465.882829 &  6.836424e-102 \\\\\n",
      "activation      &    0.000809 &   9.773101e-01 \\\\\n",
      "\\bottomrule\n",
      "\\end{tabular}\n",
      "\n",
      "                  test stat        p-value\n",
      "structure         13.706690   3.308983e-02\n",
      "influence model  243.647824   1.547534e-52\n",
      "error            465.882829  6.836424e-102\n",
      "activation         0.000809   9.773101e-01\n"
     ]
    }
   ],
   "source": [
    "# make table for K-W test results\n",
    "kw_data = np.zeros((len(factors), 2))\n",
    "\n",
    "for i, factor in enumerate(factors.keys()):\n",
    "#     print(factor, \":\", stats.kruskal(*split_dataframe_on_factor_into_levels(anova_df, factor, col='response')))\n",
    "    kw_cur_result = stats.kruskal(*split_dataframe_on_factor_into_levels(anova_df, factor, col='response'))\n",
    "    kw_data[i, 0] = kw_cur_result.statistic\n",
    "    kw_data[i, 1] = kw_cur_result.pvalue\n",
    "    \n",
    "kw_results = pd.DataFrame(kw_data, [label_map[factor] for factor in factors], ['test stat', 'p-value'])\n",
    "print(kw_results.to_latex())\n",
    "print(kw_results)"
   ]
  },
  {
   "cell_type": "code",
   "execution_count": 33,
   "metadata": {},
   "outputs": [
    {
     "name": "stderr",
     "output_type": "stream",
     "text": [
      "C:\\Users\\Mike\\Anaconda3\\lib\\site-packages\\ipykernel_launcher.py:18: RuntimeWarning: invalid value encountered in less_equal\n",
      "C:\\Users\\Mike\\Anaconda3\\lib\\site-packages\\matplotlib\\font_manager.py:1241: UserWarning: findfont: Font family ['serif'] not found. Falling back to DejaVu Sans.\n",
      "  (prop.get_family(), self.defaultFamily[fontext]))\n"
     ]
    },
    {
     "data": {
      "image/png": "[encoded data removed]",
      "text/plain": [
       "<Figure size 388.543x360.199 with 6 Axes>"
      ]
     },
     "metadata": {
      "needs_background": "light"
     },
     "output_type": "display_data"
    }
   ],
   "source": [
    "from itertools import combinations\n",
    "\n",
    "from matplotlib import colors\n",
    "\n",
    "\n",
    "def make_mann_whitney_heatmap(factor, ax, significance_level=0.05):\n",
    "    # if the p-value is significant (< 0.05), we conclude the two groups are different\n",
    "    grouped_data = list(split_dataframe_on_factor_into_levels(anova_df, factor, col='response'))\n",
    "    levels = anova_df[factor].unique()\n",
    "    \n",
    "    pvals = np.full((levels.size, levels.size), np.nan)\n",
    "    for i, li in enumerate(levels):\n",
    "        for j, lj in enumerate(levels):\n",
    "            if i > j:\n",
    "                res = stats.mannwhitneyu(grouped_data[i], grouped_data[j])\n",
    "                pvals[i, j] = res[1]\n",
    "                \n",
    "    significant = (pvals <= significance_level)\n",
    "    significant[pvals == np.nan] = np.nan    \n",
    "    \n",
    "    cmap = colors.ListedColormap(['lightgrey', 'tab:purple'])\n",
    "    cmap.set_bad('white',1.)\n",
    "    bounds=[0,significance_level,1]\n",
    "    norm = colors.BoundaryNorm(bounds, cmap.N)\n",
    "        \n",
    "    masked_array = np.ma.array (significant, mask=np.isnan(pvals))\n",
    "    \n",
    "    # pcolormesh requires more +0.5'ing than imshow but avoids bug with minor grid alignment\n",
    "    ax.pcolormesh(masked_array, edgecolors='w', linewidth=0.5, cmap=cmap, vmin=0, vmax=1)\n",
    "    ax.set_aspect('equal')\n",
    "    ax.invert_yaxis()\n",
    "    \n",
    "    ax.set_title(label_map[factor].replace('_', ' '), size=8, y=0.91)\n",
    "\n",
    "    # We want to show all ticks...\n",
    "    ax.set_xticks(np.arange(levels.size)+0.5)\n",
    "    ax.set_yticks(np.arange(levels.size)+0.5)\n",
    "    \n",
    "    # ... and label them with the respective list entries\n",
    "    ax.set_xticklabels(string.ascii_lowercase[:levels.size])\n",
    "    ax.set_yticklabels(string.ascii_lowercase[:levels.size])\n",
    "\n",
    "    # hide spines\n",
    "    for edge, spine in ax.spines.items():\n",
    "        spine.set_visible(False)\n",
    "\n",
    "    # Loop over data dimensions and create text annotations.\n",
    "    for i, li in enumerate(levels):\n",
    "        for j, lj in enumerate(levels):\n",
    "            if significant[i, j]:\n",
    "                text = ax.text(j+0.5, i+0.5, f\"${int(pvals[i, j]*100)}^*$\",\n",
    "                               ha=\"center\", va=\"center\", color=\"w\", fontsize=4)\n",
    "\n",
    "    \n",
    "fig, axes = plt.subplots(3, 2, figsize=set_size(textwidth, subplot=[3, 2]))\n",
    "\n",
    "for factor, ax in zip(factors, axes.reshape(-1)):\n",
    "    make_mann_whitney_heatmap(factor, ax)\n",
    "#     break\n",
    "\n",
    "axes[-1, -1].axis('off')\n",
    "\n",
    "fig.suptitle(f'Mann-Whitney U test significance by factor\\non {response_variable_labels[rv]}', size=10, x=0.370);\n",
    "fig.tight_layout()\n",
    "fig.subplots_adjust(top=0.90, right=0.65)\n"
   ]
  },
  {
   "cell_type": "code",
   "execution_count": 29,
   "metadata": {
    "scrolled": false
   },
   "outputs": [],
   "source": [
    "fig.savefig(f'mann_whitney_rv_{rv}.pdf', format='pdf', bbox_inches='tight')"
   ]
  },
  {
   "cell_type": "markdown",
   "metadata": {},
   "source": [
    "## RQ 3"
   ]
  },
  {
   "cell_type": "code",
   "execution_count": 34,
   "metadata": {},
   "outputs": [
    {
     "name": "stdout",
     "output_type": "stream",
     "text": [
      "[[        nan         nan         nan         nan         nan         nan]\n",
      " [-0.96961229         nan         nan         nan         nan         nan]\n",
      " [-0.99087643  0.98666597         nan         nan         nan         nan]\n",
      " [ 0.89435808 -0.81977932 -0.84780946         nan         nan         nan]\n",
      " [-0.85468758  0.81151016  0.83134234 -0.96722149         nan         nan]\n",
      " [-0.92434768  0.83018788  0.86787068 -0.9655887   0.87633098         nan]] (841, 6, 6)\n"
     ]
    }
   ],
   "source": [
    "# for RQ 3, want to take correlation of each RV time series per trial, then look at distribution/take mean...\n",
    "\n",
    "\n",
    "trial_corrs = np.full((MAX_TRIAL+1, 6, 6), np.nan)\n",
    "\n",
    "for i in range(MIN_TRIAL, MAX_TRIAL+1):\n",
    "    for j in range(6):\n",
    "        for k in range(6):\n",
    "            if j > k:\n",
    "                trial_corrs[i, j, k] = np.corrcoef(data[i, MIN_T:MAX_T+1, (j, k), INDEX_MEANS])[0, 1]\n",
    "\n",
    "print(trial_corrs[1], trial_corrs.shape)"
   ]
  },
  {
   "cell_type": "code",
   "execution_count": 35,
   "metadata": {},
   "outputs": [
    {
     "data": {
      "text/plain": [
       "(array([375.,  57.,  50.,  31.,  27.,  30.,  16.,  16.,  49., 189.]),\n",
       " array([-0.999663  , -0.81612954, -0.63259608, -0.44906262, -0.26552915,\n",
       "        -0.08199569,  0.10153777,  0.28507123,  0.46860469,  0.65213815,\n",
       "         0.83567161]),\n",
       " <a list of 10 Patch objects>)"
      ]
     },
     "execution_count": 35,
     "metadata": {},
     "output_type": "execute_result"
    },
    {
     "data": {
      "image/png": "[encoded data removed]",
      "text/plain": [
       "<Figure size 432x288 with 1 Axes>"
      ]
     },
     "metadata": {
      "needs_background": "light"
     },
     "output_type": "display_data"
    }
   ],
   "source": [
    "plt.hist(trial_corrs[1:, 1, 0])"
   ]
  },
  {
   "cell_type": "code",
   "execution_count": 36,
   "metadata": {
    "scrolled": true
   },
   "outputs": [
    {
     "name": "stderr",
     "output_type": "stream",
     "text": [
      "C:\\Users\\Mike\\Anaconda3\\lib\\site-packages\\matplotlib\\font_manager.py:1241: UserWarning: findfont: Font family ['serif'] not found. Falling back to DejaVu Sans.\n",
      "  (prop.get_family(), self.defaultFamily[fontext]))\n"
     ]
    },
    {
     "data": {
      "image/png": "[encoded data removed]",
      "text/plain": [
       "<Figure size 388.543x240.133 with 25 Axes>"
      ]
     },
     "metadata": {},
     "output_type": "display_data"
    }
   ],
   "source": [
    "fig, axes = plt.subplots(5,5, figsize=set_size(textwidth, subplot=[5,5]), sharex=True, sharey=True)\n",
    "\n",
    "bins = np.arange(-1, 1.2, 0.2)\n",
    "bins[5] = 0\n",
    "\n",
    "for j in range(1, 6):\n",
    "    for k in range(6-1):\n",
    "        ax = axes[j-1, k]\n",
    "        \n",
    "        if j > k:\n",
    "            corr_data = trial_corrs[1:, j, k]\n",
    "            weights = np.ones_like(corr_data)/corr_data.size\n",
    "            ax.hist(corr_data, bins=bins, weights=weights, alpha=0.85)\n",
    "            ax.set_xlabel(f'{response_variable_short_labels[j]}, {response_variable_short_labels[k]}', size=8)\n",
    "            ax.get_yaxis().set_visible(False)\n",
    "            ax.spines['left'].set_visible(False)\n",
    "            ax.tick_params(axis='x', colors='grey')\n",
    "            \n",
    "        else:\n",
    "            ax.axis('off')\n",
    "\n",
    "            \n",
    "fig.suptitle(f'Distributions of pairwise correlation per trial response variable, Sc.{scenario_num}')\n",
    "fig.tight_layout()"
   ]
  },
  {
   "cell_type": "code",
   "execution_count": 87,
   "metadata": {
    "scrolled": true
   },
   "outputs": [],
   "source": [
    "fig.savefig(f'all_rv_correlation_hist.pdf', format='pdf', bbox_inches='tight')    "
   ]
  },
  {
   "cell_type": "code",
   "execution_count": 37,
   "metadata": {},
   "outputs": [
    {
     "data": {
      "image/png": "[encoded data removed]",
      "text/plain": [
       "<Figure size 388.543x360.199 with 6 Axes>"
      ]
     },
     "metadata": {},
     "output_type": "display_data"
    }
   ],
   "source": [
    "# fig1, (ax1, ax2) = plt.subplots(1, 2, figsize=set_size(textwidth), gridspec_kw={'width_ratios': [7, 1], 'wspace': 0.05}, sharey=True)\n",
    "MAX_T = 490 ###\n",
    "\n",
    "def make_time_series_line_plot(ax1, rv):\n",
    "    for i in range(MIN_TRIAL, MAX_TRIAL+1):\n",
    "        ax1.plot(data[i, MIN_T:MAX_T+1, rv, INDEX_MEANS], marker='', color='grey', linewidth=0.05, alpha=0.1)\n",
    "#         break ###\n",
    "\n",
    "    ax1.set_title(f'{response_variable_short_labels[rv]}')\n",
    "#     ax1.set_xlabel('time step $t$', color='grey')\n",
    "\n",
    "    ax1.set_xticks([0, 250, 500])\n",
    "    ax1.set_ylim((0, data[MIN_TRIAL:MAX_TRIAL+1, MIN_T:MAX_T+1, rv, INDEX_MEANS].max()))\n",
    "\n",
    "    # more decoration\n",
    "    ax1.spines['bottom'].set_color('grey')\n",
    "    ax1.spines['left'].set_visible(False)\n",
    "\n",
    "    ax1.tick_params(axis='x', colors='grey')\n",
    "    ax1.tick_params(axis='y', colors='None')\n",
    "\n",
    "    ax1.spines['bottom'].set_bounds(MIN_T, MAX_T)\n",
    "\n",
    "    \n",
    "fig, axes = plt.subplots(3,2, figsize=set_size(textwidth, subplot=[3,2]), sharex=True)\n",
    "for rv, ax in enumerate(axes.T.reshape(-1)):\n",
    "    make_time_series_line_plot(ax, rv)\n",
    "\n",
    "for col in range(2):\n",
    "    axes[-1, col].set_xlabel('time step $t$', color='grey')\n",
    "    \n",
    "fig.suptitle('normalized response variables for all trials')\n",
    "fig.tight_layout()\n",
    "fig.subplots_adjust(top=0.875)\n"
   ]
  },
  {
   "cell_type": "code",
   "execution_count": 77,
   "metadata": {
    "scrolled": true
   },
   "outputs": [],
   "source": [
    "fig.savefig(f'all_time_series_line_plots_tall.pdf', format='pdf', bbox_inches='tight')    "
   ]
  },
  {
   "cell_type": "code",
   "execution_count": null,
   "metadata": {},
   "outputs": [],
   "source": []
  },
  {
   "cell_type": "code",
   "execution_count": 38,
   "metadata": {},
   "outputs": [
    {
     "ename": "FileNotFoundError",
     "evalue": "[Errno 2] No such file or directory: '../dtw_best_clusters_rv_0.csv'",
     "output_type": "error",
     "traceback": [
      "\u001b[1;31m---------------------------------------------------------------------------\u001b[0m",
      "\u001b[1;31mFileNotFoundError\u001b[0m                         Traceback (most recent call last)",
      "\u001b[1;32m<ipython-input-38-880b3ece97fb>\u001b[0m in \u001b[0;36m<module>\u001b[1;34m\u001b[0m\n\u001b[0;32m      7\u001b[0m \u001b[1;32mfor\u001b[0m \u001b[0mrv\u001b[0m \u001b[1;32min\u001b[0m \u001b[0mrange\u001b[0m\u001b[1;33m(\u001b[0m\u001b[1;36m0\u001b[0m\u001b[1;33m,\u001b[0m \u001b[1;36m6\u001b[0m\u001b[1;33m)\u001b[0m\u001b[1;33m:\u001b[0m\u001b[1;33m\u001b[0m\u001b[1;33m\u001b[0m\u001b[0m\n\u001b[0;32m      8\u001b[0m     \u001b[1;31m# load R's cluster indices from file\u001b[0m\u001b[1;33m\u001b[0m\u001b[1;33m\u001b[0m\u001b[1;33m\u001b[0m\u001b[0m\n\u001b[1;32m----> 9\u001b[1;33m     \u001b[1;32mwith\u001b[0m \u001b[0mopen\u001b[0m\u001b[1;33m(\u001b[0m\u001b[1;34mf'../{mode}_best_clusters_rv_{rv}.csv'\u001b[0m\u001b[1;33m,\u001b[0m \u001b[1;34m'r'\u001b[0m\u001b[1;33m)\u001b[0m \u001b[1;32mas\u001b[0m \u001b[0mf\u001b[0m\u001b[1;33m:\u001b[0m\u001b[1;33m\u001b[0m\u001b[1;33m\u001b[0m\u001b[0m\n\u001b[0m\u001b[0;32m     10\u001b[0m         \u001b[0mcluster_ids\u001b[0m \u001b[1;33m=\u001b[0m \u001b[1;33m[\u001b[0m\u001b[0mint\u001b[0m\u001b[1;33m(\u001b[0m\u001b[0mi\u001b[0m\u001b[1;33m)\u001b[0m \u001b[1;32mfor\u001b[0m \u001b[0mi\u001b[0m \u001b[1;32min\u001b[0m \u001b[0mf\u001b[0m\u001b[1;33m.\u001b[0m\u001b[0mreadline\u001b[0m\u001b[1;33m(\u001b[0m\u001b[1;33m)\u001b[0m\u001b[1;33m[\u001b[0m\u001b[1;33m:\u001b[0m\u001b[1;33m-\u001b[0m\u001b[1;36m1\u001b[0m\u001b[1;33m]\u001b[0m\u001b[1;33m.\u001b[0m\u001b[0msplit\u001b[0m\u001b[1;33m(\u001b[0m\u001b[1;34m','\u001b[0m\u001b[1;33m)\u001b[0m\u001b[1;33m]\u001b[0m\u001b[1;33m\u001b[0m\u001b[1;33m\u001b[0m\u001b[0m\n\u001b[0;32m     11\u001b[0m \u001b[1;33m\u001b[0m\u001b[0m\n",
      "\u001b[1;31mFileNotFoundError\u001b[0m: [Errno 2] No such file or directory: '../dtw_best_clusters_rv_0.csv'"
     ]
    }
   ],
   "source": [
    "# compositing DTW clusters heatmap together\n",
    "\n",
    "clusters_df2 = design_df.copy()\n",
    "\n",
    "mode = 'dtw'\n",
    "\n",
    "for rv in range(0, 6):\n",
    "    # load R's cluster indices from file\n",
    "    with open(f'../{mode}_best_clusters_rv_{rv}.csv', 'r') as f:\n",
    "        cluster_ids = [int(i) for i in f.readline()[:-1].split(',')]\n",
    "\n",
    "    clusters_df2[f'cluster_{mode}_{rv}'] = cluster_ids\n",
    "    \n",
    "    "
   ]
  },
  {
   "cell_type": "code",
   "execution_count": 39,
   "metadata": {},
   "outputs": [
    {
     "ename": "KeyError",
     "evalue": "'cluster_dtw_0'",
     "output_type": "error",
     "traceback": [
      "\u001b[1;31m---------------------------------------------------------------------------\u001b[0m",
      "\u001b[1;31mKeyError\u001b[0m                                  Traceback (most recent call last)",
      "\u001b[1;32m~\\Anaconda3\\lib\\site-packages\\pandas\\core\\indexes\\base.py\u001b[0m in \u001b[0;36mget_loc\u001b[1;34m(self, key, method, tolerance)\u001b[0m\n\u001b[0;32m   2601\u001b[0m             \u001b[1;32mtry\u001b[0m\u001b[1;33m:\u001b[0m\u001b[1;33m\u001b[0m\u001b[1;33m\u001b[0m\u001b[0m\n\u001b[1;32m-> 2602\u001b[1;33m                 \u001b[1;32mreturn\u001b[0m \u001b[0mself\u001b[0m\u001b[1;33m.\u001b[0m\u001b[0m_engine\u001b[0m\u001b[1;33m.\u001b[0m\u001b[0mget_loc\u001b[0m\u001b[1;33m(\u001b[0m\u001b[0mkey\u001b[0m\u001b[1;33m)\u001b[0m\u001b[1;33m\u001b[0m\u001b[1;33m\u001b[0m\u001b[0m\n\u001b[0m\u001b[0;32m   2603\u001b[0m             \u001b[1;32mexcept\u001b[0m \u001b[0mKeyError\u001b[0m\u001b[1;33m:\u001b[0m\u001b[1;33m\u001b[0m\u001b[1;33m\u001b[0m\u001b[0m\n",
      "\u001b[1;32mpandas\\_libs\\index.pyx\u001b[0m in \u001b[0;36mpandas._libs.index.IndexEngine.get_loc\u001b[1;34m()\u001b[0m\n",
      "\u001b[1;32mpandas\\_libs\\index.pyx\u001b[0m in \u001b[0;36mpandas._libs.index.IndexEngine.get_loc\u001b[1;34m()\u001b[0m\n",
      "\u001b[1;32mpandas\\_libs\\hashtable_class_helper.pxi\u001b[0m in \u001b[0;36mpandas._libs.hashtable.PyObjectHashTable.get_item\u001b[1;34m()\u001b[0m\n",
      "\u001b[1;32mpandas\\_libs\\hashtable_class_helper.pxi\u001b[0m in \u001b[0;36mpandas._libs.hashtable.PyObjectHashTable.get_item\u001b[1;34m()\u001b[0m\n",
      "\u001b[1;31mKeyError\u001b[0m: 'cluster_dtw_0'",
      "\nDuring handling of the above exception, another exception occurred:\n",
      "\u001b[1;31mKeyError\u001b[0m                                  Traceback (most recent call last)",
      "\u001b[1;32m<ipython-input-39-ad3eec75e4a6>\u001b[0m in \u001b[0;36m<module>\u001b[1;34m\u001b[0m\n\u001b[0;32m     33\u001b[0m \u001b[1;33m\u001b[0m\u001b[0m\n\u001b[0;32m     34\u001b[0m \u001b[1;33m\u001b[0m\u001b[0m\n\u001b[1;32m---> 35\u001b[1;33m \u001b[0mcensus_output\u001b[0m\u001b[1;33m,\u001b[0m \u001b[0mrow_labels\u001b[0m\u001b[1;33m,\u001b[0m \u001b[0mcluster_nums_dict\u001b[0m \u001b[1;33m=\u001b[0m \u001b[0mget_census_vals\u001b[0m\u001b[1;33m(\u001b[0m\u001b[0mmode\u001b[0m\u001b[1;33m,\u001b[0m \u001b[0mclusters_df2\u001b[0m\u001b[1;33m)\u001b[0m\u001b[1;33m\u001b[0m\u001b[1;33m\u001b[0m\u001b[0m\n\u001b[0m\u001b[0;32m     36\u001b[0m \u001b[0mnans\u001b[0m \u001b[1;33m=\u001b[0m \u001b[1;33m[\u001b[0m\u001b[1;33m[\u001b[0m\u001b[0mnp\u001b[0m\u001b[1;33m.\u001b[0m\u001b[0mnan\u001b[0m\u001b[1;33m]\u001b[0m\u001b[1;33m*\u001b[0m\u001b[0mcensus_output\u001b[0m\u001b[1;33m[\u001b[0m\u001b[1;36m0\u001b[0m\u001b[1;33m]\u001b[0m\u001b[1;33m.\u001b[0m\u001b[0mshape\u001b[0m\u001b[1;33m[\u001b[0m\u001b[1;36m1\u001b[0m\u001b[1;33m]\u001b[0m \u001b[1;32mfor\u001b[0m \u001b[0m_\u001b[0m \u001b[1;32min\u001b[0m \u001b[0mcensus_output\u001b[0m\u001b[1;33m]\u001b[0m\u001b[1;33m\u001b[0m\u001b[1;33m\u001b[0m\u001b[0m\n\u001b[0;32m     37\u001b[0m \u001b[1;33m\u001b[0m\u001b[0m\n",
      "\u001b[1;32m<ipython-input-39-ad3eec75e4a6>\u001b[0m in \u001b[0;36mget_census_vals\u001b[1;34m(mode, clusters_df)\u001b[0m\n\u001b[0;32m     15\u001b[0m \u001b[1;33m\u001b[0m\u001b[0m\n\u001b[0;32m     16\u001b[0m         \u001b[0mcluster_col\u001b[0m \u001b[1;33m=\u001b[0m \u001b[1;34mf'cluster_{mode}_{rv}'\u001b[0m\u001b[1;33m\u001b[0m\u001b[1;33m\u001b[0m\u001b[0m\n\u001b[1;32m---> 17\u001b[1;33m         \u001b[0mcluster_nums\u001b[0m \u001b[1;33m=\u001b[0m \u001b[0msorted\u001b[0m\u001b[1;33m(\u001b[0m\u001b[0mclusters_df\u001b[0m\u001b[1;33m[\u001b[0m\u001b[0mcluster_col\u001b[0m\u001b[1;33m]\u001b[0m\u001b[1;33m.\u001b[0m\u001b[0munique\u001b[0m\u001b[1;33m(\u001b[0m\u001b[1;33m)\u001b[0m\u001b[1;33m)\u001b[0m\u001b[1;33m\u001b[0m\u001b[1;33m\u001b[0m\u001b[0m\n\u001b[0m\u001b[0;32m     18\u001b[0m         \u001b[0mcluster_nums_dict\u001b[0m\u001b[1;33m[\u001b[0m\u001b[0mrv\u001b[0m\u001b[1;33m]\u001b[0m \u001b[1;33m=\u001b[0m \u001b[0mcluster_nums\u001b[0m\u001b[1;33m\u001b[0m\u001b[1;33m\u001b[0m\u001b[0m\n\u001b[0;32m     19\u001b[0m \u001b[1;33m\u001b[0m\u001b[0m\n",
      "\u001b[1;32m~\\Anaconda3\\lib\\site-packages\\pandas\\core\\frame.py\u001b[0m in \u001b[0;36m__getitem__\u001b[1;34m(self, key)\u001b[0m\n\u001b[0;32m   2915\u001b[0m             \u001b[1;32mif\u001b[0m \u001b[0mself\u001b[0m\u001b[1;33m.\u001b[0m\u001b[0mcolumns\u001b[0m\u001b[1;33m.\u001b[0m\u001b[0mnlevels\u001b[0m \u001b[1;33m>\u001b[0m \u001b[1;36m1\u001b[0m\u001b[1;33m:\u001b[0m\u001b[1;33m\u001b[0m\u001b[1;33m\u001b[0m\u001b[0m\n\u001b[0;32m   2916\u001b[0m                 \u001b[1;32mreturn\u001b[0m \u001b[0mself\u001b[0m\u001b[1;33m.\u001b[0m\u001b[0m_getitem_multilevel\u001b[0m\u001b[1;33m(\u001b[0m\u001b[0mkey\u001b[0m\u001b[1;33m)\u001b[0m\u001b[1;33m\u001b[0m\u001b[1;33m\u001b[0m\u001b[0m\n\u001b[1;32m-> 2917\u001b[1;33m             \u001b[0mindexer\u001b[0m \u001b[1;33m=\u001b[0m \u001b[0mself\u001b[0m\u001b[1;33m.\u001b[0m\u001b[0mcolumns\u001b[0m\u001b[1;33m.\u001b[0m\u001b[0mget_loc\u001b[0m\u001b[1;33m(\u001b[0m\u001b[0mkey\u001b[0m\u001b[1;33m)\u001b[0m\u001b[1;33m\u001b[0m\u001b[1;33m\u001b[0m\u001b[0m\n\u001b[0m\u001b[0;32m   2918\u001b[0m             \u001b[1;32mif\u001b[0m \u001b[0mis_integer\u001b[0m\u001b[1;33m(\u001b[0m\u001b[0mindexer\u001b[0m\u001b[1;33m)\u001b[0m\u001b[1;33m:\u001b[0m\u001b[1;33m\u001b[0m\u001b[1;33m\u001b[0m\u001b[0m\n\u001b[0;32m   2919\u001b[0m                 \u001b[0mindexer\u001b[0m \u001b[1;33m=\u001b[0m \u001b[1;33m[\u001b[0m\u001b[0mindexer\u001b[0m\u001b[1;33m]\u001b[0m\u001b[1;33m\u001b[0m\u001b[1;33m\u001b[0m\u001b[0m\n",
      "\u001b[1;32m~\\Anaconda3\\lib\\site-packages\\pandas\\core\\indexes\\base.py\u001b[0m in \u001b[0;36mget_loc\u001b[1;34m(self, key, method, tolerance)\u001b[0m\n\u001b[0;32m   2602\u001b[0m                 \u001b[1;32mreturn\u001b[0m \u001b[0mself\u001b[0m\u001b[1;33m.\u001b[0m\u001b[0m_engine\u001b[0m\u001b[1;33m.\u001b[0m\u001b[0mget_loc\u001b[0m\u001b[1;33m(\u001b[0m\u001b[0mkey\u001b[0m\u001b[1;33m)\u001b[0m\u001b[1;33m\u001b[0m\u001b[1;33m\u001b[0m\u001b[0m\n\u001b[0;32m   2603\u001b[0m             \u001b[1;32mexcept\u001b[0m \u001b[0mKeyError\u001b[0m\u001b[1;33m:\u001b[0m\u001b[1;33m\u001b[0m\u001b[1;33m\u001b[0m\u001b[0m\n\u001b[1;32m-> 2604\u001b[1;33m                 \u001b[1;32mreturn\u001b[0m \u001b[0mself\u001b[0m\u001b[1;33m.\u001b[0m\u001b[0m_engine\u001b[0m\u001b[1;33m.\u001b[0m\u001b[0mget_loc\u001b[0m\u001b[1;33m(\u001b[0m\u001b[0mself\u001b[0m\u001b[1;33m.\u001b[0m\u001b[0m_maybe_cast_indexer\u001b[0m\u001b[1;33m(\u001b[0m\u001b[0mkey\u001b[0m\u001b[1;33m)\u001b[0m\u001b[1;33m)\u001b[0m\u001b[1;33m\u001b[0m\u001b[1;33m\u001b[0m\u001b[0m\n\u001b[0m\u001b[0;32m   2605\u001b[0m         \u001b[0mindexer\u001b[0m \u001b[1;33m=\u001b[0m \u001b[0mself\u001b[0m\u001b[1;33m.\u001b[0m\u001b[0mget_indexer\u001b[0m\u001b[1;33m(\u001b[0m\u001b[1;33m[\u001b[0m\u001b[0mkey\u001b[0m\u001b[1;33m]\u001b[0m\u001b[1;33m,\u001b[0m \u001b[0mmethod\u001b[0m\u001b[1;33m=\u001b[0m\u001b[0mmethod\u001b[0m\u001b[1;33m,\u001b[0m \u001b[0mtolerance\u001b[0m\u001b[1;33m=\u001b[0m\u001b[0mtolerance\u001b[0m\u001b[1;33m)\u001b[0m\u001b[1;33m\u001b[0m\u001b[1;33m\u001b[0m\u001b[0m\n\u001b[0;32m   2606\u001b[0m         \u001b[1;32mif\u001b[0m \u001b[0mindexer\u001b[0m\u001b[1;33m.\u001b[0m\u001b[0mndim\u001b[0m \u001b[1;33m>\u001b[0m \u001b[1;36m1\u001b[0m \u001b[1;32mor\u001b[0m \u001b[0mindexer\u001b[0m\u001b[1;33m.\u001b[0m\u001b[0msize\u001b[0m \u001b[1;33m>\u001b[0m \u001b[1;36m1\u001b[0m\u001b[1;33m:\u001b[0m\u001b[1;33m\u001b[0m\u001b[1;33m\u001b[0m\u001b[0m\n",
      "\u001b[1;32mpandas\\_libs\\index.pyx\u001b[0m in \u001b[0;36mpandas._libs.index.IndexEngine.get_loc\u001b[1;34m()\u001b[0m\n",
      "\u001b[1;32mpandas\\_libs\\index.pyx\u001b[0m in \u001b[0;36mpandas._libs.index.IndexEngine.get_loc\u001b[1;34m()\u001b[0m\n",
      "\u001b[1;32mpandas\\_libs\\hashtable_class_helper.pxi\u001b[0m in \u001b[0;36mpandas._libs.hashtable.PyObjectHashTable.get_item\u001b[1;34m()\u001b[0m\n",
      "\u001b[1;32mpandas\\_libs\\hashtable_class_helper.pxi\u001b[0m in \u001b[0;36mpandas._libs.hashtable.PyObjectHashTable.get_item\u001b[1;34m()\u001b[0m\n",
      "\u001b[1;31mKeyError\u001b[0m: 'cluster_dtw_0'"
     ]
    }
   ],
   "source": [
    "import string\n",
    "\n",
    "def get_census_vals(mode, clusters_df):\n",
    "    output = []\n",
    "    cluster_nums_dict = dict()\n",
    "    \n",
    "    rows = []  # row labels\n",
    "    for (factor, levels) in factors.items():\n",
    "        for i, level in enumerate(levels):\n",
    "            rows.append(f\"{string.ascii_lowercase[i]}\")  # rows = columns now\n",
    "        rows.append('')  # blank label for between factors\n",
    "        \n",
    "    for rv in range(0, 6):\n",
    "        census_vals = []  # count of trials with both a given factor-level and cluster number divided by cluster size\n",
    "        \n",
    "        cluster_col = f'cluster_{mode}_{rv}'\n",
    "        cluster_nums = sorted(clusters_df[cluster_col].unique())\n",
    "        cluster_nums_dict[rv] = cluster_nums\n",
    "    \n",
    "        for (factor, levels) in factors.items():\n",
    "            for i, level in enumerate(levels):\n",
    "                # \"census\" of each cluster...\"what does each cluster look like?\"...take frequency per factor per cluster\n",
    "                census_vals.append([len(clusters_df[(clusters_df[cluster_col] == cluster_num) & (clusters_df[factor] == level)]) \n",
    "                                 / len(clusters_df[(clusters_df[cluster_col] == cluster_num)]) for cluster_num in cluster_nums])\n",
    "\n",
    "            census_vals.append([np.nan]*len(cluster_nums))  # blank data to render as gap\n",
    "\n",
    "        census_vals = np.array(census_vals[:-1]).T  # remove last element since it's blank\n",
    "        output.append(census_vals)\n",
    "            \n",
    "    \n",
    "    return output, np.array(rows[:-1]), cluster_nums_dict\n",
    "                    \n",
    "\n",
    "census_output, row_labels, cluster_nums_dict = get_census_vals(mode, clusters_df2)       \n",
    "nans = [[np.nan]*census_output[0].shape[1] for _ in census_output]\n",
    "\n"
   ]
  },
  {
   "cell_type": "code",
   "execution_count": null,
   "metadata": {},
   "outputs": [],
   "source": []
  },
  {
   "cell_type": "code",
   "execution_count": 40,
   "metadata": {},
   "outputs": [
    {
     "ename": "NameError",
     "evalue": "name 'census_output' is not defined",
     "output_type": "error",
     "traceback": [
      "\u001b[1;31m---------------------------------------------------------------------------\u001b[0m",
      "\u001b[1;31mNameError\u001b[0m                                 Traceback (most recent call last)",
      "\u001b[1;32m<ipython-input-40-8f2f23312958>\u001b[0m in \u001b[0;36m<module>\u001b[1;34m\u001b[0m\n\u001b[1;32m----> 1\u001b[1;33m \u001b[0mnans\u001b[0m \u001b[1;33m=\u001b[0m \u001b[1;33m[\u001b[0m\u001b[0mnp\u001b[0m\u001b[1;33m.\u001b[0m\u001b[0mfull\u001b[0m\u001b[1;33m(\u001b[0m\u001b[1;33m(\u001b[0m\u001b[1;36m1\u001b[0m\u001b[1;33m,\u001b[0m \u001b[0mcensus_output\u001b[0m\u001b[1;33m[\u001b[0m\u001b[1;36m0\u001b[0m\u001b[1;33m]\u001b[0m\u001b[1;33m.\u001b[0m\u001b[0mshape\u001b[0m\u001b[1;33m[\u001b[0m\u001b[1;36m1\u001b[0m\u001b[1;33m]\u001b[0m\u001b[1;33m)\u001b[0m\u001b[1;33m,\u001b[0m \u001b[0mnp\u001b[0m\u001b[1;33m.\u001b[0m\u001b[0mnan\u001b[0m\u001b[1;33m)\u001b[0m \u001b[1;32mfor\u001b[0m \u001b[0m_\u001b[0m \u001b[1;32min\u001b[0m \u001b[0mcensus_output\u001b[0m\u001b[1;33m]\u001b[0m\u001b[1;33m\u001b[0m\u001b[1;33m\u001b[0m\u001b[0m\n\u001b[0m",
      "\u001b[1;31mNameError\u001b[0m: name 'census_output' is not defined"
     ]
    }
   ],
   "source": [
    "nans = [np.full((1, census_output[0].shape[1]), np.nan) for _ in census_output]"
   ]
  },
  {
   "cell_type": "code",
   "execution_count": null,
   "metadata": {},
   "outputs": [],
   "source": []
  },
  {
   "cell_type": "code",
   "execution_count": 41,
   "metadata": {},
   "outputs": [
    {
     "ename": "NameError",
     "evalue": "name 'census_output' is not defined",
     "output_type": "error",
     "traceback": [
      "\u001b[1;31m---------------------------------------------------------------------------\u001b[0m",
      "\u001b[1;31mNameError\u001b[0m                                 Traceback (most recent call last)",
      "\u001b[1;32m<ipython-input-41-5e690564cc85>\u001b[0m in \u001b[0;36m<module>\u001b[1;34m\u001b[0m\n\u001b[1;32m----> 1\u001b[1;33m \u001b[0mcensus_data\u001b[0m \u001b[1;33m=\u001b[0m \u001b[0mnp\u001b[0m\u001b[1;33m.\u001b[0m\u001b[0mconcatenate\u001b[0m\u001b[1;33m(\u001b[0m\u001b[1;33m[\u001b[0m\u001b[0mx\u001b[0m \u001b[1;32mfor\u001b[0m \u001b[0mt\u001b[0m \u001b[1;32min\u001b[0m \u001b[0mzip\u001b[0m\u001b[1;33m(\u001b[0m\u001b[0mcensus_output\u001b[0m\u001b[1;33m,\u001b[0m \u001b[0mnans\u001b[0m\u001b[1;33m)\u001b[0m \u001b[1;32mfor\u001b[0m \u001b[0mx\u001b[0m \u001b[1;32min\u001b[0m \u001b[0mt\u001b[0m\u001b[1;33m]\u001b[0m\u001b[1;33m,\u001b[0m \u001b[0maxis\u001b[0m\u001b[1;33m=\u001b[0m\u001b[1;36m0\u001b[0m\u001b[1;33m)\u001b[0m\u001b[1;33m[\u001b[0m\u001b[1;33m:\u001b[0m\u001b[1;33m-\u001b[0m\u001b[1;36m1\u001b[0m\u001b[1;33m]\u001b[0m\u001b[1;33m\u001b[0m\u001b[1;33m\u001b[0m\u001b[0m\n\u001b[0m\u001b[0;32m      2\u001b[0m \u001b[1;31m# x for t in zip(...) for x in t   is how you flatten a list of tuples. who knew.\u001b[0m\u001b[1;33m\u001b[0m\u001b[1;33m\u001b[0m\u001b[1;33m\u001b[0m\u001b[0m\n",
      "\u001b[1;31mNameError\u001b[0m: name 'census_output' is not defined"
     ]
    }
   ],
   "source": [
    "census_data = np.concatenate([x for t in zip(census_output, nans) for x in t], axis=0)[:-1]\n",
    "# x for t in zip(...) for x in t   is how you flatten a list of tuples. who knew."
   ]
  },
  {
   "cell_type": "markdown",
   "metadata": {},
   "source": [
    "# Scenario-specific stuff"
   ]
  },
  {
   "cell_type": "code",
   "execution_count": 31,
   "metadata": {},
   "outputs": [],
   "source": [
    "scenario_num = 2\n",
    "\n",
    "\n",
    "old_filepath = 'master_trial_results.npy'\n",
    "old_data = np.load(old_filepath)\n",
    "old_data[0] = np.nan\n",
    "\n",
    "new_filepath = scenario_filepaths[scenario_num]\n",
    "new_data = np.load(new_filepath)\n",
    "new_data[0] = np.nan"
   ]
  },
  {
   "cell_type": "code",
   "execution_count": 32,
   "metadata": {},
   "outputs": [],
   "source": [
    "colors = [None, 'orange', 'green', 'yellow', 'blue']\n",
    "dashes = [None, [25, 25], [10, 10], [30, 5, 10, 5], [5, 10, 25, 5]]"
   ]
  },
  {
   "cell_type": "code",
   "execution_count": 33,
   "metadata": {},
   "outputs": [],
   "source": [
    "rv = 5\n",
    "MAX_T = 490\n"
   ]
  },
  {
   "cell_type": "code",
   "execution_count": 34,
   "metadata": {},
   "outputs": [
    {
     "data": {
      "text/html": [
       "<div>\n",
       "<style scoped>\n",
       "    .dataframe tbody tr th:only-of-type {\n",
       "        vertical-align: middle;\n",
       "    }\n",
       "\n",
       "    .dataframe tbody tr th {\n",
       "        vertical-align: top;\n",
       "    }\n",
       "\n",
       "    .dataframe thead th {\n",
       "        text-align: right;\n",
       "    }\n",
       "</style>\n",
       "<table border=\"1\" class=\"dataframe\">\n",
       "  <thead>\n",
       "    <tr style=\"text-align: right;\">\n",
       "      <th></th>\n",
       "      <th>agent_activation_regime</th>\n",
       "      <th>influence_error_distribution</th>\n",
       "      <th>influence_model</th>\n",
       "      <th>network_structure_model</th>\n",
       "      <th>population_size</th>\n",
       "    </tr>\n",
       "  </thead>\n",
       "  <tbody>\n",
       "    <tr>\n",
       "      <th>1</th>\n",
       "      <td>synchronous</td>\n",
       "      <td>none</td>\n",
       "      <td>standard_model</td>\n",
       "      <td>erdos_renyi_random(N)</td>\n",
       "      <td>100</td>\n",
       "    </tr>\n",
       "    <tr>\n",
       "      <th>2</th>\n",
       "      <td>synchronous</td>\n",
       "      <td>none</td>\n",
       "      <td>standard_model</td>\n",
       "      <td>erdos_renyi_random(N)</td>\n",
       "      <td>1000</td>\n",
       "    </tr>\n",
       "    <tr>\n",
       "      <th>3</th>\n",
       "      <td>synchronous</td>\n",
       "      <td>none</td>\n",
       "      <td>standard_model</td>\n",
       "      <td>erdos_renyi_random(N)</td>\n",
       "      <td>10000</td>\n",
       "    </tr>\n",
       "    <tr>\n",
       "      <th>4</th>\n",
       "      <td>synchronous</td>\n",
       "      <td>none</td>\n",
       "      <td>standard_model</td>\n",
       "      <td>small_world(N, 0.0, 3)</td>\n",
       "      <td>100</td>\n",
       "    </tr>\n",
       "    <tr>\n",
       "      <th>5</th>\n",
       "      <td>synchronous</td>\n",
       "      <td>none</td>\n",
       "      <td>standard_model</td>\n",
       "      <td>small_world(N, 0.0, 3)</td>\n",
       "      <td>1000</td>\n",
       "    </tr>\n",
       "  </tbody>\n",
       "</table>\n",
       "</div>"
      ],
      "text/plain": [
       "  agent_activation_regime influence_error_distribution influence_model  \\\n",
       "1             synchronous                         none  standard_model   \n",
       "2             synchronous                         none  standard_model   \n",
       "3             synchronous                         none  standard_model   \n",
       "4             synchronous                         none  standard_model   \n",
       "5             synchronous                         none  standard_model   \n",
       "\n",
       "  network_structure_model population_size  \n",
       "1   erdos_renyi_random(N)             100  \n",
       "2   erdos_renyi_random(N)            1000  \n",
       "3   erdos_renyi_random(N)           10000  \n",
       "4  small_world(N, 0.0, 3)             100  \n",
       "5  small_world(N, 0.0, 3)            1000  "
      ]
     },
     "execution_count": 34,
     "metadata": {},
     "output_type": "execute_result"
    }
   ],
   "source": [
    "design_df.head()"
   ]
  },
  {
   "cell_type": "code",
   "execution_count": 70,
   "metadata": {
    "scrolled": true
   },
   "outputs": [
    {
     "data": {
      "image/png": "[encoded data removed]",
      "text/plain": [
       "<Figure size 388.543x240.133 with 9 Axes>"
      ]
     },
     "metadata": {
      "needs_background": "dark"
     },
     "output_type": "display_data"
    }
   ],
   "source": [
    "fig1, axes = plt.subplots(3, 3, figsize=set_size(textwidth, subplot=[3,3]), sharey=True, sharex=True)\n",
    "\n",
    "### need design_df to be loaded using \"scenario 0\"\n",
    "\n",
    "s2 = s4 = 0\n",
    "for i in trial_nums_from_full_design_present_in_nonh_core:\n",
    "    axes[0, 0].plot(old_data[i, MIN_T:MAX_T+1, rv, INDEX_MEANS], marker='', color='grey', linewidth=0.15, alpha=0.25)\n",
    "    \n",
    "    # Scenario 2 has only SimilarityBias & AttractiveRepulsive\n",
    "    if design_df.loc[i, 'influence_model'] in ['similarity_bias', 'attractive_repulsive']:\n",
    "        axes[1, 0].plot(old_data[i, MIN_T:MAX_T+1, rv, INDEX_MEANS], marker='', color='grey', linewidth=0.15, alpha=0.25)\n",
    "        s2 += 1\n",
    "        \n",
    "    # Scenario 4 has only Random activation regime\n",
    "    if design_df.loc[i, 'agent_activation_regime'] == 'random':\n",
    "        axes[2, 0].plot(old_data[i, MIN_T:MAX_T+1, rv, INDEX_MEANS], marker='', color='grey', linewidth=0.15, alpha=0.25)\n",
    "        s4 += 1\n",
    "\n",
    "axes[0, 0].set_title(f'Base case, {len(trial_nums_from_full_design_present_in_nonh_core)} trials')\n",
    "axes[1, 0].set_title(f'Base case, reduced\\ninfluence models, {s2} trials')\n",
    "axes[2, 0].set_title(f'Base case, reduced\\nactivation regimes, {s4} trials')\n",
    "\n",
    "sc_ax_map = {\n",
    "    1: 1, 4: 2, 2: 4, 3: 7 \n",
    "}\n",
    "    \n",
    "for scenario_num in [1,2,3,4]:\n",
    "    ax1 = axes.ravel()[sc_ax_map[scenario_num]]\n",
    "    \n",
    "    new_filepath = scenario_filepaths[scenario_num]\n",
    "    new_data = np.load(new_filepath)\n",
    "    new_data[0] = np.nan\n",
    "\n",
    "    for i in range(1, new_data.shape[0]):\n",
    "        ax1.plot(new_data[i, MIN_T:MAX_T+1, rv, INDEX_MEANS], marker='', color='grey', linewidth=0.15, alpha=0.25)\n",
    "#         break###\n",
    "    ax1.set_title(f'Scenario {scenario_num}, {new_data.shape[0]-1} trials')\n",
    "\n",
    "    \n",
    "for ax1 in axes.ravel():\n",
    "    # more decoration\n",
    "    ax1.spines['bottom'].set_color('grey')\n",
    "    ax1.spines['left'].set_color('grey')\n",
    "\n",
    "    ax1.tick_params(axis='x', colors='grey')\n",
    "    ax1.tick_params(axis='y', colors='grey')\n",
    "\n",
    "    ax1.spines['bottom'].set_bounds(MIN_T, MAX_T)\n",
    "    ax1.spines['left'].set_bounds(old_data[MIN_TRIAL:, MIN_T:MAX_T+1, rv, INDEX_MEANS].min(), \n",
    "                                  old_data[MIN_TRIAL:, MIN_T:MAX_T+1, rv, INDEX_MEANS].max())\n",
    "    \n",
    "    \n",
    "axes[2, 0].set_xlabel('time step $t$', color='grey')    \n",
    "axes[2, 1].set_xlabel('time step $t$', color='grey')    \n",
    "# axes[0, 2].set_xlabel('time step $t$', color='grey')    \n",
    "\n",
    "axes[1, 2].axis('off')    \n",
    "axes[2, 2].axis('off')    \n",
    "\n",
    "fig1.suptitle(f'{response_variable_labels[rv]}')\n",
    "fig1.tight_layout()\n",
    "fig1.subplots_adjust(top=0.860)"
   ]
  },
  {
   "cell_type": "code",
   "execution_count": 81,
   "metadata": {},
   "outputs": [],
   "source": [
    "fig1.savefig(f'all_trials_all_scenarios_line_plots_rv_{rv}.pdf', format='pdf', bbox_inches='tight')"
   ]
  },
  {
   "cell_type": "code",
   "execution_count": null,
   "metadata": {},
   "outputs": [],
   "source": []
  },
  {
   "cell_type": "code",
   "execution_count": 35,
   "metadata": {},
   "outputs": [],
   "source": [
    "# want to plot difference between scenario trial and best-match base case trial\n",
    "# for Scn 1 & 4, no problem, just ignore scenario--specific factor for match\n",
    "# for Scn 2, ??\n",
    "# for Scn 3, match with Random activation regime\n",
    "\n",
    "# want to show all 4 scenarios on one plot for a single RV using small-multiples approach (4 horizontal axises)...\n",
    "\n",
    "design_dfs = {}\n",
    "for i in [0,1,2,3,4]:\n",
    "    design_dfs[i] = pd.read_csv(f'../code/{scenario_designs[i]}', index_col=0, dtype=str)"
   ]
  },
  {
   "cell_type": "code",
   "execution_count": 36,
   "metadata": {},
   "outputs": [],
   "source": [
    "def get_matching_base_case_trial_num(scn_trial_num, scn_num, influence_model=None):\n",
    "    # influence_model arg used only for Scenario 2...I'll plot relative to both SimBias & AttractiveRepulse\n",
    "    \n",
    "    scn_trial = design_dfs[scn_num].loc[scn_trial_num]\n",
    "    \n",
    "    if scn_num in [1, 4]:\n",
    "        rows = design_df[(design_df['network_structure_model'] == scn_trial['network_structure_model']) & \n",
    "                         (design_df['influence_model'] == scn_trial['influence_model']) &\n",
    "                         (design_df['influence_error_distribution'] == scn_trial['influence_error_distribution']) &\n",
    "                         (design_df['agent_activation_regime'] == scn_trial['agent_activation_regime']) & \n",
    "                         (design_df['population_size'] == '1000')\n",
    "                        ]\n",
    "\n",
    "    elif scn_num == 2:\n",
    "        rows = design_df[(design_df['network_structure_model'] == scn_trial['network_structure_model']) & \n",
    "                         (design_df['influence_model'] == influence_model) &\n",
    "                         (design_df['influence_error_distribution'] == scn_trial['influence_error_distribution']) &\n",
    "                         (design_df['agent_activation_regime'] == scn_trial['agent_activation_regime']) & \n",
    "                         (design_df['population_size'] == '1000')\n",
    "                        ]\n",
    "    \n",
    "    elif scn_num == 3:\n",
    "        rows = design_df[(design_df['network_structure_model'] == scn_trial['network_structure_model']) & \n",
    "                         (design_df['influence_model'] == scn_trial['influence_model']) &\n",
    "                         (design_df['influence_error_distribution'] == scn_trial['influence_error_distribution']) &\n",
    "                         (design_df['agent_activation_regime'] == 'random') & \n",
    "                         (design_df['population_size'] == '1000')\n",
    "                        ]\n",
    "    \n",
    "    else:\n",
    "        print('bad scn_num', scn_num)\n",
    "        \n",
    "    ##\n",
    "#     print(scn_trial)\n",
    "#     print(rows)\n",
    "    \n",
    "    if rows.shape[0] == 0:\n",
    "        print('no matching rows for', scn_trial_num, scn_num)\n",
    "    elif rows.shape[0] > 1:\n",
    "        print('no unique row for', scn_trial_num, scn_num)\n",
    "    else:\n",
    "        return rows.first_valid_index()\n"
   ]
  },
  {
   "cell_type": "code",
   "execution_count": 37,
   "metadata": {},
   "outputs": [
    {
     "data": {
      "text/plain": [
       "32"
      ]
     },
     "execution_count": 37,
     "metadata": {},
     "output_type": "execute_result"
    }
   ],
   "source": [
    "get_matching_base_case_trial_num(1, 2, 'similarity_bias')"
   ]
  },
  {
   "cell_type": "code",
   "execution_count": 74,
   "metadata": {},
   "outputs": [
    {
     "data": {
      "image/png": "[encoded data removed]",
      "text/plain": [
       "<Figure size 310.834x192.106 with 1 Axes>"
      ]
     },
     "metadata": {
      "needs_background": "light"
     },
     "output_type": "display_data"
    }
   ],
   "source": [
    "rv = 3\n",
    "scenario_num = 4\n",
    "\n",
    "old_filepath = 'master_trial_results.npy'\n",
    "old_data = np.load(old_filepath)\n",
    "old_data[0] = np.nan\n",
    "\n",
    "fig1, ax1 = plt.subplots(1, 1, figsize=set_size(textwidth, subplot=[1,1], fraction=0.8), sharey=True, sharex=True)\n",
    "\n",
    "\n",
    "new_filepath = scenario_filepaths[scenario_num]\n",
    "new_data = np.load(new_filepath)\n",
    "new_data[0] = np.nan\n",
    "\n",
    "color='grey'\n",
    "\n",
    "scn_2_colors = {0.25:plt.cm.Dark2.colors[0], 0.33:plt.cm.Dark2.colors[1], 0.50:plt.cm.Dark2.colors[2], \n",
    "                0.66:plt.cm.Dark2.colors[3], 0.75:plt.cm.Dark2.colors[4], 0.00:plt.cm.Dark2.colors[5]}\n",
    "scn_4_colors = {0.05:plt.cm.Dark2.colors[0], 0.15:plt.cm.Dark2.colors[2], 0.33:plt.cm.Dark2.colors[3], 0.50:plt.cm.Dark2.colors[5]}\n",
    "\n",
    "for i in range(1, new_data.shape[0]):\n",
    "    if scenario_num == 2:  # special handling\n",
    "        trial_num1 = get_matching_base_case_trial_num(i, scenario_num, 'similarity_bias')  # concord\n",
    "        trial_num2 = get_matching_base_case_trial_num(i, scenario_num, 'attractive_repulsive')  # PA\n",
    "        if trial_num1 is not None and trial_num2 is not None: \n",
    "            color = scn_2_colors[float(design_dfs[2].loc[i, 'fraction_concord'])]\n",
    "            \n",
    "            fraction_concord = float(design_dfs[scenario_num].loc[i, 'fraction_concord'])\n",
    "            old_y = fraction_concord * old_data[trial_num1, MIN_T+1:MAX_T+1, rv, INDEX_MEANS] + (1-fraction_concord) * old_data[trial_num2, MIN_T+1:MAX_T+1, rv, INDEX_MEANS]\n",
    "            y = new_data[i, MIN_T+1:MAX_T+1, rv, INDEX_MEANS] - old_y\n",
    "            ax1.plot(y/old_y*100, marker='', color=color, linewidth=0.15, alpha=0.5)\n",
    "\n",
    "    else:\n",
    "        matching_trial_num = get_matching_base_case_trial_num(i, scenario_num)\n",
    "        if matching_trial_num is not None:\n",
    "            if scenario_num == 4:\n",
    "                color = scn_4_colors[float(design_dfs[4].loc[i, 'fraction_stubborn'])]\n",
    "\n",
    "            old_y = old_data[matching_trial_num, MIN_T+1:MAX_T+1, rv, INDEX_MEANS]\n",
    "            y = new_data[i, MIN_T+1:MAX_T+1, rv, INDEX_MEANS] - old_y\n",
    "            ax1.plot(y/old_y*100, marker='', color=color, linewidth=0.15, alpha=0.5)\n",
    "            \n",
    "#             if (y/old_y*100 > 6).any():\n",
    "#                 print(i)\n",
    "\n",
    "#     break\n",
    "    \n",
    "# ax1.spines['bottom'].set_visible(False)\n",
    "# # ax1.tick_params(axis='x', colors='none', labelsize=6)    \n",
    "# ax1.spines['top'].set_position('zero')\n",
    "# ax1.spines['top'].set_visible(True)\n",
    "# ax1.xaxis.set_ticks_position('top')\n",
    "\n",
    "# ax1.set_xticks([0, 500])\n",
    "# ax1.set_xlabel('time step $t$', color='grey') \n",
    "\n",
    "ax1.set_title(f'Percent change from corresponding base case data, {response_variable_short_labels[rv]}, Scenario {scenario_num}');\n",
    "\n",
    "stubborn_labels = [(0.05, .72), (0.15, .57), (0.33, .35), (0.50, .17)]\n",
    "if scenario_num == 4 and rv == 4:\n",
    "    for fs, ypos in stubborn_labels:\n",
    "        ax1.annotate(f'{fs:0.2}', xy=(1, ypos), xytext=(-4, 0),\n",
    "            xycoords='axes fraction', textcoords='offset points', size=8, ha='left', va='center')\n",
    "        \n",
    "    ax1.annotate('fraction stubborn', xy=(1, 0), xytext=(5, -5),\n",
    "            xycoords='axes fraction', textcoords='offset points', size=8, ha='right', va='center')\n",
    "    \n",
    "    ax1.axvline(x=511, ymin=0.01, ymax=0.12, color='grey', linewidth=0.5, clip_on=False)\n",
    "    ax1.xaxis.set_label_coords(0.5, 0.90)"
   ]
  },
  {
   "cell_type": "code",
   "execution_count": 302,
   "metadata": {},
   "outputs": [],
   "source": [
    "# fig1.savefig(f'percent_changes_MI-S_Scn_4.pdf', format='pdf', bbox_inches='tight')"
   ]
  },
  {
   "cell_type": "code",
   "execution_count": 75,
   "metadata": {
    "scrolled": true
   },
   "outputs": [
    {
     "data": {
      "text/plain": [
       "[<matplotlib.lines.Line2D at 0x18f076ebf60>]"
      ]
     },
     "execution_count": 75,
     "metadata": {},
     "output_type": "execute_result"
    },
    {
     "data": {
      "image/png": "[encoded data removed]",
      "text/plain": [
       "<Figure size 310.834x192.106 with 1 Axes>"
      ]
     },
     "metadata": {
      "needs_background": "light"
     },
     "output_type": "display_data"
    }
   ],
   "source": [
    "fig1, ax1 = plt.subplots(1, 1, figsize=set_size(textwidth, subplot=[1,1], fraction=0.8), sharey=True, sharex=True)\n",
    "ax1.plot(old_data[matching_trial_num, :490, rv, INDEX_MEANS], color='blue')\n",
    "ax1.plot(new_data[i, :490, rv, INDEX_MEANS], color='green')"
   ]
  },
  {
   "cell_type": "code",
   "execution_count": 76,
   "metadata": {},
   "outputs": [
    {
     "data": {
      "text/plain": [
       "agent_activation_regime              synchronous\n",
       "influence_error_distribution                none\n",
       "influence_model                   standard_model\n",
       "network_structure_model         scale_free(N, 5)\n",
       "population_size                             1000\n",
       "Name: 7, dtype: object"
      ]
     },
     "execution_count": 76,
     "metadata": {},
     "output_type": "execute_result"
    }
   ],
   "source": [
    "design_dfs[3].loc[7]"
   ]
  },
  {
   "cell_type": "code",
   "execution_count": null,
   "metadata": {},
   "outputs": [],
   "source": []
  },
  {
   "cell_type": "code",
   "execution_count": null,
   "metadata": {},
   "outputs": [],
   "source": []
  },
  {
   "cell_type": "code",
   "execution_count": 43,
   "metadata": {
    "scrolled": true
   },
   "outputs": [
    {
     "data": {
      "image/png": "[encoded data removed]",
      "text/plain": [
       "<Figure size 388.543x360.199 with 24 Axes>"
      ]
     },
     "metadata": {
      "needs_background": "light"
     },
     "output_type": "display_data"
    }
   ],
   "source": [
    "fig1, axes = plt.subplots(6, 4, figsize=set_size(textwidth, subplot=[6,4]), sharey=False, sharex=True)\n",
    "\n",
    "percent_change_timeseries_container = []  # hey this is inefficient!\n",
    "\n",
    "for col, scenario_num in enumerate([1,2,3,4]):\n",
    "    new_filepath = scenario_filepaths[scenario_num]\n",
    "    new_data = np.load(new_filepath)\n",
    "    new_data[0] = np.nan\n",
    "\n",
    "    for rv in range(6):\n",
    "        ax1 = axes[rv, col]\n",
    "    \n",
    "        color='grey'\n",
    "        ax1.axhline(y=0, color='black', linewidth=0.8, linestyle='-')\n",
    "\n",
    "        for i in range(1, new_data.shape[0]):\n",
    "            if scenario_num == 2:  # special handling\n",
    "                trial_num1 = get_matching_base_case_trial_num(i, scenario_num, 'similarity_bias')  # concord\n",
    "                trial_num2 = get_matching_base_case_trial_num(i, scenario_num, 'attractive_repulsive')  # PA\n",
    "                if trial_num1 is not None and trial_num2 is not None:            \n",
    "                    fraction_concord = float(design_dfs[scenario_num].loc[i, 'fraction_concord'])\n",
    "                    old_y = fraction_concord * old_data[trial_num1, MIN_T+1:MAX_T+1, rv, INDEX_MEANS] + (1-fraction_concord) * old_data[trial_num2, MIN_T+1:MAX_T+1, rv, INDEX_MEANS]\n",
    "                    y = new_data[i, MIN_T+1:MAX_T+1, rv, INDEX_MEANS] - old_y\n",
    "                    ax1.plot(y/old_y*100, marker='', color='grey', linewidth=0.15, alpha=0.50)\n",
    "\n",
    "            else:\n",
    "                matching_trial_num = get_matching_base_case_trial_num(i, scenario_num)\n",
    "                if matching_trial_num is not None:\n",
    "                    old_y = old_data[matching_trial_num, MIN_T+1:MAX_T+1, rv, INDEX_MEANS]\n",
    "                    y = new_data[i, MIN_T+1:MAX_T+1, rv, INDEX_MEANS] - old_y\n",
    "                    ax1.plot(y/old_y*100, marker='', color=color, linewidth=0.15, alpha=0.50)\n",
    "#             break\n",
    "\n",
    "            percent_change_timeseries_container.append(y/old_y*100)\n",
    "\n",
    "        ax1.spines['bottom'].set_visible(False)\n",
    "        ax1.tick_params(axis='x', colors='none', labelsize=6)\n",
    "        \n",
    "        \n",
    "# format axes...\n",
    "\n",
    "for c in range(4):\n",
    "#     axes[5, c].set_xlabel('time step $t$', color='grey')   \n",
    "    \n",
    "    axes[0, c].set_title(f'Scenario {c+1}')\n",
    "    \n",
    "# axes[5, 0].set_xlabel('time step $t$', color='grey')     # only label it once?\n",
    "    \n",
    "pad = 4\n",
    "for r in range(6):\n",
    "    ax = axes[r, 0]\n",
    "    ax.annotate(f'{response_variable_short_labels[r]}', xy=(0, 0.5), \n",
    "#                 xytext=(-ax.yaxis.labelpad - pad, 0),\n",
    "                xytext=(-30, 0),\n",
    "                xycoords='axes fraction',\n",
    "                textcoords='offset points',\n",
    "                size=8, ha='right', va='center')\n",
    "\n",
    "#  customize ticks\n",
    "axes[5, 0].set_yticks([200, 0, -100])\n",
    "        \n",
    "fig1.suptitle('Percent change from corresponding base case data')\n",
    "fig1.tight_layout()\n",
    "fig1.subplots_adjust(top=0.890)"
   ]
  },
  {
   "cell_type": "code",
   "execution_count": 307,
   "metadata": {},
   "outputs": [],
   "source": [
    "fig1.savefig(f'percent_changes_from_base_case.pdf', format='pdf', bbox_inches='tight')"
   ]
  },
  {
   "cell_type": "code",
   "execution_count": null,
   "metadata": {},
   "outputs": [],
   "source": []
  },
  {
   "cell_type": "code",
   "execution_count": 72,
   "metadata": {},
   "outputs": [
    {
     "name": "stdout",
     "output_type": "stream",
     "text": [
      "(11844, 490)\n",
      "3252 less than 10% 0.2745694022289767\n",
      "952 greater than 100% 0.08037825059101655\n"
     ]
    }
   ],
   "source": [
    "# some quick analysis on the percent change data\n",
    "pct = np.array(percent_change_timeseries_container)\n",
    "print(pct.shape)\n",
    "\n",
    "# how many rows are all less than 5%?\n",
    "negligible_threshold = 10 # the data was saved x100, so percent is an integer now\n",
    "row_count = 0\n",
    "for row in pct:\n",
    "    if np.all(np.less(np.abs(row), negligible_threshold)):\n",
    "        row_count += 1\n",
    "\n",
    "print(row_count, f\"less than {negligible_threshold}%\", row_count / pct.shape[0])\n",
    "\n",
    "# how many rows are any greater than 100%\n",
    "big_threshold = 100 # the data was saved x100, so percent is an integer now\n",
    "row_count = 0\n",
    "for row in pct:\n",
    "    if np.any(np.greater_equal(np.abs(row), big_threshold)):\n",
    "        row_count += 1\n",
    "\n",
    "print(row_count, f\"greater than {big_threshold}%\", row_count / pct.shape[0])\n",
    "\n"
   ]
  },
  {
   "cell_type": "markdown",
   "metadata": {},
   "source": [
    "## RV correlations"
   ]
  },
  {
   "cell_type": "code",
   "execution_count": 762,
   "metadata": {
    "scrolled": true
   },
   "outputs": [
    {
     "name": "stdout",
     "output_type": "stream",
     "text": [
      "[[        nan         nan         nan         nan         nan         nan]\n",
      " [-0.96974399         nan         nan         nan         nan         nan]\n",
      " [-0.99087753  0.9866988          nan         nan         nan         nan]\n",
      " [ 0.76550574 -0.7021893  -0.72368325         nan         nan         nan]\n",
      " [-0.84782427  0.80472533  0.82468849 -0.75822033         nan         nan]\n",
      " [-0.92405499  0.83040536  0.86789103 -0.81069519  0.87448351         nan]] (841, 6, 6)\n"
     ]
    }
   ],
   "source": [
    "trial_corrs = np.full((MAX_TRIAL+1, 6, 6), np.nan)\n",
    "\n",
    "for i in range(MIN_TRIAL, MAX_TRIAL+1):\n",
    "    for j in range(6):\n",
    "        for k in range(6):\n",
    "            if j > k:\n",
    "                trial_corrs[i, j, k] = np.corrcoef(data[i, MIN_T:MAX_T+1, (j, k), INDEX_MEANS])[0, 1]\n",
    "\n",
    "print(trial_corrs[1], trial_corrs.shape)"
   ]
  },
  {
   "cell_type": "code",
   "execution_count": 777,
   "metadata": {},
   "outputs": [],
   "source": [
    "trial_corrs_dict = {}\n",
    "\n",
    "for scn in [1,2,3,4]:\n",
    "    scn_data = np.load(scenario_filepaths[scn])\n",
    "    scn_data[0] = np.nan\n",
    "    max_trial = trial_counts[scn]\n",
    "    \n",
    "    trial_corrs_dict[scn] = np.full((max_trial, 6, 6), np.nan)\n",
    "\n",
    "    for i in range(1, max_trial+1):\n",
    "        for j in range(6):\n",
    "            for k in range(6):\n",
    "                if j > k:\n",
    "                    trial_corrs_dict[scn][i-1, j, k] = np.corrcoef(scn_data[i, MIN_T:MAX_T+1, (j, k), INDEX_MEANS])[0, 1]\n",
    "\n",
    "    \n",
    "# also add in base case...\n",
    "old_filepath = 'master_trial_results.npy'\n",
    "old_data = np.load(old_filepath)\n",
    "old_data[0] = np.nan\n",
    "\n",
    "trial_corrs_dict[0] = np.full((len(trial_nums_from_full_design_present_in_nonh_core), 6, 6), np.nan)\n",
    "\n",
    "for i, t in enumerate(trial_nums_from_full_design_present_in_nonh_core):\n",
    "    for j in range(6):\n",
    "        for k in range(6):\n",
    "            if j > k:\n",
    "                trial_corrs_dict[0][i, j, k] = np.corrcoef(old_data[t, MIN_T:MAX_T+1, (j, k), INDEX_MEANS])[0, 1]\n"
   ]
  },
  {
   "cell_type": "code",
   "execution_count": null,
   "metadata": {},
   "outputs": [],
   "source": []
  },
  {
   "cell_type": "code",
   "execution_count": 796,
   "metadata": {
    "scrolled": false
   },
   "outputs": [
    {
     "data": {
      "image/png": "[encoded data removed]",
      "text/plain": [
       "<Figure size 388.543x240.133 with 25 Axes>"
      ]
     },
     "metadata": {},
     "output_type": "display_data"
    }
   ],
   "source": [
    "fig, axes = plt.subplots(5,5, figsize=set_size(textwidth, subplot=[5,5]), sharex=True, sharey=True)\n",
    "\n",
    "bins = np.arange(-1, 1.2, 0.2)\n",
    "bins[5] = 0\n",
    "\n",
    "for scn in [0, 1, 2, 3, 4]:\n",
    "    trial_corrs = trial_corrs_dict[scn]\n",
    "\n",
    "    for j in range(1, 6):\n",
    "        for k in range(6-1):\n",
    "            ax = axes[j-1, k]\n",
    "\n",
    "            if j > k:\n",
    "                corr_data = trial_corrs[1:, j, k]\n",
    "                weights = np.ones_like(corr_data)/corr_data.size\n",
    "                ax.hist(corr_data, bins=bins, weights=weights, linewidth=1, alpha=0.66, color=cmap.colors[scn], histtype='step')\n",
    "                ax.set_xlabel(f'{response_variable_short_labels[j]}, {response_variable_short_labels[k]}', size=8)\n",
    "                ax.get_yaxis().set_visible(False)\n",
    "                ax.spines['left'].set_visible(False)\n",
    "                ax.tick_params(axis='x', colors='grey')\n",
    "\n",
    "            else:\n",
    "                ax.axis('off')\n",
    "\n",
    "            \n",
    "fig.suptitle(f'Distributions of pairwise correlation per trial response variable')\n",
    "fig.tight_layout()"
   ]
  },
  {
   "cell_type": "code",
   "execution_count": 797,
   "metadata": {
    "scrolled": true
   },
   "outputs": [],
   "source": [
    "fig.savefig(f'all_rv_correlation_hist_scenarios.pdf', format='pdf', bbox_inches='tight')    "
   ]
  },
  {
   "cell_type": "markdown",
   "metadata": {},
   "source": [
    "## Cluster analysis but not like that"
   ]
  },
  {
   "cell_type": "code",
   "execution_count": 798,
   "metadata": {},
   "outputs": [
    {
     "name": "stdout",
     "output_type": "stream",
     "text": [
      "old data (scn 0) 168\n",
      "scn  1 840\n",
      "scn  2 378\n",
      "scn  3 84\n",
      "scn  4 672\n",
      "all data 2142\n"
     ]
    }
   ],
   "source": [
    "# # preprocessing/file manip -- only need to do once for whole experiment\n",
    "\n",
    "# load each scenario and join into single array for rv 0\n",
    "\n",
    "rv = 0\n",
    "\n",
    "# old data first \n",
    "old_filepath = 'master_trial_results.npy'\n",
    "data = np.load(old_filepath)\n",
    "data = data[trial_nums_from_full_design_present_in_nonh_core]\n",
    "print(\"old data (scn 0)\", data.shape[0])\n",
    "\n",
    "\n",
    "for scn in [1,2,3,4]:\n",
    "    scn_data = np.load(scenario_filepaths[scn])\n",
    "    scn_data = scn_data[1:]  # remove 0th row, which is always empty\n",
    "    print(\"scn \", scn, scn_data.shape[0])\n",
    "    \n",
    "    data = np.concatenate((data, scn_data))\n",
    "\n",
    "print(\"all data\", data.shape[0])\n",
    "    \n",
    "np.save(f'split_master_trial_results_rv_{rv}_all_scenarios.npy', data[:, :, rv, INDEX_MEANS] )"
   ]
  },
  {
   "cell_type": "code",
   "execution_count": 1000,
   "metadata": {},
   "outputs": [],
   "source": [
    "# go run DTW in R...\n",
    "# ...ok...\n",
    "    \n",
    "# construct dataframe with scenario id column\n",
    "clusters_df = pd.DataFrame(data=-1, index=list(range(1, 2142+1)), columns=['scenario', 'cluster_id'], dtype=int)\n",
    "scenario_stripes = [\n",
    "    (1, 168, 0),\n",
    "    (168+1, 168+1+840-1, 1),\n",
    "    (168+1+840-1+1, 168+1+840-1+1+378-1, 2), \n",
    "    (168+1+840-1+1+378-1+1, 168+1+840-1+1+378-1+1+84-1, 3),\n",
    "    (168+1+840-1+1+378-1+1+84-1+1, 168+1+840-1+1+378-1+1+84-1+1+672-1, 4)\n",
    "]\n",
    "\n",
    "for a, b, scn in scenario_stripes:\n",
    "    clusters_df.loc[a:b+1, 'scenario'] = scn"
   ]
  },
  {
   "cell_type": "code",
   "execution_count": 1001,
   "metadata": {},
   "outputs": [],
   "source": [
    "# load R's cluster indices from file\n",
    "num_clusters = 5\n",
    "with open(f'dtw_{num_clusters}_clusters_rv_{rv}_all_scenarios.csv', 'r') as f:\n",
    "    cluster_ids = [int(i) for i in f.readline()[:-1].split(',')]\n",
    "    \n",
    "clusters_df['cluster_id'] = cluster_ids\n",
    "clusters_df['cluster_id'] -= 1  # make \"base-0\""
   ]
  },
  {
   "cell_type": "code",
   "execution_count": 1002,
   "metadata": {},
   "outputs": [
    {
     "data": {
      "text/plain": [
       "array([0, 1, 2, 3, 4], dtype=int64)"
      ]
     },
     "execution_count": 1002,
     "metadata": {},
     "output_type": "execute_result"
    }
   ],
   "source": [
    "clusters_df['cluster_id'].unique()"
   ]
  },
  {
   "cell_type": "code",
   "execution_count": 1006,
   "metadata": {},
   "outputs": [
    {
     "name": "stdout",
     "output_type": "stream",
     "text": [
      "Assigned Cluster    0    1    2    3    4\n",
      "Actual Scenario                          \n",
      "0                  44   33   22   19   50\n",
      "1                 174  234  102  105  225\n",
      "2                  94  152   77    1   54\n",
      "3                  22   16   11   10   25\n",
      "4                  77  104   94   83  314\n"
     ]
    }
   ],
   "source": [
    "# create confusion matrix between actual scenario id and cluster id\n",
    "\n",
    "confusion_mtx = pd.crosstab(clusters_df['scenario'], clusters_df['cluster_id'], rownames=['Actual Scenario'], colnames=['Assigned Cluster'], margins=False)\n",
    "normalized_confusion_mtx = confusion_mtx / confusion_mtx.sum(axis=1).to_numpy().reshape(-1, 1)\n",
    "print(confusion_mtx)"
   ]
  },
  {
   "cell_type": "code",
   "execution_count": 1007,
   "metadata": {},
   "outputs": [
    {
     "name": "stdout",
     "output_type": "stream",
     "text": [
      "0.31699346405228757 (0, 1, 2, 3, 4)\n"
     ]
    }
   ],
   "source": [
    "from itertools import permutations \n",
    "\n",
    "best_accy = -1\n",
    "best_perm = None\n",
    "grand_sum = confusion_mtx.sum().sum()\n",
    "nums = [0, 1, 2, 3, 4]\n",
    "for perm in permutations(nums):\n",
    "    test_accy = sum([confusion_mtx.loc[i, j] for i, j in zip(nums, perm)]) / grand_sum\n",
    "#     print(perm, test_accy)\n",
    "    if test_accy > best_accy:\n",
    "        best_accy = test_accy\n",
    "        best_perm = perm\n",
    "\n",
    "print(best_accy, best_perm)\n"
   ]
  },
  {
   "cell_type": "code",
   "execution_count": 1005,
   "metadata": {},
   "outputs": [],
   "source": [
    "# choose different cluster label to reduce confusion (R doesn't know about scenario numbers)\n",
    "def apply_permutation(perm_dict, df, col):\n",
    "    df['tmp'] = None\n",
    "    for k, v in perm_dict.items():\n",
    "        df.loc[df[col] == k, 'tmp'] = v\n",
    "        \n",
    "    df[col] = df['tmp']\n",
    "    df.drop('tmp', axis=1, inplace=True)    \n",
    "    \n",
    "    \n",
    "perm_dict = {0:3,\n",
    "             1:4, \n",
    "             2:2, \n",
    "             3:0, \n",
    "             4:1}  # k:v = cluster id assigned in R:cluster id I'm switching that to\n",
    "apply_permutation(perm_dict, clusters_df, 'cluster_id')\n",
    "\n",
    "# ... then rebuild confusion matrix"
   ]
  },
  {
   "cell_type": "code",
   "execution_count": null,
   "metadata": {},
   "outputs": [],
   "source": []
  },
  {
   "cell_type": "code",
   "execution_count": 1008,
   "metadata": {},
   "outputs": [
    {
     "data": {
      "image/png": "[encoded data removed]",
      "text/plain": [
       "<Figure size 291.407x180.1 with 2 Axes>"
      ]
     },
     "metadata": {
      "needs_background": "light"
     },
     "output_type": "display_data"
    }
   ],
   "source": [
    "fig, ax = plt.subplots(1, 1, figsize=set_size(textwidth, fraction=0.75))\n",
    "\n",
    "accuracy = sum([confusion_mtx.loc[i, i] for i in [0,1,2,3,4]]) / confusion_mtx.sum().sum()\n",
    "\n",
    "sns.heatmap(confusion_mtx, ax=ax, cmap=plt.cm.Blues, square=True, linewidths=0.25, \n",
    "            cbar_kws={'shrink':0.80, 'ticks':[0, 100, 200, 300]},            \n",
    "            annot=True, fmt=\"d\", annot_kws={'fontsize':6, 'alpha':0.85})\n",
    "ax.set_yticklabels(ax.get_yticklabels(), rotation=0)\n",
    "ax.set_title(f'Confusion matrix, no normalization\\n(accuracy $={accuracy:.2f}$)');\n"
   ]
  },
  {
   "cell_type": "code",
   "execution_count": 1009,
   "metadata": {},
   "outputs": [],
   "source": [
    "fig.savefig(f'confusion_matrix_cluster_scenarios.pdf', format='pdf', bbox_inches='tight')"
   ]
  },
  {
   "cell_type": "code",
   "execution_count": 1010,
   "metadata": {
    "scrolled": true
   },
   "outputs": [
    {
     "data": {
      "text/plain": [
       "Text(0.5, 1.0, 'Normalized confusion matrix\\n(accuracy=0.32)')"
      ]
     },
     "execution_count": 1010,
     "metadata": {},
     "output_type": "execute_result"
    },
    {
     "data": {
      "image/png": "[encoded data removed]",
      "text/plain": [
       "<Figure size 291.407x180.1 with 2 Axes>"
      ]
     },
     "metadata": {
      "needs_background": "light"
     },
     "output_type": "display_data"
    }
   ],
   "source": [
    "fig, ax = plt.subplots(1, 1, figsize=set_size(textwidth, fraction=0.75))\n",
    "\n",
    "# want to calculate accy off of raw values, not normalized.\n",
    "# accuracy = sum([normalized_confusion_mtx.loc[i, i] for i in [0,1,2,3,4]]) / normalized_confusion_mtx.sum().sum()\n",
    "\n",
    "sns.heatmap(normalized_confusion_mtx, ax=ax, cmap=plt.cm.Blues, square=True, linewidths=0.25,\n",
    "            cbar_kws={'shrink':0.80, 'ticks':[0.0, 0.15, 0.3, 0.45]},          \n",
    "           annot=True, fmt=\".2f\", annot_kws={'fontsize':6, 'alpha':0.85})\n",
    "ax.set_yticklabels(ax.get_yticklabels(), rotation=0)\n",
    "ax.set_title(f'Normalized confusion matrix\\n(accuracy={accuracy:.2f})')"
   ]
  },
  {
   "cell_type": "code",
   "execution_count": 1011,
   "metadata": {},
   "outputs": [],
   "source": [
    "fig.savefig(f'confusion_matrix_normalized_cluster_scenarios.pdf', format='pdf', bbox_inches='tight')"
   ]
  },
  {
   "cell_type": "code",
   "execution_count": 1012,
   "metadata": {},
   "outputs": [
    {
     "name": "stdout",
     "output_type": "stream",
     "text": [
      "Assigned Cluster\n",
      "0    411\n",
      "1    539\n",
      "2    306\n",
      "3    218\n",
      "4    668\n",
      "dtype: int64 Actual Scenario\n",
      "0    168\n",
      "1    840\n",
      "2    378\n",
      "3     84\n",
      "4    672\n",
      "dtype: int64 Assigned Cluster\n",
      "0    2.446429\n",
      "1    0.641667\n",
      "2    0.809524\n",
      "3    2.595238\n",
      "4    0.994048\n",
      "dtype: float64\n"
     ]
    }
   ],
   "source": [
    "# compare cluster sizes\n",
    "print(confusion_mtx.sum(axis=0), confusion_mtx.sum(axis=1), confusion_mtx.sum(axis=0)/confusion_mtx.sum(axis=1))"
   ]
  },
  {
   "cell_type": "code",
   "execution_count": null,
   "metadata": {},
   "outputs": [],
   "source": []
  }
 ],
 "metadata": {
  "kernelspec": {
   "display_name": "Python 3",
   "language": "python",
   "name": "python3"
  },
  "language_info": {
   "codemirror_mode": {
    "name": "ipython",
    "version": 3
   },
   "file_extension": ".py",
   "mimetype": "text/x-python",
   "name": "python",
   "nbconvert_exporter": "python",
   "pygments_lexer": "ipython3",
   "version": "3.6.8"
  }
 },
 "nbformat": 4,
 "nbformat_minor": 2
}
