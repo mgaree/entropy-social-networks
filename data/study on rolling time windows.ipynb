{
 "cells": [
  {
   "cell_type": "code",
   "execution_count": 1,
   "metadata": {},
   "outputs": [],
   "source": [
    "import numpy as np\n",
    "import pandas as pd\n",
    "import seaborn as sns\n",
    "import matplotlib.pyplot as plt\n",
    "\n",
    "plt.style.use('seaborn-colorblind')\n",
    "\n",
    "from my_plot import set_size, setup_mpl_for_latex\n",
    "setup_mpl_for_latex()\n",
    "\n",
    "textwidth = 390  ###"
   ]
  },
  {
   "cell_type": "code",
   "execution_count": 2,
   "metadata": {},
   "outputs": [],
   "source": [
    "response_variable_labels = {\n",
    "    0: 'relative entropy, binning (RE-B)',\n",
    "    1: 'mutual information, binning (MI-B)',\n",
    "    2: 'transfer entropy, binning (TE-B)',\n",
    "    3: 'relative entropy, symbolic approach (RE-S)',\n",
    "    4: 'mutual information, symbolic approach (MI-S)',\n",
    "    5: 'transfer entropy, symbolic approach (TE-S)',\n",
    "    }\n",
    "response_variable_short_labels = {\n",
    "    0: 'RE-B',\n",
    "    1: 'MI-B',\n",
    "    2: 'TE-B',\n",
    "    3: 'RE-S',\n",
    "    4: 'MI-S',\n",
    "    5: 'TE-S',\n",
    "    }\n",
    "# array indexes\n",
    "BINNING_RELATIVE  = 0\n",
    "BINNING_MUTUAL    = 1\n",
    "BINNING_TRANSFER  = 2\n",
    "SYMBOLIC_RELATIVE = 3\n",
    "SYMBOLIC_MUTUAL   = 4\n",
    "SYMBOLIC_TRANSFER = 5\n",
    "\n",
    "MIN_TRIAL, MAX_TRIAL = 1, 1800\n",
    "MIN_T, MAX_T = 0, 500\n",
    "\n",
    "INDEX_MEANS, INDEX_STDEV = 0, 1"
   ]
  },
  {
   "cell_type": "code",
   "execution_count": 7,
   "metadata": {},
   "outputs": [],
   "source": [
    "s = ['window_500', 'window_2', 'window_10', 'window_50', 'window_100', 'window_250']\n",
    "\n",
    "data = []\n",
    "\n",
    "trial = 151\n",
    "\n",
    "path = r'C:\\Users\\Mike\\Desktop\\tmp\\run_trial_data for supporting revisions'\n",
    "\n",
    "for suffix in s:\n",
    "    x = np.load(r'{}\\replication_results_{}_1.design__{}.npy'.format(path, trial, suffix))\n",
    "    data.append(x)"
   ]
  },
  {
   "cell_type": "code",
   "execution_count": 8,
   "metadata": {},
   "outputs": [],
   "source": [
    "\n",
    "rv = 0"
   ]
  },
  {
   "cell_type": "code",
   "execution_count": 9,
   "metadata": {},
   "outputs": [
    {
     "data": {
      "image/png": "[encoded data removed]",
      "text/plain": [
       "<Figure size 388.543x240.133 with 1 Axes>"
      ]
     },
     "metadata": {
      "needs_background": "dark"
     },
     "output_type": "display_data"
    }
   ],
   "source": [
    "fig1, ax1 = plt.subplots(1, 1, figsize=set_size(textwidth))\n",
    "\n",
    "t_max = 490\n",
    "for i, window_data in enumerate(data):\n",
    "    x = window_data[0:t_max, rv, 0]\n",
    "    ax1.plot(x, marker='', color='grey', linewidth=1, alpha=0.5)\n",
    "    ax1.annotate(s[i].replace('_', '\\_'), (t_max+1.5, x[-1]), fontsize=8, ha='left', va='center', annotation_clip=False, color='black')\n",
    "#     break ###\n",
    "\n",
    "ax1.set_title(f'{response_variable_labels[rv]}, trial {trial} rep 1, for different time windows')\n",
    "ax1.set_xlabel('time step $t$', color='grey')\n",
    "\n",
    "# more decoration\n",
    "ax1.spines['bottom'].set_color('grey')\n",
    "ax1.spines['left'].set_color('grey')\n",
    "\n",
    "ax1.tick_params(axis='x', colors='grey')\n",
    "ax1.tick_params(axis='y', colors='grey')\n",
    "\n",
    "ax1.set_ylim((2.7,5.7))\n",
    "\n",
    "fig1.savefig(f'{response_variable_labels[rv]}_rolling_windows_trial_{trial}-1.pdf', format='pdf', bbox_inches='tight')"
   ]
  },
  {
   "cell_type": "code",
   "execution_count": null,
   "metadata": {},
   "outputs": [],
   "source": []
  },
  {
   "cell_type": "code",
   "execution_count": null,
   "metadata": {},
   "outputs": [],
   "source": [
    "x = np.load(r'{}\\replication_raw_data_151_1.design.npy'.format(path))\n",
    "i = np.arange(1,101)\n",
    "\n",
    "fig1, ax1 = plt.subplots(1, 1, figsize=set_size(textwidth))\n",
    "\n",
    "for i in range(100):\n",
    "    xx = x[i, 0:420]\n",
    "    ax1.plot(xx, marker='', color='grey', linewidth=0.25, alpha=0.5)\n",
    "\n",
    "# more decoration\n",
    "ax1.spines['bottom'].set_color('grey')\n",
    "ax1.spines['left'].set_color('grey')\n",
    "\n",
    "ax1.tick_params(axis='x', colors='grey')\n",
    "ax1.tick_params(axis='y', colors='grey')\n",
    "\n",
    "# fig1.savefig(f'{response_variable_labels[rv]}_rolling_windows_trial_151-1.pdf', format='pdf', bbox_inches='tight')"
   ]
  },
  {
   "cell_type": "code",
   "execution_count": null,
   "metadata": {},
   "outputs": [],
   "source": [
    "np.unique(x[:,490]).size"
   ]
  },
  {
   "cell_type": "code",
   "execution_count": null,
   "metadata": {},
   "outputs": [],
   "source": [
    "np.all(np.load(r'{}\\replication_raw_data_1201_1.design.npy'.format(path))==np.load(r'{}\\replication_raw_data_1_1.design.npy'.format(path)))"
   ]
  },
  {
   "cell_type": "code",
   "execution_count": null,
   "metadata": {},
   "outputs": [],
   "source": []
  }
 ],
 "metadata": {
  "kernelspec": {
   "display_name": "Python 3",
   "language": "python",
   "name": "python3"
  },
  "language_info": {
   "codemirror_mode": {
    "name": "ipython",
    "version": 3
   },
   "file_extension": ".py",
   "mimetype": "text/x-python",
   "name": "python",
   "nbconvert_exporter": "python",
   "pygments_lexer": "ipython3",
   "version": "3.6.8"
  }
 },
 "nbformat": 4,
 "nbformat_minor": 2
}
